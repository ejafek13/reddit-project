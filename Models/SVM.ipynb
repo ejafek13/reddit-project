{
 "cells": [
  {
   "cell_type": "code",
   "execution_count": 1,
   "metadata": {
    "ExecuteTime": {
     "end_time": "2020-01-29T19:06:33.932328Z",
     "start_time": "2020-01-29T19:06:32.752042Z"
    }
   },
   "outputs": [],
   "source": [
    "import pandas as pd\n",
    "import numpy as np\n",
    "import matplotlib.pyplot as plt\n",
    "from sklearn.svm import SVC\n",
    "from sklearn.model_selection import train_test_split\n",
    "from sklearn.model_selection import GridSearchCV\n",
    "from sklearn.feature_extraction.text import CountVectorizer, TfidfVectorizer\n",
    "from sklearn.pipeline import Pipeline"
   ]
  },
  {
   "cell_type": "code",
   "execution_count": 2,
   "metadata": {
    "ExecuteTime": {
     "end_time": "2020-01-29T19:06:34.014197Z",
     "start_time": "2020-01-29T19:06:33.933905Z"
    }
   },
   "outputs": [],
   "source": [
    "df = pd.read_csv('./Data/no_removed.csv')"
   ]
  },
  {
   "cell_type": "code",
   "execution_count": 3,
   "metadata": {
    "ExecuteTime": {
     "end_time": "2020-01-29T19:06:34.033119Z",
     "start_time": "2020-01-29T19:06:34.015906Z"
    }
   },
   "outputs": [
    {
     "data": {
      "text/html": [
       "<div>\n",
       "<style scoped>\n",
       "    .dataframe tbody tr th:only-of-type {\n",
       "        vertical-align: middle;\n",
       "    }\n",
       "\n",
       "    .dataframe tbody tr th {\n",
       "        vertical-align: top;\n",
       "    }\n",
       "\n",
       "    .dataframe thead th {\n",
       "        text-align: right;\n",
       "    }\n",
       "</style>\n",
       "<table border=\"1\" class=\"dataframe\">\n",
       "  <thead>\n",
       "    <tr style=\"text-align: right;\">\n",
       "      <th></th>\n",
       "      <th>title</th>\n",
       "      <th>selftext</th>\n",
       "      <th>subreddit</th>\n",
       "      <th>text</th>\n",
       "      <th>text_clean</th>\n",
       "      <th>text_clean_lemmatized</th>\n",
       "      <th>text_lemmatized</th>\n",
       "    </tr>\n",
       "  </thead>\n",
       "  <tbody>\n",
       "    <tr>\n",
       "      <th>0</th>\n",
       "      <td>How much did you spend on an engagement ring?</td>\n",
       "      <td>I'm already aware the (percentage) of your sal...</td>\n",
       "      <td>0</td>\n",
       "      <td>How much did you spend on an engagement ring?I...</td>\n",
       "      <td>how much did you spend on an engagement ring?i...</td>\n",
       "      <td>how much did you spend on an engagement ring?i...</td>\n",
       "      <td>How much did you spend on an engagement ring?I...</td>\n",
       "    </tr>\n",
       "    <tr>\n",
       "      <th>1</th>\n",
       "      <td>why do guys sag their pants?</td>\n",
       "      <td>NaN</td>\n",
       "      <td>0</td>\n",
       "      <td>why do guys sag their pants?</td>\n",
       "      <td>why do guys sag their pants?</td>\n",
       "      <td>why do guy sag their pants?</td>\n",
       "      <td>why do guy sag their pants?</td>\n",
       "    </tr>\n",
       "    <tr>\n",
       "      <th>2</th>\n",
       "      <td>How common is it for your girl to snoop in you...</td>\n",
       "      <td>I'm in my late 20s and most girls I've dated i...</td>\n",
       "      <td>0</td>\n",
       "      <td>How common is it for your girl to snoop in you...</td>\n",
       "      <td>how common is it for your girl to snoop in you...</td>\n",
       "      <td>how common is it for your girl to snoop in you...</td>\n",
       "      <td>How common is it for your girl to snoop in you...</td>\n",
       "    </tr>\n",
       "    <tr>\n",
       "      <th>3</th>\n",
       "      <td>When was the last time you lost cash you were ...</td>\n",
       "      <td>I'm a little mad at myself.  I bought takeout ...</td>\n",
       "      <td>0</td>\n",
       "      <td>When was the last time you lost cash you were ...</td>\n",
       "      <td>when was the last time you lost cash you were ...</td>\n",
       "      <td>when wa the last time you lost cash you were c...</td>\n",
       "      <td>When wa the last time you lost cash you were c...</td>\n",
       "    </tr>\n",
       "    <tr>\n",
       "      <th>4</th>\n",
       "      <td>Would you enter into a relationship with a gir...</td>\n",
       "      <td>If no, what other things does she need to me r...</td>\n",
       "      <td>0</td>\n",
       "      <td>Would you enter into a relationship with a gir...</td>\n",
       "      <td>would you enter into a relationship with a gir...</td>\n",
       "      <td>would you enter into a relationship with a gir...</td>\n",
       "      <td>Would you enter into a relationship with a gir...</td>\n",
       "    </tr>\n",
       "    <tr>\n",
       "      <th>...</th>\n",
       "      <td>...</td>\n",
       "      <td>...</td>\n",
       "      <td>...</td>\n",
       "      <td>...</td>\n",
       "      <td>...</td>\n",
       "      <td>...</td>\n",
       "      <td>...</td>\n",
       "    </tr>\n",
       "    <tr>\n",
       "      <th>5434</th>\n",
       "      <td>What's the most embarrassing thing that happen...</td>\n",
       "      <td>NaN</td>\n",
       "      <td>1</td>\n",
       "      <td>What's the most embarrassing thing that happen...</td>\n",
       "      <td>whats the most embarrassing thing that happene...</td>\n",
       "      <td>whats the most embarrassing thing that happene...</td>\n",
       "      <td>What's the most embarrassing thing that happen...</td>\n",
       "    </tr>\n",
       "    <tr>\n",
       "      <th>5435</th>\n",
       "      <td>Ladies what are your thoughts on guys who give...</td>\n",
       "      <td>NaN</td>\n",
       "      <td>1</td>\n",
       "      <td>Ladies what are your thoughts on guys who give...</td>\n",
       "      <td>ladies what are your thoughts on guys who give...</td>\n",
       "      <td>lady what are your thought on guy who give foo...</td>\n",
       "      <td>Ladies what are your thought on guy who give f...</td>\n",
       "    </tr>\n",
       "    <tr>\n",
       "      <th>5436</th>\n",
       "      <td>Executive/personal assistants, what can you te...</td>\n",
       "      <td>Edited to move response to comments</td>\n",
       "      <td>1</td>\n",
       "      <td>Executive/personal assistants, what can you te...</td>\n",
       "      <td>executivepersonal assistants what can you tell...</td>\n",
       "      <td>executivepersonal assistant what can you tell ...</td>\n",
       "      <td>Executive/personal assistants, what can you te...</td>\n",
       "    </tr>\n",
       "    <tr>\n",
       "      <th>5437</th>\n",
       "      <td>What’s one thing you’ve added or removed from ...</td>\n",
       "      <td>NaN</td>\n",
       "      <td>1</td>\n",
       "      <td>What’s one thing you’ve added or removed from ...</td>\n",
       "      <td>whats one thing youve added or removed from yo...</td>\n",
       "      <td>whats one thing youve added or removed from yo...</td>\n",
       "      <td>What’s one thing you’ve added or removed from ...</td>\n",
       "    </tr>\n",
       "    <tr>\n",
       "      <th>5438</th>\n",
       "      <td>(Stolen from AskMen) What's the weirdest socia...</td>\n",
       "      <td>NaN</td>\n",
       "      <td>1</td>\n",
       "      <td>(Stolen from AskMen) What's the weirdest socia...</td>\n",
       "      <td>stolen from askmen whats the weirdest social i...</td>\n",
       "      <td>stolen from askmen whats the weirdest social i...</td>\n",
       "      <td>(Stolen from AskMen) What's the weirdest socia...</td>\n",
       "    </tr>\n",
       "  </tbody>\n",
       "</table>\n",
       "<p>5439 rows × 7 columns</p>\n",
       "</div>"
      ],
      "text/plain": [
       "                                                  title  \\\n",
       "0         How much did you spend on an engagement ring?   \n",
       "1                          why do guys sag their pants?   \n",
       "2     How common is it for your girl to snoop in you...   \n",
       "3     When was the last time you lost cash you were ...   \n",
       "4     Would you enter into a relationship with a gir...   \n",
       "...                                                 ...   \n",
       "5434  What's the most embarrassing thing that happen...   \n",
       "5435  Ladies what are your thoughts on guys who give...   \n",
       "5436  Executive/personal assistants, what can you te...   \n",
       "5437  What’s one thing you’ve added or removed from ...   \n",
       "5438  (Stolen from AskMen) What's the weirdest socia...   \n",
       "\n",
       "                                               selftext  subreddit  \\\n",
       "0     I'm already aware the (percentage) of your sal...          0   \n",
       "1                                                   NaN          0   \n",
       "2     I'm in my late 20s and most girls I've dated i...          0   \n",
       "3     I'm a little mad at myself.  I bought takeout ...          0   \n",
       "4     If no, what other things does she need to me r...          0   \n",
       "...                                                 ...        ...   \n",
       "5434                                                NaN          1   \n",
       "5435                                                NaN          1   \n",
       "5436                Edited to move response to comments          1   \n",
       "5437                                                NaN          1   \n",
       "5438                                                NaN          1   \n",
       "\n",
       "                                                   text  \\\n",
       "0     How much did you spend on an engagement ring?I...   \n",
       "1                          why do guys sag their pants?   \n",
       "2     How common is it for your girl to snoop in you...   \n",
       "3     When was the last time you lost cash you were ...   \n",
       "4     Would you enter into a relationship with a gir...   \n",
       "...                                                 ...   \n",
       "5434  What's the most embarrassing thing that happen...   \n",
       "5435  Ladies what are your thoughts on guys who give...   \n",
       "5436  Executive/personal assistants, what can you te...   \n",
       "5437  What’s one thing you’ve added or removed from ...   \n",
       "5438  (Stolen from AskMen) What's the weirdest socia...   \n",
       "\n",
       "                                             text_clean  \\\n",
       "0     how much did you spend on an engagement ring?i...   \n",
       "1                          why do guys sag their pants?   \n",
       "2     how common is it for your girl to snoop in you...   \n",
       "3     when was the last time you lost cash you were ...   \n",
       "4     would you enter into a relationship with a gir...   \n",
       "...                                                 ...   \n",
       "5434  whats the most embarrassing thing that happene...   \n",
       "5435  ladies what are your thoughts on guys who give...   \n",
       "5436  executivepersonal assistants what can you tell...   \n",
       "5437  whats one thing youve added or removed from yo...   \n",
       "5438  stolen from askmen whats the weirdest social i...   \n",
       "\n",
       "                                  text_clean_lemmatized  \\\n",
       "0     how much did you spend on an engagement ring?i...   \n",
       "1                           why do guy sag their pants?   \n",
       "2     how common is it for your girl to snoop in you...   \n",
       "3     when wa the last time you lost cash you were c...   \n",
       "4     would you enter into a relationship with a gir...   \n",
       "...                                                 ...   \n",
       "5434  whats the most embarrassing thing that happene...   \n",
       "5435  lady what are your thought on guy who give foo...   \n",
       "5436  executivepersonal assistant what can you tell ...   \n",
       "5437  whats one thing youve added or removed from yo...   \n",
       "5438  stolen from askmen whats the weirdest social i...   \n",
       "\n",
       "                                        text_lemmatized  \n",
       "0     How much did you spend on an engagement ring?I...  \n",
       "1                           why do guy sag their pants?  \n",
       "2     How common is it for your girl to snoop in you...  \n",
       "3     When wa the last time you lost cash you were c...  \n",
       "4     Would you enter into a relationship with a gir...  \n",
       "...                                                 ...  \n",
       "5434  What's the most embarrassing thing that happen...  \n",
       "5435  Ladies what are your thought on guy who give f...  \n",
       "5436  Executive/personal assistants, what can you te...  \n",
       "5437  What’s one thing you’ve added or removed from ...  \n",
       "5438  (Stolen from AskMen) What's the weirdest socia...  \n",
       "\n",
       "[5439 rows x 7 columns]"
      ]
     },
     "execution_count": 3,
     "metadata": {},
     "output_type": "execute_result"
    }
   ],
   "source": [
    "df"
   ]
  },
  {
   "cell_type": "code",
   "execution_count": 4,
   "metadata": {
    "ExecuteTime": {
     "end_time": "2020-01-29T19:06:34.036956Z",
     "start_time": "2020-01-29T19:06:34.034622Z"
    }
   },
   "outputs": [],
   "source": [
    "x = df['text']\n",
    "y = df['subreddit']"
   ]
  },
  {
   "cell_type": "code",
   "execution_count": 5,
   "metadata": {
    "ExecuteTime": {
     "end_time": "2020-01-29T19:06:34.045438Z",
     "start_time": "2020-01-29T19:06:34.038194Z"
    }
   },
   "outputs": [],
   "source": [
    "x_train, x_test, y_train, y_test = train_test_split(x, y, random_state = 13, stratify = y,) "
   ]
  },
  {
   "cell_type": "code",
   "execution_count": 6,
   "metadata": {
    "ExecuteTime": {
     "end_time": "2020-01-29T19:06:34.049665Z",
     "start_time": "2020-01-29T19:06:34.046818Z"
    }
   },
   "outputs": [],
   "source": [
    "pipe = Pipeline([\n",
    "    ('tf', TfidfVectorizer(max_df = .8, min_df = 2, stop_words='english')),\n",
    "('scv', SVC(gamma = 'scale', kernel='rbf'))\n",
    "])"
   ]
  },
  {
   "cell_type": "code",
   "execution_count": 7,
   "metadata": {
    "ExecuteTime": {
     "end_time": "2020-01-29T19:06:34.053590Z",
     "start_time": "2020-01-29T19:06:34.050936Z"
    }
   },
   "outputs": [],
   "source": [
    "tf = TfidfVectorizer(max_df = .8, min_df = 2, stop_words='english', max_features=2000)"
   ]
  },
  {
   "cell_type": "code",
   "execution_count": 8,
   "metadata": {
    "ExecuteTime": {
     "end_time": "2020-01-29T19:06:34.059130Z",
     "start_time": "2020-01-29T19:06:34.055814Z"
    }
   },
   "outputs": [],
   "source": [
    "scv = SVC(gamma = 'scale', kernel='rbf')"
   ]
  },
  {
   "cell_type": "code",
   "execution_count": 9,
   "metadata": {
    "ExecuteTime": {
     "end_time": "2020-01-29T19:06:34.228705Z",
     "start_time": "2020-01-29T19:06:34.061592Z"
    }
   },
   "outputs": [],
   "source": [
    "x_train_tf = tf.fit_transform(x_train)"
   ]
  },
  {
   "cell_type": "code",
   "execution_count": 10,
   "metadata": {
    "ExecuteTime": {
     "end_time": "2020-01-29T19:06:34.281637Z",
     "start_time": "2020-01-29T19:06:34.229955Z"
    }
   },
   "outputs": [],
   "source": [
    "x_test_tf = tf.transform(x_test)"
   ]
  },
  {
   "cell_type": "code",
   "execution_count": 11,
   "metadata": {
    "ExecuteTime": {
     "end_time": "2020-01-29T19:07:10.555900Z",
     "start_time": "2020-01-29T19:06:34.282988Z"
    }
   },
   "outputs": [
    {
     "data": {
      "text/plain": [
       "SVC(C=1.0, cache_size=200, class_weight=None, coef0=0.0,\n",
       "    decision_function_shape='ovr', degree=3, gamma='scale', kernel='rbf',\n",
       "    max_iter=-1, probability=False, random_state=None, shrinking=True,\n",
       "    tol=0.001, verbose=False)"
      ]
     },
     "execution_count": 11,
     "metadata": {},
     "output_type": "execute_result"
    }
   ],
   "source": [
    "scv.fit(x_train_tf.toarray(), y_train)"
   ]
  },
  {
   "cell_type": "code",
   "execution_count": 12,
   "metadata": {
    "ExecuteTime": {
     "end_time": "2020-01-29T19:07:43.168668Z",
     "start_time": "2020-01-29T19:07:10.557666Z"
    }
   },
   "outputs": [
    {
     "data": {
      "text/plain": [
       "0.9494974258396666"
      ]
     },
     "execution_count": 12,
     "metadata": {},
     "output_type": "execute_result"
    }
   ],
   "source": [
    "scv.score(x_train_tf.toarray(), y_train)"
   ]
  },
  {
   "cell_type": "code",
   "execution_count": 13,
   "metadata": {
    "ExecuteTime": {
     "end_time": "2020-01-29T19:07:54.127743Z",
     "start_time": "2020-01-29T19:07:43.170327Z"
    }
   },
   "outputs": [
    {
     "data": {
      "text/plain": [
       "0.6727941176470589"
      ]
     },
     "execution_count": 13,
     "metadata": {},
     "output_type": "execute_result"
    }
   ],
   "source": [
    "scv.score(x_test_tf.toarray(), y_test)"
   ]
  },
  {
   "cell_type": "code",
   "execution_count": 14,
   "metadata": {
    "ExecuteTime": {
     "end_time": "2020-01-29T19:07:54.132720Z",
     "start_time": "2020-01-29T19:07:54.129672Z"
    }
   },
   "outputs": [],
   "source": [
    "params = {\n",
    "    'C':[1, .5, 2],\n",
    "}"
   ]
  },
  {
   "cell_type": "code",
   "execution_count": 15,
   "metadata": {
    "ExecuteTime": {
     "end_time": "2020-01-29T19:07:54.140111Z",
     "start_time": "2020-01-29T19:07:54.134524Z"
    },
    "scrolled": true
   },
   "outputs": [],
   "source": [
    "gs = GridSearchCV(scv, params, cv = 5)"
   ]
  },
  {
   "cell_type": "code",
   "execution_count": 16,
   "metadata": {
    "ExecuteTime": {
     "end_time": "2020-01-29T19:16:39.241699Z",
     "start_time": "2020-01-29T19:07:54.141308Z"
    }
   },
   "outputs": [
    {
     "data": {
      "text/plain": [
       "GridSearchCV(cv=5, error_score='raise-deprecating',\n",
       "             estimator=SVC(C=1.0, cache_size=200, class_weight=None, coef0=0.0,\n",
       "                           decision_function_shape='ovr', degree=3,\n",
       "                           gamma='scale', kernel='rbf', max_iter=-1,\n",
       "                           probability=False, random_state=None, shrinking=True,\n",
       "                           tol=0.001, verbose=False),\n",
       "             iid='warn', n_jobs=None, param_grid={'C': [1, 0.5, 2]},\n",
       "             pre_dispatch='2*n_jobs', refit=True, return_train_score=False,\n",
       "             scoring=None, verbose=0)"
      ]
     },
     "execution_count": 16,
     "metadata": {},
     "output_type": "execute_result"
    }
   ],
   "source": [
    "gs.fit(x_train_tf.toarray(), y_train)"
   ]
  },
  {
   "cell_type": "code",
   "execution_count": 17,
   "metadata": {
    "ExecuteTime": {
     "end_time": "2020-01-29T19:17:15.542837Z",
     "start_time": "2020-01-29T19:16:39.243031Z"
    }
   },
   "outputs": [
    {
     "data": {
      "text/plain": [
       "0.9494974258396666"
      ]
     },
     "execution_count": 17,
     "metadata": {},
     "output_type": "execute_result"
    }
   ],
   "source": [
    "scv.score(x_train_tf.toarray(), y_train)"
   ]
  },
  {
   "cell_type": "code",
   "execution_count": 18,
   "metadata": {
    "ExecuteTime": {
     "end_time": "2020-01-29T19:17:27.793538Z",
     "start_time": "2020-01-29T19:17:15.544343Z"
    }
   },
   "outputs": [
    {
     "data": {
      "text/plain": [
       "0.6727941176470589"
      ]
     },
     "execution_count": 18,
     "metadata": {},
     "output_type": "execute_result"
    }
   ],
   "source": [
    "scv.score(x_test_tf.toarray(), y_test)"
   ]
  },
  {
   "cell_type": "code",
   "execution_count": null,
   "metadata": {},
   "outputs": [],
   "source": []
  }
 ],
 "metadata": {
  "kernelspec": {
   "display_name": "Python 3",
   "language": "python",
   "name": "python3"
  },
  "language_info": {
   "codemirror_mode": {
    "name": "ipython",
    "version": 3
   },
   "file_extension": ".py",
   "mimetype": "text/x-python",
   "name": "python",
   "nbconvert_exporter": "python",
   "pygments_lexer": "ipython3",
   "version": "3.7.4"
  }
 },
 "nbformat": 4,
 "nbformat_minor": 2
}
