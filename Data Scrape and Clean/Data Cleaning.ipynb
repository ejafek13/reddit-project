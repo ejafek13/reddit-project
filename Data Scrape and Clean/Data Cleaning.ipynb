{
 "cells": [
  {
   "cell_type": "code",
   "execution_count": 1,
   "metadata": {
    "ExecuteTime": {
     "end_time": "2020-01-31T05:49:21.031321Z",
     "start_time": "2020-01-31T05:49:19.457213Z"
    }
   },
   "outputs": [],
   "source": [
    "import pandas as pd \n",
    "import matplotlib.pyplot as plt\n",
    "import seaborn as sns\n",
    "from nltk.stem import WordNetLemmatizer\n",
    "from sklearn.feature_extraction.text import CountVectorizer, TfidfVectorizer\n",
    "import numpy as np\n",
    "from nltk.tokenize import RegexpTokenizer\n",
    "from nltk.stem import WordNetLemmatizer\n",
    "from nltk.stem.porter import PorterStemmer\n",
    "from sklearn.model_selection import train_test_split, GridSearchCV\n",
    "from sklearn.linear_model import LogisticRegression\n",
    "from sklearn.pipeline import Pipeline\n",
    "import re \n",
    "import string"
   ]
  },
  {
   "cell_type": "code",
   "execution_count": 2,
   "metadata": {
    "ExecuteTime": {
     "end_time": "2020-01-31T05:49:21.071692Z",
     "start_time": "2020-01-31T05:49:21.032919Z"
    }
   },
   "outputs": [],
   "source": [
    "askmen = pd.read_csv('../Data/askmen_df.csv')"
   ]
  },
  {
   "cell_type": "code",
   "execution_count": 3,
   "metadata": {
    "ExecuteTime": {
     "end_time": "2020-01-31T05:49:21.111499Z",
     "start_time": "2020-01-31T05:49:21.074177Z"
    }
   },
   "outputs": [],
   "source": [
    "askwomen = pd.read_csv('../Data/askwomen_df.csv')"
   ]
  },
  {
   "cell_type": "code",
   "execution_count": 4,
   "metadata": {
    "ExecuteTime": {
     "end_time": "2020-01-31T05:49:21.139008Z",
     "start_time": "2020-01-31T05:49:21.113457Z"
    }
   },
   "outputs": [
    {
     "name": "stderr",
     "output_type": "stream",
     "text": [
      "/opt/anaconda3/lib/python3.7/site-packages/pandas/core/frame.py:7138: FutureWarning: Sorting because non-concatenation axis is not aligned. A future version\n",
      "of pandas will change to not sort by default.\n",
      "\n",
      "To accept the future behavior, pass 'sort=False'.\n",
      "\n",
      "To retain the current behavior and silence the warning, pass 'sort=True'.\n",
      "\n",
      "  sort=sort,\n"
     ]
    }
   ],
   "source": [
    "df = askmen.append(askwomen, ignore_index=True)"
   ]
  },
  {
   "cell_type": "code",
   "execution_count": 5,
   "metadata": {
    "ExecuteTime": {
     "end_time": "2020-01-31T05:49:21.146010Z",
     "start_time": "2020-01-31T05:49:21.140889Z"
    }
   },
   "outputs": [
    {
     "data": {
      "text/plain": [
       "(5900, 69)"
      ]
     },
     "execution_count": 5,
     "metadata": {},
     "output_type": "execute_result"
    }
   ],
   "source": [
    "df.shape"
   ]
  },
  {
   "cell_type": "code",
   "execution_count": 6,
   "metadata": {
    "ExecuteTime": {
     "end_time": "2020-01-31T05:49:21.153191Z",
     "start_time": "2020-01-31T05:49:21.147684Z"
    }
   },
   "outputs": [
    {
     "data": {
      "text/plain": [
       "0                                               [removed]\n",
       "1       So over the past month or so, I’ve gotten pret...\n",
       "2       I just became curious because I saw this porn ...\n",
       "3                                               [removed]\n",
       "4                                               [removed]\n",
       "                              ...                        \n",
       "5895                                            [removed]\n",
       "5896                                            [removed]\n",
       "5897    So my husband sometimes uses my phone to get o...\n",
       "5898                                            [removed]\n",
       "5899                                            [removed]\n",
       "Name: selftext, Length: 5900, dtype: object"
      ]
     },
     "execution_count": 6,
     "metadata": {},
     "output_type": "execute_result"
    }
   ],
   "source": [
    "df['selftext']"
   ]
  },
  {
   "cell_type": "code",
   "execution_count": 7,
   "metadata": {
    "ExecuteTime": {
     "end_time": "2020-01-31T05:49:21.166229Z",
     "start_time": "2020-01-31T05:49:21.154563Z"
    }
   },
   "outputs": [],
   "source": [
    "no_removed = df[df['selftext'] != '[removed]']"
   ]
  },
  {
   "cell_type": "code",
   "execution_count": 8,
   "metadata": {
    "ExecuteTime": {
     "end_time": "2020-01-31T05:49:21.172726Z",
     "start_time": "2020-01-31T05:49:21.168813Z"
    }
   },
   "outputs": [
    {
     "data": {
      "text/plain": [
       "(3272, 69)"
      ]
     },
     "execution_count": 8,
     "metadata": {},
     "output_type": "execute_result"
    }
   ],
   "source": [
    "no_removed.shape"
   ]
  },
  {
   "cell_type": "code",
   "execution_count": 9,
   "metadata": {
    "ExecuteTime": {
     "end_time": "2020-01-31T05:49:21.179615Z",
     "start_time": "2020-01-31T05:49:21.174269Z"
    }
   },
   "outputs": [
    {
     "data": {
      "text/plain": [
       "AskWomen    2964\n",
       "AskMen      2936\n",
       "Name: subreddit, dtype: int64"
      ]
     },
     "execution_count": 9,
     "metadata": {},
     "output_type": "execute_result"
    }
   ],
   "source": [
    "df['subreddit'].value_counts()"
   ]
  },
  {
   "cell_type": "code",
   "execution_count": 10,
   "metadata": {
    "ExecuteTime": {
     "end_time": "2020-01-31T05:49:21.185261Z",
     "start_time": "2020-01-31T05:49:21.181210Z"
    }
   },
   "outputs": [],
   "source": [
    "no_removed = no_removed[['title', 'selftext', 'subreddit']]"
   ]
  },
  {
   "cell_type": "code",
   "execution_count": 11,
   "metadata": {
    "ExecuteTime": {
     "end_time": "2020-01-31T05:49:21.189946Z",
     "start_time": "2020-01-31T05:49:21.186666Z"
    }
   },
   "outputs": [
    {
     "data": {
      "text/plain": [
       "(3272, 3)"
      ]
     },
     "execution_count": 11,
     "metadata": {},
     "output_type": "execute_result"
    }
   ],
   "source": [
    "no_removed.shape"
   ]
  },
  {
   "cell_type": "code",
   "execution_count": 12,
   "metadata": {
    "ExecuteTime": {
     "end_time": "2020-01-31T05:49:21.324156Z",
     "start_time": "2020-01-31T05:49:21.191223Z"
    }
   },
   "outputs": [],
   "source": [
    "no_removed['text'] = no_removed['title'] + no_removed['selftext'].fillna('')"
   ]
  },
  {
   "cell_type": "code",
   "execution_count": 13,
   "metadata": {
    "ExecuteTime": {
     "end_time": "2020-01-31T05:49:21.331698Z",
     "start_time": "2020-01-31T05:49:21.325703Z"
    }
   },
   "outputs": [],
   "source": [
    "no_na = no_removed.dropna()"
   ]
  },
  {
   "cell_type": "code",
   "execution_count": 14,
   "metadata": {
    "ExecuteTime": {
     "end_time": "2020-01-31T05:49:21.337605Z",
     "start_time": "2020-01-31T05:49:21.332804Z"
    }
   },
   "outputs": [
    {
     "data": {
      "text/plain": [
       "AskMen      1003\n",
       "AskWomen     593\n",
       "Name: subreddit, dtype: int64"
      ]
     },
     "execution_count": 14,
     "metadata": {},
     "output_type": "execute_result"
    }
   ],
   "source": [
    "no_na['subreddit'].value_counts()"
   ]
  },
  {
   "cell_type": "code",
   "execution_count": 15,
   "metadata": {
    "ExecuteTime": {
     "end_time": "2020-01-31T05:49:21.341390Z",
     "start_time": "2020-01-31T05:49:21.339211Z"
    }
   },
   "outputs": [],
   "source": [
    "tokenizer = RegexpTokenizer('\\s+', gaps=True)"
   ]
  },
  {
   "cell_type": "code",
   "execution_count": 16,
   "metadata": {
    "ExecuteTime": {
     "end_time": "2020-01-31T05:49:21.345327Z",
     "start_time": "2020-01-31T05:49:21.342682Z"
    }
   },
   "outputs": [],
   "source": [
    "def clean_text(text):\n",
    "    text = text.lower()\n",
    "    regex = re.compile(\"[^a-zA-Z0-9!? ]\")\n",
    "    text = regex.sub('', text)\n",
    "    return text"
   ]
  },
  {
   "cell_type": "code",
   "execution_count": 19,
   "metadata": {
    "ExecuteTime": {
     "end_time": "2020-01-31T05:51:23.815745Z",
     "start_time": "2020-01-31T05:51:23.809120Z"
    }
   },
   "outputs": [],
   "source": [
    "df['text'] = df['title'] + df['selftext'].fillna('')"
   ]
  },
  {
   "cell_type": "code",
   "execution_count": 20,
   "metadata": {
    "ExecuteTime": {
     "end_time": "2020-01-31T05:51:27.359788Z",
     "start_time": "2020-01-31T05:51:27.335799Z"
    }
   },
   "outputs": [
    {
     "data": {
      "text/html": [
       "<div>\n",
       "<style scoped>\n",
       "    .dataframe tbody tr th:only-of-type {\n",
       "        vertical-align: middle;\n",
       "    }\n",
       "\n",
       "    .dataframe tbody tr th {\n",
       "        vertical-align: top;\n",
       "    }\n",
       "\n",
       "    .dataframe thead th {\n",
       "        text-align: right;\n",
       "    }\n",
       "</style>\n",
       "<table border=\"1\" class=\"dataframe\">\n",
       "  <thead>\n",
       "    <tr style=\"text-align: right;\">\n",
       "      <th></th>\n",
       "      <th>all_awardings</th>\n",
       "      <th>allow_live_comments</th>\n",
       "      <th>author</th>\n",
       "      <th>author_cakeday</th>\n",
       "      <th>author_flair_background_color</th>\n",
       "      <th>author_flair_css_class</th>\n",
       "      <th>author_flair_richtext</th>\n",
       "      <th>author_flair_template_id</th>\n",
       "      <th>author_flair_text</th>\n",
       "      <th>author_flair_text_color</th>\n",
       "      <th>...</th>\n",
       "      <th>subreddit_id</th>\n",
       "      <th>subreddit_subscribers</th>\n",
       "      <th>subreddit_type</th>\n",
       "      <th>thumbnail</th>\n",
       "      <th>title</th>\n",
       "      <th>total_awards_received</th>\n",
       "      <th>url</th>\n",
       "      <th>whitelist_status</th>\n",
       "      <th>wls</th>\n",
       "      <th>text</th>\n",
       "    </tr>\n",
       "  </thead>\n",
       "  <tbody>\n",
       "    <tr>\n",
       "      <th>0</th>\n",
       "      <td>[]</td>\n",
       "      <td>False</td>\n",
       "      <td>RonReag77</td>\n",
       "      <td>NaN</td>\n",
       "      <td>NaN</td>\n",
       "      <td>NaN</td>\n",
       "      <td>[]</td>\n",
       "      <td>NaN</td>\n",
       "      <td>NaN</td>\n",
       "      <td>NaN</td>\n",
       "      <td>...</td>\n",
       "      <td>t5_2s30g</td>\n",
       "      <td>1636380</td>\n",
       "      <td>public</td>\n",
       "      <td>self</td>\n",
       "      <td>I get rejected a lot for my looks. What advice...</td>\n",
       "      <td>0.0</td>\n",
       "      <td>https://www.reddit.com/r/AskMen/comments/ewjoj...</td>\n",
       "      <td>all_ads</td>\n",
       "      <td>6</td>\n",
       "      <td>I get rejected a lot for my looks. What advice...</td>\n",
       "    </tr>\n",
       "    <tr>\n",
       "      <th>1</th>\n",
       "      <td>[]</td>\n",
       "      <td>False</td>\n",
       "      <td>dubfegnezz</td>\n",
       "      <td>NaN</td>\n",
       "      <td>NaN</td>\n",
       "      <td>NaN</td>\n",
       "      <td>[]</td>\n",
       "      <td>NaN</td>\n",
       "      <td>NaN</td>\n",
       "      <td>NaN</td>\n",
       "      <td>...</td>\n",
       "      <td>t5_2s30g</td>\n",
       "      <td>1636371</td>\n",
       "      <td>public</td>\n",
       "      <td>self</td>\n",
       "      <td>Any insight on how to handle a coworker trying...</td>\n",
       "      <td>0.0</td>\n",
       "      <td>https://www.reddit.com/r/AskMen/comments/ewjmx...</td>\n",
       "      <td>all_ads</td>\n",
       "      <td>6</td>\n",
       "      <td>Any insight on how to handle a coworker trying...</td>\n",
       "    </tr>\n",
       "    <tr>\n",
       "      <th>2</th>\n",
       "      <td>[]</td>\n",
       "      <td>False</td>\n",
       "      <td>AdamtheFirstSinner</td>\n",
       "      <td>NaN</td>\n",
       "      <td>#83acfa</td>\n",
       "      <td>male</td>\n",
       "      <td>[{'e': 'text', 't': 'Professional Smartass'}]</td>\n",
       "      <td>ea22c17e-cd16-11e1-845d-12313b0ce1e2</td>\n",
       "      <td>Professional Smartass</td>\n",
       "      <td>light</td>\n",
       "      <td>...</td>\n",
       "      <td>t5_2s30g</td>\n",
       "      <td>1636365</td>\n",
       "      <td>public</td>\n",
       "      <td>self</td>\n",
       "      <td>Women of reddit, what are you really getting o...</td>\n",
       "      <td>0.0</td>\n",
       "      <td>https://www.reddit.com/r/AskMen/comments/ewjmd...</td>\n",
       "      <td>all_ads</td>\n",
       "      <td>6</td>\n",
       "      <td>Women of reddit, what are you really getting o...</td>\n",
       "    </tr>\n",
       "    <tr>\n",
       "      <th>3</th>\n",
       "      <td>[]</td>\n",
       "      <td>False</td>\n",
       "      <td>AgentSuperfly17</td>\n",
       "      <td>NaN</td>\n",
       "      <td>NaN</td>\n",
       "      <td>NaN</td>\n",
       "      <td>[]</td>\n",
       "      <td>NaN</td>\n",
       "      <td>NaN</td>\n",
       "      <td>NaN</td>\n",
       "      <td>...</td>\n",
       "      <td>t5_2s30g</td>\n",
       "      <td>1636363</td>\n",
       "      <td>public</td>\n",
       "      <td>self</td>\n",
       "      <td>Resistance Band Fitness Advice Please Help</td>\n",
       "      <td>0.0</td>\n",
       "      <td>https://www.reddit.com/r/AskMen/comments/ewjlw...</td>\n",
       "      <td>all_ads</td>\n",
       "      <td>6</td>\n",
       "      <td>Resistance Band Fitness Advice Please Help[rem...</td>\n",
       "    </tr>\n",
       "    <tr>\n",
       "      <th>4</th>\n",
       "      <td>[]</td>\n",
       "      <td>False</td>\n",
       "      <td>dubfegnezz</td>\n",
       "      <td>NaN</td>\n",
       "      <td>NaN</td>\n",
       "      <td>NaN</td>\n",
       "      <td>[]</td>\n",
       "      <td>NaN</td>\n",
       "      <td>NaN</td>\n",
       "      <td>NaN</td>\n",
       "      <td>...</td>\n",
       "      <td>t5_2s30g</td>\n",
       "      <td>1636359</td>\n",
       "      <td>public</td>\n",
       "      <td>self</td>\n",
       "      <td>A coworker is trying to set me up with another...</td>\n",
       "      <td>0.0</td>\n",
       "      <td>https://www.reddit.com/r/AskMen/comments/ewjlk...</td>\n",
       "      <td>all_ads</td>\n",
       "      <td>6</td>\n",
       "      <td>A coworker is trying to set me up with another...</td>\n",
       "    </tr>\n",
       "  </tbody>\n",
       "</table>\n",
       "<p>5 rows × 70 columns</p>\n",
       "</div>"
      ],
      "text/plain": [
       "  all_awardings allow_live_comments              author author_cakeday  \\\n",
       "0            []               False           RonReag77            NaN   \n",
       "1            []               False          dubfegnezz            NaN   \n",
       "2            []               False  AdamtheFirstSinner            NaN   \n",
       "3            []               False     AgentSuperfly17            NaN   \n",
       "4            []               False          dubfegnezz            NaN   \n",
       "\n",
       "  author_flair_background_color author_flair_css_class  \\\n",
       "0                           NaN                    NaN   \n",
       "1                           NaN                    NaN   \n",
       "2                       #83acfa                   male   \n",
       "3                           NaN                    NaN   \n",
       "4                           NaN                    NaN   \n",
       "\n",
       "                           author_flair_richtext  \\\n",
       "0                                             []   \n",
       "1                                             []   \n",
       "2  [{'e': 'text', 't': 'Professional Smartass'}]   \n",
       "3                                             []   \n",
       "4                                             []   \n",
       "\n",
       "               author_flair_template_id      author_flair_text  \\\n",
       "0                                   NaN                    NaN   \n",
       "1                                   NaN                    NaN   \n",
       "2  ea22c17e-cd16-11e1-845d-12313b0ce1e2  Professional Smartass   \n",
       "3                                   NaN                    NaN   \n",
       "4                                   NaN                    NaN   \n",
       "\n",
       "  author_flair_text_color  ... subreddit_id subreddit_subscribers  \\\n",
       "0                     NaN  ...     t5_2s30g               1636380   \n",
       "1                     NaN  ...     t5_2s30g               1636371   \n",
       "2                   light  ...     t5_2s30g               1636365   \n",
       "3                     NaN  ...     t5_2s30g               1636363   \n",
       "4                     NaN  ...     t5_2s30g               1636359   \n",
       "\n",
       "  subreddit_type thumbnail                                              title  \\\n",
       "0         public      self  I get rejected a lot for my looks. What advice...   \n",
       "1         public      self  Any insight on how to handle a coworker trying...   \n",
       "2         public      self  Women of reddit, what are you really getting o...   \n",
       "3         public      self         Resistance Band Fitness Advice Please Help   \n",
       "4         public      self  A coworker is trying to set me up with another...   \n",
       "\n",
       "  total_awards_received                                                url  \\\n",
       "0                   0.0  https://www.reddit.com/r/AskMen/comments/ewjoj...   \n",
       "1                   0.0  https://www.reddit.com/r/AskMen/comments/ewjmx...   \n",
       "2                   0.0  https://www.reddit.com/r/AskMen/comments/ewjmd...   \n",
       "3                   0.0  https://www.reddit.com/r/AskMen/comments/ewjlw...   \n",
       "4                   0.0  https://www.reddit.com/r/AskMen/comments/ewjlk...   \n",
       "\n",
       "   whitelist_status  wls                                               text  \n",
       "0           all_ads    6  I get rejected a lot for my looks. What advice...  \n",
       "1           all_ads    6  Any insight on how to handle a coworker trying...  \n",
       "2           all_ads    6  Women of reddit, what are you really getting o...  \n",
       "3           all_ads    6  Resistance Band Fitness Advice Please Help[rem...  \n",
       "4           all_ads    6  A coworker is trying to set me up with another...  \n",
       "\n",
       "[5 rows x 70 columns]"
      ]
     },
     "execution_count": 20,
     "metadata": {},
     "output_type": "execute_result"
    }
   ],
   "source": [
    "df.head()"
   ]
  },
  {
   "cell_type": "code",
   "execution_count": 21,
   "metadata": {
    "ExecuteTime": {
     "end_time": "2020-01-31T05:51:27.391646Z",
     "start_time": "2020-01-31T05:51:27.361400Z"
    }
   },
   "outputs": [],
   "source": [
    "df['text_clean'] = df['text'].apply(lambda x:clean_text(x))"
   ]
  },
  {
   "cell_type": "code",
   "execution_count": 22,
   "metadata": {
    "ExecuteTime": {
     "end_time": "2020-01-31T05:51:29.751684Z",
     "start_time": "2020-01-31T05:51:27.393315Z"
    }
   },
   "outputs": [],
   "source": [
    "lemmatizer = WordNetLemmatizer()\n",
    "\n",
    "def lemmatize_text(text):\n",
    "    return [lemmatizer.lemmatize(w) for w in tokenizer.tokenize(text)]\n",
    "\n",
    "df['text_clean_lemmatized'] = df['text_clean'].apply(lemmatize_text)"
   ]
  },
  {
   "cell_type": "code",
   "execution_count": 23,
   "metadata": {
    "ExecuteTime": {
     "end_time": "2020-01-31T05:51:29.770793Z",
     "start_time": "2020-01-31T05:51:29.753826Z"
    }
   },
   "outputs": [],
   "source": [
    "seperator = ' '\n",
    "\n",
    "df['text_clean_lemmatized'] = df['text_clean_lemmatized'].apply(lambda x: seperator.join(x))"
   ]
  },
  {
   "cell_type": "code",
   "execution_count": 24,
   "metadata": {
    "ExecuteTime": {
     "end_time": "2020-01-31T05:51:30.540336Z",
     "start_time": "2020-01-31T05:51:29.772832Z"
    }
   },
   "outputs": [],
   "source": [
    "df['text_lemmatized'] = df['text'].apply(lemmatize_text)"
   ]
  },
  {
   "cell_type": "code",
   "execution_count": 25,
   "metadata": {
    "ExecuteTime": {
     "end_time": "2020-01-31T05:51:30.559248Z",
     "start_time": "2020-01-31T05:51:30.542055Z"
    }
   },
   "outputs": [],
   "source": [
    "seperator = ' '\n",
    "\n",
    "df['text_lemmatized'] = df['text_lemmatized'].apply(lambda x: seperator.join(x))"
   ]
  },
  {
   "cell_type": "code",
   "execution_count": 27,
   "metadata": {
    "ExecuteTime": {
     "end_time": "2020-01-31T05:51:30.606240Z",
     "start_time": "2020-01-31T05:51:30.601605Z"
    }
   },
   "outputs": [],
   "source": [
    "no_removed['subreddit'] = no_removed['subreddit'].map(lambda x:1 if x == 'AskWomen' else 0)"
   ]
  },
  {
   "cell_type": "code",
   "execution_count": 28,
   "metadata": {
    "ExecuteTime": {
     "end_time": "2020-01-31T05:51:30.655027Z",
     "start_time": "2020-01-31T05:51:30.607971Z"
    }
   },
   "outputs": [],
   "source": [
    "no_removed.to_csv('../Data/no_removed.csv', index = False)"
   ]
  },
  {
   "cell_type": "code",
   "execution_count": 30,
   "metadata": {
    "ExecuteTime": {
     "end_time": "2020-01-31T05:51:30.742935Z",
     "start_time": "2020-01-31T05:51:30.701788Z"
    },
    "scrolled": true
   },
   "outputs": [
    {
     "data": {
      "text/html": [
       "<div>\n",
       "<style scoped>\n",
       "    .dataframe tbody tr th:only-of-type {\n",
       "        vertical-align: middle;\n",
       "    }\n",
       "\n",
       "    .dataframe tbody tr th {\n",
       "        vertical-align: top;\n",
       "    }\n",
       "\n",
       "    .dataframe thead th {\n",
       "        text-align: right;\n",
       "    }\n",
       "</style>\n",
       "<table border=\"1\" class=\"dataframe\">\n",
       "  <thead>\n",
       "    <tr style=\"text-align: right;\">\n",
       "      <th></th>\n",
       "      <th>all_awardings</th>\n",
       "      <th>allow_live_comments</th>\n",
       "      <th>author</th>\n",
       "      <th>author_cakeday</th>\n",
       "      <th>author_flair_background_color</th>\n",
       "      <th>author_flair_css_class</th>\n",
       "      <th>author_flair_richtext</th>\n",
       "      <th>author_flair_template_id</th>\n",
       "      <th>author_flair_text</th>\n",
       "      <th>author_flair_text_color</th>\n",
       "      <th>...</th>\n",
       "      <th>subreddit</th>\n",
       "      <th>subreddit_id</th>\n",
       "      <th>subreddit_subscribers</th>\n",
       "      <th>subreddit_type</th>\n",
       "      <th>thumbnail</th>\n",
       "      <th>title</th>\n",
       "      <th>total_awards_received</th>\n",
       "      <th>url</th>\n",
       "      <th>whitelist_status</th>\n",
       "      <th>wls</th>\n",
       "    </tr>\n",
       "  </thead>\n",
       "  <tbody>\n",
       "    <tr>\n",
       "      <th>0</th>\n",
       "      <td>[]</td>\n",
       "      <td>False</td>\n",
       "      <td>RonReag77</td>\n",
       "      <td>NaN</td>\n",
       "      <td>NaN</td>\n",
       "      <td>NaN</td>\n",
       "      <td>[]</td>\n",
       "      <td>NaN</td>\n",
       "      <td>NaN</td>\n",
       "      <td>NaN</td>\n",
       "      <td>...</td>\n",
       "      <td>AskMen</td>\n",
       "      <td>t5_2s30g</td>\n",
       "      <td>1636380</td>\n",
       "      <td>public</td>\n",
       "      <td>self</td>\n",
       "      <td>I get rejected a lot for my looks. What advice...</td>\n",
       "      <td>0</td>\n",
       "      <td>https://www.reddit.com/r/AskMen/comments/ewjoj...</td>\n",
       "      <td>all_ads</td>\n",
       "      <td>6</td>\n",
       "    </tr>\n",
       "    <tr>\n",
       "      <th>1</th>\n",
       "      <td>[]</td>\n",
       "      <td>False</td>\n",
       "      <td>dubfegnezz</td>\n",
       "      <td>NaN</td>\n",
       "      <td>NaN</td>\n",
       "      <td>NaN</td>\n",
       "      <td>[]</td>\n",
       "      <td>NaN</td>\n",
       "      <td>NaN</td>\n",
       "      <td>NaN</td>\n",
       "      <td>...</td>\n",
       "      <td>AskMen</td>\n",
       "      <td>t5_2s30g</td>\n",
       "      <td>1636371</td>\n",
       "      <td>public</td>\n",
       "      <td>self</td>\n",
       "      <td>Any insight on how to handle a coworker trying...</td>\n",
       "      <td>0</td>\n",
       "      <td>https://www.reddit.com/r/AskMen/comments/ewjmx...</td>\n",
       "      <td>all_ads</td>\n",
       "      <td>6</td>\n",
       "    </tr>\n",
       "    <tr>\n",
       "      <th>2</th>\n",
       "      <td>[]</td>\n",
       "      <td>False</td>\n",
       "      <td>AdamtheFirstSinner</td>\n",
       "      <td>NaN</td>\n",
       "      <td>#83acfa</td>\n",
       "      <td>male</td>\n",
       "      <td>[{'e': 'text', 't': 'Professional Smartass'}]</td>\n",
       "      <td>ea22c17e-cd16-11e1-845d-12313b0ce1e2</td>\n",
       "      <td>Professional Smartass</td>\n",
       "      <td>light</td>\n",
       "      <td>...</td>\n",
       "      <td>AskMen</td>\n",
       "      <td>t5_2s30g</td>\n",
       "      <td>1636365</td>\n",
       "      <td>public</td>\n",
       "      <td>self</td>\n",
       "      <td>Women of reddit, what are you really getting o...</td>\n",
       "      <td>0</td>\n",
       "      <td>https://www.reddit.com/r/AskMen/comments/ewjmd...</td>\n",
       "      <td>all_ads</td>\n",
       "      <td>6</td>\n",
       "    </tr>\n",
       "    <tr>\n",
       "      <th>3</th>\n",
       "      <td>[]</td>\n",
       "      <td>False</td>\n",
       "      <td>AgentSuperfly17</td>\n",
       "      <td>NaN</td>\n",
       "      <td>NaN</td>\n",
       "      <td>NaN</td>\n",
       "      <td>[]</td>\n",
       "      <td>NaN</td>\n",
       "      <td>NaN</td>\n",
       "      <td>NaN</td>\n",
       "      <td>...</td>\n",
       "      <td>AskMen</td>\n",
       "      <td>t5_2s30g</td>\n",
       "      <td>1636363</td>\n",
       "      <td>public</td>\n",
       "      <td>self</td>\n",
       "      <td>Resistance Band Fitness Advice Please Help</td>\n",
       "      <td>0</td>\n",
       "      <td>https://www.reddit.com/r/AskMen/comments/ewjlw...</td>\n",
       "      <td>all_ads</td>\n",
       "      <td>6</td>\n",
       "    </tr>\n",
       "    <tr>\n",
       "      <th>4</th>\n",
       "      <td>[]</td>\n",
       "      <td>False</td>\n",
       "      <td>dubfegnezz</td>\n",
       "      <td>NaN</td>\n",
       "      <td>NaN</td>\n",
       "      <td>NaN</td>\n",
       "      <td>[]</td>\n",
       "      <td>NaN</td>\n",
       "      <td>NaN</td>\n",
       "      <td>NaN</td>\n",
       "      <td>...</td>\n",
       "      <td>AskMen</td>\n",
       "      <td>t5_2s30g</td>\n",
       "      <td>1636359</td>\n",
       "      <td>public</td>\n",
       "      <td>self</td>\n",
       "      <td>A coworker is trying to set me up with another...</td>\n",
       "      <td>0</td>\n",
       "      <td>https://www.reddit.com/r/AskMen/comments/ewjlk...</td>\n",
       "      <td>all_ads</td>\n",
       "      <td>6</td>\n",
       "    </tr>\n",
       "    <tr>\n",
       "      <th>...</th>\n",
       "      <td>...</td>\n",
       "      <td>...</td>\n",
       "      <td>...</td>\n",
       "      <td>...</td>\n",
       "      <td>...</td>\n",
       "      <td>...</td>\n",
       "      <td>...</td>\n",
       "      <td>...</td>\n",
       "      <td>...</td>\n",
       "      <td>...</td>\n",
       "      <td>...</td>\n",
       "      <td>...</td>\n",
       "      <td>...</td>\n",
       "      <td>...</td>\n",
       "      <td>...</td>\n",
       "      <td>...</td>\n",
       "      <td>...</td>\n",
       "      <td>...</td>\n",
       "      <td>...</td>\n",
       "      <td>...</td>\n",
       "      <td>...</td>\n",
       "    </tr>\n",
       "    <tr>\n",
       "      <th>2931</th>\n",
       "      <td>[]</td>\n",
       "      <td>False</td>\n",
       "      <td>razaya</td>\n",
       "      <td>NaN</td>\n",
       "      <td>NaN</td>\n",
       "      <td>NaN</td>\n",
       "      <td>[]</td>\n",
       "      <td>NaN</td>\n",
       "      <td>NaN</td>\n",
       "      <td>NaN</td>\n",
       "      <td>...</td>\n",
       "      <td>AskMen</td>\n",
       "      <td>t5_2s30g</td>\n",
       "      <td>1626134</td>\n",
       "      <td>public</td>\n",
       "      <td>self</td>\n",
       "      <td>What is the most chicken you have eaten in one...</td>\n",
       "      <td>0</td>\n",
       "      <td>https://www.reddit.com/r/AskMen/comments/eucq1...</td>\n",
       "      <td>all_ads</td>\n",
       "      <td>6</td>\n",
       "    </tr>\n",
       "    <tr>\n",
       "      <th>2932</th>\n",
       "      <td>[]</td>\n",
       "      <td>False</td>\n",
       "      <td>SholoGrim</td>\n",
       "      <td>NaN</td>\n",
       "      <td>NaN</td>\n",
       "      <td>NaN</td>\n",
       "      <td>[]</td>\n",
       "      <td>NaN</td>\n",
       "      <td>NaN</td>\n",
       "      <td>NaN</td>\n",
       "      <td>...</td>\n",
       "      <td>AskMen</td>\n",
       "      <td>t5_2s30g</td>\n",
       "      <td>1626128</td>\n",
       "      <td>public</td>\n",
       "      <td>self</td>\n",
       "      <td>Homecoming Drama</td>\n",
       "      <td>0</td>\n",
       "      <td>https://www.reddit.com/r/AskMen/comments/eucnq...</td>\n",
       "      <td>all_ads</td>\n",
       "      <td>6</td>\n",
       "    </tr>\n",
       "    <tr>\n",
       "      <th>2933</th>\n",
       "      <td>[]</td>\n",
       "      <td>False</td>\n",
       "      <td>Hhhnmmggaa</td>\n",
       "      <td>NaN</td>\n",
       "      <td>NaN</td>\n",
       "      <td>NaN</td>\n",
       "      <td>[]</td>\n",
       "      <td>NaN</td>\n",
       "      <td>NaN</td>\n",
       "      <td>NaN</td>\n",
       "      <td>...</td>\n",
       "      <td>AskMen</td>\n",
       "      <td>t5_2s30g</td>\n",
       "      <td>1626119</td>\n",
       "      <td>public</td>\n",
       "      <td>self</td>\n",
       "      <td>Do guys always say “this is the best blowjob i...</td>\n",
       "      <td>0</td>\n",
       "      <td>https://www.reddit.com/r/AskMen/comments/eucm3...</td>\n",
       "      <td>all_ads</td>\n",
       "      <td>6</td>\n",
       "    </tr>\n",
       "    <tr>\n",
       "      <th>2934</th>\n",
       "      <td>[]</td>\n",
       "      <td>False</td>\n",
       "      <td>TotalArea</td>\n",
       "      <td>NaN</td>\n",
       "      <td>#83acfa</td>\n",
       "      <td>male</td>\n",
       "      <td>[{'e': 'text', 't': 'Male'}]</td>\n",
       "      <td>ea22c17e-cd16-11e1-845d-12313b0ce1e2</td>\n",
       "      <td>Male</td>\n",
       "      <td>light</td>\n",
       "      <td>...</td>\n",
       "      <td>AskMen</td>\n",
       "      <td>t5_2s30g</td>\n",
       "      <td>1626115</td>\n",
       "      <td>public</td>\n",
       "      <td>self</td>\n",
       "      <td>RIP Kobe Bryant, how will you remember Kobe Br...</td>\n",
       "      <td>0</td>\n",
       "      <td>https://www.reddit.com/r/AskMen/comments/euclp...</td>\n",
       "      <td>all_ads</td>\n",
       "      <td>6</td>\n",
       "    </tr>\n",
       "    <tr>\n",
       "      <th>2935</th>\n",
       "      <td>[]</td>\n",
       "      <td>False</td>\n",
       "      <td>thattiredbisexual</td>\n",
       "      <td>NaN</td>\n",
       "      <td>#f3c0f3</td>\n",
       "      <td>NaN</td>\n",
       "      <td>[{'e': 'text', 't': 'Sup Bud?'}]</td>\n",
       "      <td>c34fc826-0907-11e7-8dda-0e3d469bd55a</td>\n",
       "      <td>Sup Bud?</td>\n",
       "      <td>light</td>\n",
       "      <td>...</td>\n",
       "      <td>AskMen</td>\n",
       "      <td>t5_2s30g</td>\n",
       "      <td>1626112</td>\n",
       "      <td>public</td>\n",
       "      <td>self</td>\n",
       "      <td>Men who only post headless pics with no shirt ...</td>\n",
       "      <td>0</td>\n",
       "      <td>https://www.reddit.com/r/AskMen/comments/eucl4...</td>\n",
       "      <td>all_ads</td>\n",
       "      <td>6</td>\n",
       "    </tr>\n",
       "  </tbody>\n",
       "</table>\n",
       "<p>2936 rows × 67 columns</p>\n",
       "</div>"
      ],
      "text/plain": [
       "     all_awardings  allow_live_comments              author author_cakeday  \\\n",
       "0               []                False           RonReag77            NaN   \n",
       "1               []                False          dubfegnezz            NaN   \n",
       "2               []                False  AdamtheFirstSinner            NaN   \n",
       "3               []                False     AgentSuperfly17            NaN   \n",
       "4               []                False          dubfegnezz            NaN   \n",
       "...            ...                  ...                 ...            ...   \n",
       "2931            []                False              razaya            NaN   \n",
       "2932            []                False           SholoGrim            NaN   \n",
       "2933            []                False          Hhhnmmggaa            NaN   \n",
       "2934            []                False           TotalArea            NaN   \n",
       "2935            []                False   thattiredbisexual            NaN   \n",
       "\n",
       "     author_flair_background_color author_flair_css_class  \\\n",
       "0                              NaN                    NaN   \n",
       "1                              NaN                    NaN   \n",
       "2                          #83acfa                   male   \n",
       "3                              NaN                    NaN   \n",
       "4                              NaN                    NaN   \n",
       "...                            ...                    ...   \n",
       "2931                           NaN                    NaN   \n",
       "2932                           NaN                    NaN   \n",
       "2933                           NaN                    NaN   \n",
       "2934                       #83acfa                   male   \n",
       "2935                       #f3c0f3                    NaN   \n",
       "\n",
       "                              author_flair_richtext  \\\n",
       "0                                                []   \n",
       "1                                                []   \n",
       "2     [{'e': 'text', 't': 'Professional Smartass'}]   \n",
       "3                                                []   \n",
       "4                                                []   \n",
       "...                                             ...   \n",
       "2931                                             []   \n",
       "2932                                             []   \n",
       "2933                                             []   \n",
       "2934                   [{'e': 'text', 't': 'Male'}]   \n",
       "2935               [{'e': 'text', 't': 'Sup Bud?'}]   \n",
       "\n",
       "                  author_flair_template_id      author_flair_text  \\\n",
       "0                                      NaN                    NaN   \n",
       "1                                      NaN                    NaN   \n",
       "2     ea22c17e-cd16-11e1-845d-12313b0ce1e2  Professional Smartass   \n",
       "3                                      NaN                    NaN   \n",
       "4                                      NaN                    NaN   \n",
       "...                                    ...                    ...   \n",
       "2931                                   NaN                    NaN   \n",
       "2932                                   NaN                    NaN   \n",
       "2933                                   NaN                    NaN   \n",
       "2934  ea22c17e-cd16-11e1-845d-12313b0ce1e2                   Male   \n",
       "2935  c34fc826-0907-11e7-8dda-0e3d469bd55a               Sup Bud?   \n",
       "\n",
       "     author_flair_text_color  ... subreddit subreddit_id  \\\n",
       "0                        NaN  ...    AskMen     t5_2s30g   \n",
       "1                        NaN  ...    AskMen     t5_2s30g   \n",
       "2                      light  ...    AskMen     t5_2s30g   \n",
       "3                        NaN  ...    AskMen     t5_2s30g   \n",
       "4                        NaN  ...    AskMen     t5_2s30g   \n",
       "...                      ...  ...       ...          ...   \n",
       "2931                     NaN  ...    AskMen     t5_2s30g   \n",
       "2932                     NaN  ...    AskMen     t5_2s30g   \n",
       "2933                     NaN  ...    AskMen     t5_2s30g   \n",
       "2934                   light  ...    AskMen     t5_2s30g   \n",
       "2935                   light  ...    AskMen     t5_2s30g   \n",
       "\n",
       "     subreddit_subscribers subreddit_type thumbnail  \\\n",
       "0                  1636380         public      self   \n",
       "1                  1636371         public      self   \n",
       "2                  1636365         public      self   \n",
       "3                  1636363         public      self   \n",
       "4                  1636359         public      self   \n",
       "...                    ...            ...       ...   \n",
       "2931               1626134         public      self   \n",
       "2932               1626128         public      self   \n",
       "2933               1626119         public      self   \n",
       "2934               1626115         public      self   \n",
       "2935               1626112         public      self   \n",
       "\n",
       "                                                  title  \\\n",
       "0     I get rejected a lot for my looks. What advice...   \n",
       "1     Any insight on how to handle a coworker trying...   \n",
       "2     Women of reddit, what are you really getting o...   \n",
       "3            Resistance Band Fitness Advice Please Help   \n",
       "4     A coworker is trying to set me up with another...   \n",
       "...                                                 ...   \n",
       "2931  What is the most chicken you have eaten in one...   \n",
       "2932                                   Homecoming Drama   \n",
       "2933  Do guys always say “this is the best blowjob i...   \n",
       "2934  RIP Kobe Bryant, how will you remember Kobe Br...   \n",
       "2935  Men who only post headless pics with no shirt ...   \n",
       "\n",
       "      total_awards_received  \\\n",
       "0                         0   \n",
       "1                         0   \n",
       "2                         0   \n",
       "3                         0   \n",
       "4                         0   \n",
       "...                     ...   \n",
       "2931                      0   \n",
       "2932                      0   \n",
       "2933                      0   \n",
       "2934                      0   \n",
       "2935                      0   \n",
       "\n",
       "                                                    url  whitelist_status wls  \n",
       "0     https://www.reddit.com/r/AskMen/comments/ewjoj...           all_ads   6  \n",
       "1     https://www.reddit.com/r/AskMen/comments/ewjmx...           all_ads   6  \n",
       "2     https://www.reddit.com/r/AskMen/comments/ewjmd...           all_ads   6  \n",
       "3     https://www.reddit.com/r/AskMen/comments/ewjlw...           all_ads   6  \n",
       "4     https://www.reddit.com/r/AskMen/comments/ewjlk...           all_ads   6  \n",
       "...                                                 ...               ...  ..  \n",
       "2931  https://www.reddit.com/r/AskMen/comments/eucq1...           all_ads   6  \n",
       "2932  https://www.reddit.com/r/AskMen/comments/eucnq...           all_ads   6  \n",
       "2933  https://www.reddit.com/r/AskMen/comments/eucm3...           all_ads   6  \n",
       "2934  https://www.reddit.com/r/AskMen/comments/euclp...           all_ads   6  \n",
       "2935  https://www.reddit.com/r/AskMen/comments/eucl4...           all_ads   6  \n",
       "\n",
       "[2936 rows x 67 columns]"
      ]
     },
     "execution_count": 30,
     "metadata": {},
     "output_type": "execute_result"
    }
   ],
   "source": [
    "askmen"
   ]
  },
  {
   "cell_type": "code",
   "execution_count": 31,
   "metadata": {
    "ExecuteTime": {
     "end_time": "2020-01-31T05:51:30.748659Z",
     "start_time": "2020-01-31T05:51:30.744643Z"
    }
   },
   "outputs": [],
   "source": [
    "men = askmen[['title', 'selftext', 'subreddit', 'permalink', 'created_utc']]"
   ]
  },
  {
   "cell_type": "code",
   "execution_count": 32,
   "metadata": {
    "ExecuteTime": {
     "end_time": "2020-01-31T05:51:30.754302Z",
     "start_time": "2020-01-31T05:51:30.750099Z"
    }
   },
   "outputs": [],
   "source": [
    "women = askwomen[['title', 'selftext', 'subreddit','permalink', 'created_utc' ]]"
   ]
  },
  {
   "cell_type": "code",
   "execution_count": 33,
   "metadata": {
    "ExecuteTime": {
     "end_time": "2020-01-31T05:51:30.759333Z",
     "start_time": "2020-01-31T05:51:30.755831Z"
    }
   },
   "outputs": [],
   "source": [
    "df = women.append(men, ignore_index=True)"
   ]
  },
  {
   "cell_type": "code",
   "execution_count": 36,
   "metadata": {
    "ExecuteTime": {
     "end_time": "2020-01-31T05:51:41.181595Z",
     "start_time": "2020-01-31T05:51:41.122461Z"
    }
   },
   "outputs": [],
   "source": [
    "df.to_csv('../Data/both_5cols.csv')"
   ]
  },
  {
   "cell_type": "code",
   "execution_count": 37,
   "metadata": {
    "ExecuteTime": {
     "end_time": "2020-01-31T05:51:51.800897Z",
     "start_time": "2020-01-31T05:51:51.785104Z"
    }
   },
   "outputs": [],
   "source": [
    "titles_clean = pd.DataFrame(df['title'].apply(lambda x:clean_text(x))) "
   ]
  },
  {
   "cell_type": "code",
   "execution_count": 115,
   "metadata": {
    "ExecuteTime": {
     "end_time": "2020-01-31T06:01:48.621883Z",
     "start_time": "2020-01-31T06:01:48.614509Z"
    }
   },
   "outputs": [
    {
     "data": {
      "text/html": [
       "<div>\n",
       "<style scoped>\n",
       "    .dataframe tbody tr th:only-of-type {\n",
       "        vertical-align: middle;\n",
       "    }\n",
       "\n",
       "    .dataframe tbody tr th {\n",
       "        vertical-align: top;\n",
       "    }\n",
       "\n",
       "    .dataframe thead th {\n",
       "        text-align: right;\n",
       "    }\n",
       "</style>\n",
       "<table border=\"1\" class=\"dataframe\">\n",
       "  <thead>\n",
       "    <tr style=\"text-align: right;\">\n",
       "      <th></th>\n",
       "      <th>title</th>\n",
       "      <th>subreddit</th>\n",
       "    </tr>\n",
       "  </thead>\n",
       "  <tbody>\n",
       "    <tr>\n",
       "      <th>0</th>\n",
       "      <td>why is makeup so important? why cant some girl...</td>\n",
       "      <td>AskWomen</td>\n",
       "    </tr>\n",
       "    <tr>\n",
       "      <th>1</th>\n",
       "      <td>do you ever find the close male friendshipbrom...</td>\n",
       "      <td>AskWomen</td>\n",
       "    </tr>\n",
       "    <tr>\n",
       "      <th>2</th>\n",
       "      <td>why do some women not like being called babe a...</td>\n",
       "      <td>AskWomen</td>\n",
       "    </tr>\n",
       "    <tr>\n",
       "      <th>3</th>\n",
       "      <td>peeing instead of having an orgasm help!</td>\n",
       "      <td>AskWomen</td>\n",
       "    </tr>\n",
       "    <tr>\n",
       "      <th>4</th>\n",
       "      <td>isshould gender be assigned</td>\n",
       "      <td>AskWomen</td>\n",
       "    </tr>\n",
       "    <tr>\n",
       "      <th>5</th>\n",
       "      <td>sneezing too hard feels like tearing abdomen</td>\n",
       "      <td>AskWomen</td>\n",
       "    </tr>\n",
       "    <tr>\n",
       "      <th>6</th>\n",
       "      <td>does his  matter to you? have you ever been di...</td>\n",
       "      <td>AskWomen</td>\n",
       "    </tr>\n",
       "    <tr>\n",
       "      <th>7</th>\n",
       "      <td>whatcha think about males with piercings?</td>\n",
       "      <td>AskWomen</td>\n",
       "    </tr>\n",
       "    <tr>\n",
       "      <th>8</th>\n",
       "      <td>women of reddit should guys shave the bush?</td>\n",
       "      <td>AskWomen</td>\n",
       "    </tr>\n",
       "    <tr>\n",
       "      <th>9</th>\n",
       "      <td>what is the smallest thing youve broken up wit...</td>\n",
       "      <td>AskWomen</td>\n",
       "    </tr>\n",
       "  </tbody>\n",
       "</table>\n",
       "</div>"
      ],
      "text/plain": [
       "                                               title subreddit\n",
       "0  why is makeup so important? why cant some girl...  AskWomen\n",
       "1  do you ever find the close male friendshipbrom...  AskWomen\n",
       "2  why do some women not like being called babe a...  AskWomen\n",
       "3           peeing instead of having an orgasm help!  AskWomen\n",
       "4                        isshould gender be assigned  AskWomen\n",
       "5       sneezing too hard feels like tearing abdomen  AskWomen\n",
       "6  does his  matter to you? have you ever been di...  AskWomen\n",
       "7          whatcha think about males with piercings?  AskWomen\n",
       "8        women of reddit should guys shave the bush?  AskWomen\n",
       "9  what is the smallest thing youve broken up wit...  AskWomen"
      ]
     },
     "execution_count": 115,
     "metadata": {},
     "output_type": "execute_result"
    }
   ],
   "source": [
    "titles_clean.head(10)"
   ]
  },
  {
   "cell_type": "code",
   "execution_count": 39,
   "metadata": {
    "ExecuteTime": {
     "end_time": "2020-01-31T05:51:51.816290Z",
     "start_time": "2020-01-31T05:51:51.813443Z"
    }
   },
   "outputs": [],
   "source": [
    "titles_clean['subreddit'] = df['subreddit']"
   ]
  },
  {
   "cell_type": "code",
   "execution_count": 40,
   "metadata": {
    "ExecuteTime": {
     "end_time": "2020-01-31T05:51:51.823097Z",
     "start_time": "2020-01-31T05:51:51.818033Z"
    }
   },
   "outputs": [],
   "source": [
    "df['subreddit'] = df['subreddit'].map(lambda x:1 if x == 'AskWomen' else 0)"
   ]
  },
  {
   "cell_type": "code",
   "execution_count": 42,
   "metadata": {
    "ExecuteTime": {
     "end_time": "2020-01-31T05:51:51.845517Z",
     "start_time": "2020-01-31T05:51:51.839161Z"
    }
   },
   "outputs": [
    {
     "data": {
      "text/plain": [
       "False    3272\n",
       "True     2628\n",
       "Name: selftext, dtype: int64"
      ]
     },
     "execution_count": 42,
     "metadata": {},
     "output_type": "execute_result"
    }
   ],
   "source": [
    "(df['selftext'] == \"[removed]\").value_counts()"
   ]
  },
  {
   "cell_type": "code",
   "execution_count": 43,
   "metadata": {
    "ExecuteTime": {
     "end_time": "2020-01-31T05:51:51.853436Z",
     "start_time": "2020-01-31T05:51:51.847030Z"
    }
   },
   "outputs": [
    {
     "name": "stderr",
     "output_type": "stream",
     "text": [
      "/opt/anaconda3/lib/python3.7/site-packages/ipykernel_launcher.py:1: SettingWithCopyWarning: \n",
      "A value is trying to be set on a copy of a slice from a DataFrame\n",
      "\n",
      "See the caveats in the documentation: http://pandas.pydata.org/pandas-docs/stable/user_guide/indexing.html#returning-a-view-versus-a-copy\n",
      "  \"\"\"Entry point for launching an IPython kernel.\n"
     ]
    }
   ],
   "source": [
    "df['selftext'][ df['selftext'] == \"[removed]\"] = ''"
   ]
  },
  {
   "cell_type": "code",
   "execution_count": 44,
   "metadata": {
    "ExecuteTime": {
     "end_time": "2020-01-31T05:51:51.861431Z",
     "start_time": "2020-01-31T05:51:51.855521Z"
    }
   },
   "outputs": [
    {
     "data": {
      "text/plain": [
       "False    3272\n",
       "True     2628\n",
       "Name: selftext, dtype: int64"
      ]
     },
     "execution_count": 44,
     "metadata": {},
     "output_type": "execute_result"
    }
   ],
   "source": [
    "(df['selftext'] == \"\").value_counts()"
   ]
  },
  {
   "cell_type": "code",
   "execution_count": 45,
   "metadata": {
    "ExecuteTime": {
     "end_time": "2020-01-31T05:51:51.869416Z",
     "start_time": "2020-01-31T05:51:51.863204Z"
    }
   },
   "outputs": [
    {
     "data": {
      "text/plain": [
       "False    0.525641\n",
       "True     0.474359\n",
       "Name: selftext, dtype: float64"
      ]
     },
     "execution_count": 45,
     "metadata": {},
     "output_type": "execute_result"
    }
   ],
   "source": [
    "(women['selftext'] == \"[removed]\").value_counts(normalize = True)"
   ]
  },
  {
   "cell_type": "code",
   "execution_count": 46,
   "metadata": {
    "ExecuteTime": {
     "end_time": "2020-01-31T05:51:51.876838Z",
     "start_time": "2020-01-31T05:51:51.870923Z"
    }
   },
   "outputs": [
    {
     "data": {
      "text/plain": [
       "False    0.583787\n",
       "True     0.416213\n",
       "Name: selftext, dtype: float64"
      ]
     },
     "execution_count": 46,
     "metadata": {},
     "output_type": "execute_result"
    }
   ],
   "source": [
    "(men['selftext'] == \"[removed]\").value_counts(normalize = True)"
   ]
  },
  {
   "cell_type": "code",
   "execution_count": 47,
   "metadata": {
    "ExecuteTime": {
     "end_time": "2020-01-31T05:51:51.885654Z",
     "start_time": "2020-01-31T05:51:51.878047Z"
    }
   },
   "outputs": [],
   "source": [
    "df['text'] = df['title'].fillna('').map(str) + df['selftext'].fillna('').map(str)"
   ]
  },
  {
   "cell_type": "code",
   "execution_count": 48,
   "metadata": {
    "ExecuteTime": {
     "end_time": "2020-01-31T05:51:51.895554Z",
     "start_time": "2020-01-31T05:51:51.887052Z"
    }
   },
   "outputs": [
    {
     "data": {
      "text/html": [
       "<div>\n",
       "<style scoped>\n",
       "    .dataframe tbody tr th:only-of-type {\n",
       "        vertical-align: middle;\n",
       "    }\n",
       "\n",
       "    .dataframe tbody tr th {\n",
       "        vertical-align: top;\n",
       "    }\n",
       "\n",
       "    .dataframe thead th {\n",
       "        text-align: right;\n",
       "    }\n",
       "</style>\n",
       "<table border=\"1\" class=\"dataframe\">\n",
       "  <thead>\n",
       "    <tr style=\"text-align: right;\">\n",
       "      <th></th>\n",
       "      <th>text</th>\n",
       "    </tr>\n",
       "  </thead>\n",
       "  <tbody>\n",
       "    <tr>\n",
       "      <th>0</th>\n",
       "      <td>Why is makeup so important? Why can't some gir...</td>\n",
       "    </tr>\n",
       "    <tr>\n",
       "      <th>1</th>\n",
       "      <td>Do you ever find the close male friendship/bro...</td>\n",
       "    </tr>\n",
       "    <tr>\n",
       "      <th>2</th>\n",
       "      <td>Why do some women not like being called babe, ...</td>\n",
       "    </tr>\n",
       "    <tr>\n",
       "      <th>3</th>\n",
       "      <td>Peeing Instead of Having an Orgasm Help!Hi eve...</td>\n",
       "    </tr>\n",
       "    <tr>\n",
       "      <th>4</th>\n",
       "      <td>Is/should gender be assigned</td>\n",
       "    </tr>\n",
       "    <tr>\n",
       "      <th>...</th>\n",
       "      <td>...</td>\n",
       "    </tr>\n",
       "    <tr>\n",
       "      <th>5895</th>\n",
       "      <td>What is the most chicken you have eaten in one...</td>\n",
       "    </tr>\n",
       "    <tr>\n",
       "      <th>5896</th>\n",
       "      <td>Homecoming Drama</td>\n",
       "    </tr>\n",
       "    <tr>\n",
       "      <th>5897</th>\n",
       "      <td>Do guys always say “this is the best blowjob i...</td>\n",
       "    </tr>\n",
       "    <tr>\n",
       "      <th>5898</th>\n",
       "      <td>RIP Kobe Bryant, how will you remember Kobe Br...</td>\n",
       "    </tr>\n",
       "    <tr>\n",
       "      <th>5899</th>\n",
       "      <td>Men who only post headless pics with no shirt ...</td>\n",
       "    </tr>\n",
       "  </tbody>\n",
       "</table>\n",
       "<p>5900 rows × 1 columns</p>\n",
       "</div>"
      ],
      "text/plain": [
       "                                                   text\n",
       "0     Why is makeup so important? Why can't some gir...\n",
       "1     Do you ever find the close male friendship/bro...\n",
       "2     Why do some women not like being called babe, ...\n",
       "3     Peeing Instead of Having an Orgasm Help!Hi eve...\n",
       "4                          Is/should gender be assigned\n",
       "...                                                 ...\n",
       "5895  What is the most chicken you have eaten in one...\n",
       "5896                                   Homecoming Drama\n",
       "5897  Do guys always say “this is the best blowjob i...\n",
       "5898  RIP Kobe Bryant, how will you remember Kobe Br...\n",
       "5899  Men who only post headless pics with no shirt ...\n",
       "\n",
       "[5900 rows x 1 columns]"
      ]
     },
     "execution_count": 48,
     "metadata": {},
     "output_type": "execute_result"
    }
   ],
   "source": [
    "df[['text']]"
   ]
  },
  {
   "cell_type": "code",
   "execution_count": 49,
   "metadata": {
    "ExecuteTime": {
     "end_time": "2020-01-31T05:51:51.900472Z",
     "start_time": "2020-01-31T05:51:51.896982Z"
    }
   },
   "outputs": [
    {
     "data": {
      "text/plain": [
       "'/r/AskWomen/comments/90v48m/do_straight_women_get_upset_or_angry_if_another/'"
      ]
     },
     "execution_count": 49,
     "metadata": {},
     "output_type": "execute_result"
    }
   ],
   "source": [
    "df['permalink'][2940]"
   ]
  },
  {
   "cell_type": "code",
   "execution_count": 50,
   "metadata": {
    "ExecuteTime": {
     "end_time": "2020-01-31T05:51:51.907014Z",
     "start_time": "2020-01-31T05:51:51.901887Z"
    },
    "scrolled": true
   },
   "outputs": [
    {
     "data": {
      "text/plain": [
       "0        True\n",
       "1       False\n",
       "2       False\n",
       "3        True\n",
       "4        True\n",
       "        ...  \n",
       "2931    False\n",
       "2932     True\n",
       "2933     True\n",
       "2934    False\n",
       "2935     True\n",
       "Name: selftext, Length: 2936, dtype: bool"
      ]
     },
     "execution_count": 50,
     "metadata": {},
     "output_type": "execute_result"
    }
   ],
   "source": [
    "(men['selftext'] == \"[removed]\")"
   ]
  },
  {
   "cell_type": "code",
   "execution_count": 51,
   "metadata": {
    "ExecuteTime": {
     "end_time": "2020-01-31T05:51:51.913038Z",
     "start_time": "2020-01-31T05:51:51.908414Z"
    }
   },
   "outputs": [
    {
     "data": {
      "text/plain": [
       "'/r/AskMen/comments/ewjmxx/any_insight_on_how_to_handle_a_coworker_trying_to/'"
      ]
     },
     "execution_count": 51,
     "metadata": {},
     "output_type": "execute_result"
    }
   ],
   "source": [
    "men.iloc[(1)]['permalink']"
   ]
  },
  {
   "cell_type": "code",
   "execution_count": 52,
   "metadata": {
    "ExecuteTime": {
     "end_time": "2020-01-31T05:51:51.916616Z",
     "start_time": "2020-01-31T05:51:51.914314Z"
    }
   },
   "outputs": [],
   "source": [
    "tokenizer = RegexpTokenizer('\\s+', gaps=True)"
   ]
  },
  {
   "cell_type": "code",
   "execution_count": 53,
   "metadata": {
    "ExecuteTime": {
     "end_time": "2020-01-31T05:51:51.920298Z",
     "start_time": "2020-01-31T05:51:51.917968Z"
    }
   },
   "outputs": [],
   "source": [
    "cvec = CountVectorizer(min_df=2, stop_words='english', strip_accents= 'unicode')"
   ]
  },
  {
   "cell_type": "code",
   "execution_count": 54,
   "metadata": {
    "ExecuteTime": {
     "end_time": "2020-01-31T05:51:51.924307Z",
     "start_time": "2020-01-31T05:51:51.921825Z"
    }
   },
   "outputs": [],
   "source": [
    "y = df['subreddit']"
   ]
  },
  {
   "cell_type": "code",
   "execution_count": 55,
   "metadata": {
    "ExecuteTime": {
     "end_time": "2020-01-31T05:51:51.928004Z",
     "start_time": "2020-01-31T05:51:51.925570Z"
    }
   },
   "outputs": [],
   "source": [
    "x = titles_clean['title']"
   ]
  },
  {
   "cell_type": "code",
   "execution_count": 56,
   "metadata": {
    "ExecuteTime": {
     "end_time": "2020-01-31T05:51:51.932941Z",
     "start_time": "2020-01-31T05:51:51.929344Z"
    }
   },
   "outputs": [],
   "source": [
    "x_train, x_test, y_train, y_test = train_test_split(x, y) "
   ]
  },
  {
   "cell_type": "code",
   "execution_count": 57,
   "metadata": {
    "ExecuteTime": {
     "end_time": "2020-01-31T05:51:51.989986Z",
     "start_time": "2020-01-31T05:51:51.934375Z"
    }
   },
   "outputs": [
    {
     "data": {
      "text/plain": [
       "CountVectorizer(analyzer='word', binary=False, decode_error='strict',\n",
       "                dtype=<class 'numpy.int64'>, encoding='utf-8', input='content',\n",
       "                lowercase=True, max_df=1.0, max_features=None, min_df=2,\n",
       "                ngram_range=(1, 1), preprocessor=None, stop_words='english',\n",
       "                strip_accents='unicode', token_pattern='(?u)\\\\b\\\\w\\\\w+\\\\b',\n",
       "                tokenizer=None, vocabulary=None)"
      ]
     },
     "execution_count": 57,
     "metadata": {},
     "output_type": "execute_result"
    }
   ],
   "source": [
    "cvec.fit(x_train)"
   ]
  },
  {
   "cell_type": "code",
   "execution_count": 58,
   "metadata": {
    "ExecuteTime": {
     "end_time": "2020-01-31T05:51:52.065471Z",
     "start_time": "2020-01-31T05:51:51.991901Z"
    }
   },
   "outputs": [],
   "source": [
    "x_train_cvec = cvec.transform(x_train)\n",
    "x_test_cvec = cvec.transform(x_test)"
   ]
  },
  {
   "cell_type": "code",
   "execution_count": 59,
   "metadata": {
    "ExecuteTime": {
     "end_time": "2020-01-31T05:51:52.074660Z",
     "start_time": "2020-01-31T05:51:52.070416Z"
    }
   },
   "outputs": [
    {
     "data": {
      "text/plain": [
       "<4425x2364 sparse matrix of type '<class 'numpy.int64'>'\n",
       "\twith 20928 stored elements in Compressed Sparse Row format>"
      ]
     },
     "execution_count": 59,
     "metadata": {},
     "output_type": "execute_result"
    }
   ],
   "source": [
    "x_train_cvec"
   ]
  },
  {
   "cell_type": "code",
   "execution_count": 60,
   "metadata": {
    "ExecuteTime": {
     "end_time": "2020-01-31T05:51:52.108721Z",
     "start_time": "2020-01-31T05:51:52.076872Z"
    }
   },
   "outputs": [],
   "source": [
    "titles = pd.DataFrame(x_train_cvec.todense(), columns = cvec.get_feature_names())"
   ]
  },
  {
   "cell_type": "code",
   "execution_count": 61,
   "metadata": {
    "ExecuteTime": {
     "end_time": "2020-01-31T05:51:52.116794Z",
     "start_time": "2020-01-31T05:51:52.110113Z"
    },
    "scrolled": true
   },
   "outputs": [],
   "source": [
    "titles['subreddit'] = df['subreddit']"
   ]
  },
  {
   "cell_type": "code",
   "execution_count": 63,
   "metadata": {
    "ExecuteTime": {
     "end_time": "2020-01-31T05:51:52.197371Z",
     "start_time": "2020-01-31T05:51:52.144293Z"
    }
   },
   "outputs": [
    {
     "data": {
      "text/plain": [
       "subreddit       2964\n",
       "men              298\n",
       "women            283\n",
       "like             173\n",
       "did              172\n",
       "feel             157\n",
       "guys             156\n",
       "whats            140\n",
       "guy              138\n",
       "girl             138\n",
       "reddit           137\n",
       "sex              126\n",
       "does             120\n",
       "think            109\n",
       "friends           99\n",
       "woman             97\n",
       "make              97\n",
       "just              92\n",
       "time              90\n",
       "relationship      89\n",
       "dtype: int64"
      ]
     },
     "execution_count": 63,
     "metadata": {},
     "output_type": "execute_result"
    }
   ],
   "source": [
    "titles[titles['subreddit'] == 1].sum().sort_values(ascending = False).head(20)"
   ]
  },
  {
   "cell_type": "code",
   "execution_count": 116,
   "metadata": {
    "ExecuteTime": {
     "end_time": "2020-01-31T06:01:56.821090Z",
     "start_time": "2020-01-31T06:01:56.791243Z"
    }
   },
   "outputs": [
    {
     "data": {
      "text/plain": [
       "women     135\n",
       "men       130\n",
       "like      119\n",
       "whats      92\n",
       "guys       79\n",
       "did        77\n",
       "does       74\n",
       "guy        71\n",
       "reddit     67\n",
       "feel       63\n",
       "dtype: int64"
      ]
     },
     "execution_count": 116,
     "metadata": {},
     "output_type": "execute_result"
    }
   ],
   "source": [
    "titles[titles['subreddit'] == 0].sum().sort_values(ascending = False).head(10)"
   ]
  },
  {
   "cell_type": "code",
   "execution_count": 65,
   "metadata": {
    "ExecuteTime": {
     "end_time": "2020-01-31T05:51:52.247130Z",
     "start_time": "2020-01-31T05:51:52.233100Z"
    }
   },
   "outputs": [],
   "source": [
    "vocab_men = (titles[titles['subreddit'] == 0].sum()) > 0 "
   ]
  },
  {
   "cell_type": "code",
   "execution_count": 66,
   "metadata": {
    "ExecuteTime": {
     "end_time": "2020-01-31T05:51:52.277133Z",
     "start_time": "2020-01-31T05:51:52.248446Z"
    }
   },
   "outputs": [],
   "source": [
    "vocab_women = (titles[titles['subreddit'] == 1].sum()) > 0 "
   ]
  },
  {
   "cell_type": "code",
   "execution_count": 71,
   "metadata": {
    "ExecuteTime": {
     "end_time": "2020-01-31T05:51:52.315613Z",
     "start_time": "2020-01-31T05:51:52.300034Z"
    }
   },
   "outputs": [
    {
     "data": {
      "text/plain": [
       "subreddit    2964\n",
       "men           428\n",
       "women         418\n",
       "like          292\n",
       "did           249\n",
       "             ... \n",
       "gifting         2\n",
       "studies         2\n",
       "ghosted         2\n",
       "gf24            2\n",
       "knocked         2\n",
       "Length: 2364, dtype: int64"
      ]
     },
     "execution_count": 71,
     "metadata": {},
     "output_type": "execute_result"
    }
   ],
   "source": [
    "titles.sum().sort_values(ascending=False)"
   ]
  },
  {
   "cell_type": "code",
   "execution_count": 72,
   "metadata": {
    "ExecuteTime": {
     "end_time": "2020-01-31T05:51:52.321681Z",
     "start_time": "2020-01-31T05:51:52.317911Z"
    }
   },
   "outputs": [],
   "source": [
    "vectorizer2 = TfidfVectorizer(stop_words='english', min_df=2, max_df=1000, )"
   ]
  },
  {
   "cell_type": "code",
   "execution_count": 73,
   "metadata": {
    "ExecuteTime": {
     "end_time": "2020-01-31T05:51:52.403962Z",
     "start_time": "2020-01-31T05:51:52.324029Z"
    }
   },
   "outputs": [],
   "source": [
    "x_train_tf = vectorizer2.fit_transform(x_train)\n",
    "x_test_tf = vectorizer2.transform(x_test)"
   ]
  },
  {
   "cell_type": "code",
   "execution_count": 74,
   "metadata": {
    "ExecuteTime": {
     "end_time": "2020-01-31T05:51:52.434778Z",
     "start_time": "2020-01-31T05:51:52.405938Z"
    }
   },
   "outputs": [],
   "source": [
    "titles_tf = pd.DataFrame(x_train_tf.todense(), columns=vectorizer2.get_feature_names())"
   ]
  },
  {
   "cell_type": "code",
   "execution_count": 76,
   "metadata": {
    "ExecuteTime": {
     "end_time": "2020-01-31T05:51:52.578137Z",
     "start_time": "2020-01-31T05:51:52.474868Z"
    },
    "scrolled": true
   },
   "outputs": [],
   "source": [
    "stops = titles_tf.sum().sort_values(ascending = False).head(20)"
   ]
  },
  {
   "cell_type": "code",
   "execution_count": 77,
   "metadata": {
    "ExecuteTime": {
     "end_time": "2020-01-31T05:51:52.581759Z",
     "start_time": "2020-01-31T05:51:52.579372Z"
    }
   },
   "outputs": [],
   "source": [
    "lr = LogisticRegression()"
   ]
  },
  {
   "cell_type": "code",
   "execution_count": 78,
   "metadata": {
    "ExecuteTime": {
     "end_time": "2020-01-31T05:51:52.716118Z",
     "start_time": "2020-01-31T05:51:52.583267Z"
    }
   },
   "outputs": [
    {
     "name": "stderr",
     "output_type": "stream",
     "text": [
      "/opt/anaconda3/lib/python3.7/site-packages/sklearn/linear_model/logistic.py:432: FutureWarning: Default solver will be changed to 'lbfgs' in 0.22. Specify a solver to silence this warning.\n",
      "  FutureWarning)\n"
     ]
    },
    {
     "data": {
      "text/plain": [
       "LogisticRegression(C=1.0, class_weight=None, dual=False, fit_intercept=True,\n",
       "                   intercept_scaling=1, l1_ratio=None, max_iter=100,\n",
       "                   multi_class='warn', n_jobs=None, penalty='l2',\n",
       "                   random_state=None, solver='warn', tol=0.0001, verbose=0,\n",
       "                   warm_start=False)"
      ]
     },
     "execution_count": 78,
     "metadata": {},
     "output_type": "execute_result"
    }
   ],
   "source": [
    "lr.fit(x_train_cvec, y_train)"
   ]
  },
  {
   "cell_type": "code",
   "execution_count": 79,
   "metadata": {
    "ExecuteTime": {
     "end_time": "2020-01-31T05:51:52.723673Z",
     "start_time": "2020-01-31T05:51:52.718179Z"
    }
   },
   "outputs": [
    {
     "data": {
      "text/plain": [
       "0.8366101694915254"
      ]
     },
     "execution_count": 79,
     "metadata": {},
     "output_type": "execute_result"
    }
   ],
   "source": [
    "lr.score(x_train_cvec, y_train)"
   ]
  },
  {
   "cell_type": "code",
   "execution_count": 80,
   "metadata": {
    "ExecuteTime": {
     "end_time": "2020-01-31T05:51:52.730249Z",
     "start_time": "2020-01-31T05:51:52.725141Z"
    }
   },
   "outputs": [
    {
     "data": {
      "text/plain": [
       "0.6311864406779661"
      ]
     },
     "execution_count": 80,
     "metadata": {},
     "output_type": "execute_result"
    }
   ],
   "source": [
    "lr.score(x_test_cvec, y_test)"
   ]
  },
  {
   "cell_type": "code",
   "execution_count": 81,
   "metadata": {
    "ExecuteTime": {
     "end_time": "2020-01-31T05:51:52.743080Z",
     "start_time": "2020-01-31T05:51:52.731827Z"
    }
   },
   "outputs": [
    {
     "data": {
      "text/plain": [
       "LogisticRegression(C=1.0, class_weight=None, dual=False, fit_intercept=True,\n",
       "                   intercept_scaling=1, l1_ratio=None, max_iter=100,\n",
       "                   multi_class='warn', n_jobs=None, penalty='l2',\n",
       "                   random_state=None, solver='warn', tol=0.0001, verbose=0,\n",
       "                   warm_start=False)"
      ]
     },
     "execution_count": 81,
     "metadata": {},
     "output_type": "execute_result"
    }
   ],
   "source": [
    "lr.fit(x_train_tf, y_train)"
   ]
  },
  {
   "cell_type": "code",
   "execution_count": 82,
   "metadata": {
    "ExecuteTime": {
     "end_time": "2020-01-31T05:51:52.748896Z",
     "start_time": "2020-01-31T05:51:52.744445Z"
    }
   },
   "outputs": [
    {
     "data": {
      "text/plain": [
       "0.8024858757062147"
      ]
     },
     "execution_count": 82,
     "metadata": {},
     "output_type": "execute_result"
    }
   ],
   "source": [
    "lr.score(x_train_tf, y_train)"
   ]
  },
  {
   "cell_type": "code",
   "execution_count": 83,
   "metadata": {
    "ExecuteTime": {
     "end_time": "2020-01-31T05:51:52.754653Z",
     "start_time": "2020-01-31T05:51:52.750097Z"
    }
   },
   "outputs": [
    {
     "data": {
      "text/plain": [
       "0.6393220338983051"
      ]
     },
     "execution_count": 83,
     "metadata": {},
     "output_type": "execute_result"
    }
   ],
   "source": [
    "lr.score(x_test_tf, y_test)"
   ]
  },
  {
   "cell_type": "code",
   "execution_count": 84,
   "metadata": {
    "ExecuteTime": {
     "end_time": "2020-01-31T05:51:52.758754Z",
     "start_time": "2020-01-31T05:51:52.755984Z"
    }
   },
   "outputs": [],
   "source": [
    "x = df['text']\n",
    "y = df['subreddit']"
   ]
  },
  {
   "cell_type": "code",
   "execution_count": 85,
   "metadata": {
    "ExecuteTime": {
     "end_time": "2020-01-31T05:51:52.766679Z",
     "start_time": "2020-01-31T05:51:52.760420Z"
    }
   },
   "outputs": [],
   "source": [
    "x_train, x_test, y_train, y_test = train_test_split(x, y)"
   ]
  },
  {
   "cell_type": "code",
   "execution_count": 86,
   "metadata": {
    "ExecuteTime": {
     "end_time": "2020-01-31T05:51:52.906965Z",
     "start_time": "2020-01-31T05:51:52.769012Z"
    }
   },
   "outputs": [
    {
     "data": {
      "text/plain": [
       "CountVectorizer(analyzer='word', binary=False, decode_error='strict',\n",
       "                dtype=<class 'numpy.int64'>, encoding='utf-8', input='content',\n",
       "                lowercase=True, max_df=1.0, max_features=None, min_df=2,\n",
       "                ngram_range=(1, 1), preprocessor=None, stop_words='english',\n",
       "                strip_accents='unicode', token_pattern='(?u)\\\\b\\\\w\\\\w+\\\\b',\n",
       "                tokenizer=None, vocabulary=None)"
      ]
     },
     "execution_count": 86,
     "metadata": {},
     "output_type": "execute_result"
    }
   ],
   "source": [
    "cvec.fit(x_train)"
   ]
  },
  {
   "cell_type": "code",
   "execution_count": 87,
   "metadata": {
    "ExecuteTime": {
     "end_time": "2020-01-31T05:51:53.072162Z",
     "start_time": "2020-01-31T05:51:52.908509Z"
    }
   },
   "outputs": [],
   "source": [
    "x_train_cvec = cvec.transform(x_train)\n",
    "x_test_cvec = cvec.transform(x_test)"
   ]
  },
  {
   "cell_type": "code",
   "execution_count": 88,
   "metadata": {
    "ExecuteTime": {
     "end_time": "2020-01-31T05:51:53.115777Z",
     "start_time": "2020-01-31T05:51:53.073635Z"
    }
   },
   "outputs": [
    {
     "name": "stderr",
     "output_type": "stream",
     "text": [
      "/opt/anaconda3/lib/python3.7/site-packages/sklearn/linear_model/logistic.py:432: FutureWarning: Default solver will be changed to 'lbfgs' in 0.22. Specify a solver to silence this warning.\n",
      "  FutureWarning)\n"
     ]
    },
    {
     "data": {
      "text/plain": [
       "LogisticRegression(C=1.0, class_weight=None, dual=False, fit_intercept=True,\n",
       "                   intercept_scaling=1, l1_ratio=None, max_iter=100,\n",
       "                   multi_class='warn', n_jobs=None, penalty='l2',\n",
       "                   random_state=None, solver='warn', tol=0.0001, verbose=0,\n",
       "                   warm_start=False)"
      ]
     },
     "execution_count": 88,
     "metadata": {},
     "output_type": "execute_result"
    }
   ],
   "source": [
    "lr.fit(x_train_cvec, y_train)"
   ]
  },
  {
   "cell_type": "code",
   "execution_count": 89,
   "metadata": {
    "ExecuteTime": {
     "end_time": "2020-01-31T05:51:53.125098Z",
     "start_time": "2020-01-31T05:51:53.117655Z"
    }
   },
   "outputs": [
    {
     "data": {
      "text/plain": [
       "0.8842937853107344"
      ]
     },
     "execution_count": 89,
     "metadata": {},
     "output_type": "execute_result"
    }
   ],
   "source": [
    "lr.score(x_train_cvec, y_train)"
   ]
  },
  {
   "cell_type": "code",
   "execution_count": 90,
   "metadata": {
    "ExecuteTime": {
     "end_time": "2020-01-31T05:51:53.134251Z",
     "start_time": "2020-01-31T05:51:53.127126Z"
    }
   },
   "outputs": [
    {
     "data": {
      "text/plain": [
       "0.6596610169491526"
      ]
     },
     "execution_count": 90,
     "metadata": {},
     "output_type": "execute_result"
    }
   ],
   "source": [
    "lr.score(x_test_cvec, y_test)"
   ]
  },
  {
   "cell_type": "code",
   "execution_count": 91,
   "metadata": {
    "ExecuteTime": {
     "end_time": "2020-01-31T05:51:53.183227Z",
     "start_time": "2020-01-31T05:51:53.136882Z"
    }
   },
   "outputs": [],
   "source": [
    "text = pd.DataFrame(x_train_cvec.todense(), columns = cvec.get_feature_names())"
   ]
  },
  {
   "cell_type": "code",
   "execution_count": 92,
   "metadata": {
    "ExecuteTime": {
     "end_time": "2020-01-31T05:51:53.213286Z",
     "start_time": "2020-01-31T05:51:53.184884Z"
    }
   },
   "outputs": [
    {
     "data": {
      "text/html": [
       "<div>\n",
       "<style scoped>\n",
       "    .dataframe tbody tr th:only-of-type {\n",
       "        vertical-align: middle;\n",
       "    }\n",
       "\n",
       "    .dataframe tbody tr th {\n",
       "        vertical-align: top;\n",
       "    }\n",
       "\n",
       "    .dataframe thead th {\n",
       "        text-align: right;\n",
       "    }\n",
       "</style>\n",
       "<table border=\"1\" class=\"dataframe\">\n",
       "  <thead>\n",
       "    <tr style=\"text-align: right;\">\n",
       "      <th></th>\n",
       "      <th>000</th>\n",
       "      <th>10</th>\n",
       "      <th>100</th>\n",
       "      <th>100k</th>\n",
       "      <th>10k</th>\n",
       "      <th>10th</th>\n",
       "      <th>11</th>\n",
       "      <th>12</th>\n",
       "      <th>13</th>\n",
       "      <th>14</th>\n",
       "      <th>...</th>\n",
       "      <th>youre</th>\n",
       "      <th>youth</th>\n",
       "      <th>youtu</th>\n",
       "      <th>youtube</th>\n",
       "      <th>youtubers</th>\n",
       "      <th>yr</th>\n",
       "      <th>zero</th>\n",
       "      <th>zodiac</th>\n",
       "      <th>zone</th>\n",
       "      <th>zoned</th>\n",
       "    </tr>\n",
       "  </thead>\n",
       "  <tbody>\n",
       "    <tr>\n",
       "      <th>0</th>\n",
       "      <td>0</td>\n",
       "      <td>0</td>\n",
       "      <td>0</td>\n",
       "      <td>0</td>\n",
       "      <td>0</td>\n",
       "      <td>0</td>\n",
       "      <td>0</td>\n",
       "      <td>0</td>\n",
       "      <td>0</td>\n",
       "      <td>0</td>\n",
       "      <td>...</td>\n",
       "      <td>0</td>\n",
       "      <td>0</td>\n",
       "      <td>0</td>\n",
       "      <td>0</td>\n",
       "      <td>0</td>\n",
       "      <td>0</td>\n",
       "      <td>0</td>\n",
       "      <td>0</td>\n",
       "      <td>0</td>\n",
       "      <td>0</td>\n",
       "    </tr>\n",
       "    <tr>\n",
       "      <th>1</th>\n",
       "      <td>0</td>\n",
       "      <td>0</td>\n",
       "      <td>0</td>\n",
       "      <td>0</td>\n",
       "      <td>0</td>\n",
       "      <td>0</td>\n",
       "      <td>0</td>\n",
       "      <td>0</td>\n",
       "      <td>0</td>\n",
       "      <td>0</td>\n",
       "      <td>...</td>\n",
       "      <td>0</td>\n",
       "      <td>0</td>\n",
       "      <td>0</td>\n",
       "      <td>0</td>\n",
       "      <td>0</td>\n",
       "      <td>0</td>\n",
       "      <td>0</td>\n",
       "      <td>0</td>\n",
       "      <td>0</td>\n",
       "      <td>0</td>\n",
       "    </tr>\n",
       "    <tr>\n",
       "      <th>2</th>\n",
       "      <td>0</td>\n",
       "      <td>0</td>\n",
       "      <td>0</td>\n",
       "      <td>0</td>\n",
       "      <td>0</td>\n",
       "      <td>0</td>\n",
       "      <td>0</td>\n",
       "      <td>0</td>\n",
       "      <td>0</td>\n",
       "      <td>0</td>\n",
       "      <td>...</td>\n",
       "      <td>0</td>\n",
       "      <td>0</td>\n",
       "      <td>0</td>\n",
       "      <td>0</td>\n",
       "      <td>0</td>\n",
       "      <td>0</td>\n",
       "      <td>0</td>\n",
       "      <td>0</td>\n",
       "      <td>0</td>\n",
       "      <td>0</td>\n",
       "    </tr>\n",
       "    <tr>\n",
       "      <th>3</th>\n",
       "      <td>0</td>\n",
       "      <td>0</td>\n",
       "      <td>0</td>\n",
       "      <td>0</td>\n",
       "      <td>0</td>\n",
       "      <td>0</td>\n",
       "      <td>0</td>\n",
       "      <td>0</td>\n",
       "      <td>0</td>\n",
       "      <td>0</td>\n",
       "      <td>...</td>\n",
       "      <td>0</td>\n",
       "      <td>0</td>\n",
       "      <td>0</td>\n",
       "      <td>0</td>\n",
       "      <td>0</td>\n",
       "      <td>0</td>\n",
       "      <td>0</td>\n",
       "      <td>0</td>\n",
       "      <td>0</td>\n",
       "      <td>0</td>\n",
       "    </tr>\n",
       "    <tr>\n",
       "      <th>4</th>\n",
       "      <td>0</td>\n",
       "      <td>0</td>\n",
       "      <td>0</td>\n",
       "      <td>0</td>\n",
       "      <td>0</td>\n",
       "      <td>0</td>\n",
       "      <td>0</td>\n",
       "      <td>0</td>\n",
       "      <td>0</td>\n",
       "      <td>0</td>\n",
       "      <td>...</td>\n",
       "      <td>0</td>\n",
       "      <td>0</td>\n",
       "      <td>0</td>\n",
       "      <td>0</td>\n",
       "      <td>0</td>\n",
       "      <td>0</td>\n",
       "      <td>0</td>\n",
       "      <td>0</td>\n",
       "      <td>0</td>\n",
       "      <td>0</td>\n",
       "    </tr>\n",
       "    <tr>\n",
       "      <th>...</th>\n",
       "      <td>...</td>\n",
       "      <td>...</td>\n",
       "      <td>...</td>\n",
       "      <td>...</td>\n",
       "      <td>...</td>\n",
       "      <td>...</td>\n",
       "      <td>...</td>\n",
       "      <td>...</td>\n",
       "      <td>...</td>\n",
       "      <td>...</td>\n",
       "      <td>...</td>\n",
       "      <td>...</td>\n",
       "      <td>...</td>\n",
       "      <td>...</td>\n",
       "      <td>...</td>\n",
       "      <td>...</td>\n",
       "      <td>...</td>\n",
       "      <td>...</td>\n",
       "      <td>...</td>\n",
       "      <td>...</td>\n",
       "      <td>...</td>\n",
       "    </tr>\n",
       "    <tr>\n",
       "      <th>4420</th>\n",
       "      <td>0</td>\n",
       "      <td>0</td>\n",
       "      <td>0</td>\n",
       "      <td>0</td>\n",
       "      <td>0</td>\n",
       "      <td>0</td>\n",
       "      <td>0</td>\n",
       "      <td>0</td>\n",
       "      <td>0</td>\n",
       "      <td>0</td>\n",
       "      <td>...</td>\n",
       "      <td>0</td>\n",
       "      <td>0</td>\n",
       "      <td>0</td>\n",
       "      <td>0</td>\n",
       "      <td>0</td>\n",
       "      <td>0</td>\n",
       "      <td>0</td>\n",
       "      <td>0</td>\n",
       "      <td>0</td>\n",
       "      <td>0</td>\n",
       "    </tr>\n",
       "    <tr>\n",
       "      <th>4421</th>\n",
       "      <td>0</td>\n",
       "      <td>0</td>\n",
       "      <td>0</td>\n",
       "      <td>0</td>\n",
       "      <td>0</td>\n",
       "      <td>0</td>\n",
       "      <td>0</td>\n",
       "      <td>0</td>\n",
       "      <td>0</td>\n",
       "      <td>0</td>\n",
       "      <td>...</td>\n",
       "      <td>0</td>\n",
       "      <td>0</td>\n",
       "      <td>0</td>\n",
       "      <td>0</td>\n",
       "      <td>0</td>\n",
       "      <td>0</td>\n",
       "      <td>0</td>\n",
       "      <td>0</td>\n",
       "      <td>0</td>\n",
       "      <td>0</td>\n",
       "    </tr>\n",
       "    <tr>\n",
       "      <th>4422</th>\n",
       "      <td>0</td>\n",
       "      <td>0</td>\n",
       "      <td>0</td>\n",
       "      <td>0</td>\n",
       "      <td>0</td>\n",
       "      <td>0</td>\n",
       "      <td>0</td>\n",
       "      <td>0</td>\n",
       "      <td>0</td>\n",
       "      <td>0</td>\n",
       "      <td>...</td>\n",
       "      <td>0</td>\n",
       "      <td>0</td>\n",
       "      <td>0</td>\n",
       "      <td>0</td>\n",
       "      <td>0</td>\n",
       "      <td>0</td>\n",
       "      <td>0</td>\n",
       "      <td>0</td>\n",
       "      <td>0</td>\n",
       "      <td>0</td>\n",
       "    </tr>\n",
       "    <tr>\n",
       "      <th>4423</th>\n",
       "      <td>0</td>\n",
       "      <td>0</td>\n",
       "      <td>0</td>\n",
       "      <td>0</td>\n",
       "      <td>0</td>\n",
       "      <td>0</td>\n",
       "      <td>0</td>\n",
       "      <td>0</td>\n",
       "      <td>0</td>\n",
       "      <td>0</td>\n",
       "      <td>...</td>\n",
       "      <td>0</td>\n",
       "      <td>0</td>\n",
       "      <td>0</td>\n",
       "      <td>0</td>\n",
       "      <td>0</td>\n",
       "      <td>0</td>\n",
       "      <td>0</td>\n",
       "      <td>0</td>\n",
       "      <td>0</td>\n",
       "      <td>0</td>\n",
       "    </tr>\n",
       "    <tr>\n",
       "      <th>4424</th>\n",
       "      <td>0</td>\n",
       "      <td>0</td>\n",
       "      <td>0</td>\n",
       "      <td>0</td>\n",
       "      <td>0</td>\n",
       "      <td>0</td>\n",
       "      <td>0</td>\n",
       "      <td>0</td>\n",
       "      <td>0</td>\n",
       "      <td>0</td>\n",
       "      <td>...</td>\n",
       "      <td>0</td>\n",
       "      <td>0</td>\n",
       "      <td>0</td>\n",
       "      <td>0</td>\n",
       "      <td>0</td>\n",
       "      <td>0</td>\n",
       "      <td>0</td>\n",
       "      <td>0</td>\n",
       "      <td>0</td>\n",
       "      <td>0</td>\n",
       "    </tr>\n",
       "  </tbody>\n",
       "</table>\n",
       "<p>4425 rows × 4327 columns</p>\n",
       "</div>"
      ],
      "text/plain": [
       "      000  10  100  100k  10k  10th  11  12  13  14  ...  youre  youth  youtu  \\\n",
       "0       0   0    0     0    0     0   0   0   0   0  ...      0      0      0   \n",
       "1       0   0    0     0    0     0   0   0   0   0  ...      0      0      0   \n",
       "2       0   0    0     0    0     0   0   0   0   0  ...      0      0      0   \n",
       "3       0   0    0     0    0     0   0   0   0   0  ...      0      0      0   \n",
       "4       0   0    0     0    0     0   0   0   0   0  ...      0      0      0   \n",
       "...   ...  ..  ...   ...  ...   ...  ..  ..  ..  ..  ...    ...    ...    ...   \n",
       "4420    0   0    0     0    0     0   0   0   0   0  ...      0      0      0   \n",
       "4421    0   0    0     0    0     0   0   0   0   0  ...      0      0      0   \n",
       "4422    0   0    0     0    0     0   0   0   0   0  ...      0      0      0   \n",
       "4423    0   0    0     0    0     0   0   0   0   0  ...      0      0      0   \n",
       "4424    0   0    0     0    0     0   0   0   0   0  ...      0      0      0   \n",
       "\n",
       "      youtube  youtubers  yr  zero  zodiac  zone  zoned  \n",
       "0           0          0   0     0       0     0      0  \n",
       "1           0          0   0     0       0     0      0  \n",
       "2           0          0   0     0       0     0      0  \n",
       "3           0          0   0     0       0     0      0  \n",
       "4           0          0   0     0       0     0      0  \n",
       "...       ...        ...  ..   ...     ...   ...    ...  \n",
       "4420        0          0   0     0       0     0      0  \n",
       "4421        0          0   0     0       0     0      0  \n",
       "4422        0          0   0     0       0     0      0  \n",
       "4423        0          0   0     0       0     0      0  \n",
       "4424        0          0   0     0       0     0      0  \n",
       "\n",
       "[4425 rows x 4327 columns]"
      ]
     },
     "execution_count": 92,
     "metadata": {},
     "output_type": "execute_result"
    }
   ],
   "source": [
    "text"
   ]
  },
  {
   "cell_type": "code",
   "execution_count": 93,
   "metadata": {
    "ExecuteTime": {
     "end_time": "2020-01-31T05:51:53.247748Z",
     "start_time": "2020-01-31T05:51:53.215238Z"
    }
   },
   "outputs": [],
   "source": [
    "def clean_text(text):\n",
    "    text = text.lower()\n",
    "    regex = re.compile(\"[^a-zA-Z0-9!? ]\")\n",
    "    text = regex.sub('', text)\n",
    "    return text\n",
    "\n",
    "text_clean = pd.DataFrame(df['text'].apply(lambda x:clean_text(x))) "
   ]
  },
  {
   "cell_type": "code",
   "execution_count": 94,
   "metadata": {
    "ExecuteTime": {
     "end_time": "2020-01-31T05:51:53.273719Z",
     "start_time": "2020-01-31T05:51:53.250135Z"
    }
   },
   "outputs": [],
   "source": [
    "text_clean['titles'] = pd.DataFrame(df['title'].apply(lambda x:clean_text(x))) "
   ]
  },
  {
   "cell_type": "code",
   "execution_count": 95,
   "metadata": {
    "ExecuteTime": {
     "end_time": "2020-01-31T05:51:53.286046Z",
     "start_time": "2020-01-31T05:51:53.275885Z"
    }
   },
   "outputs": [
    {
     "data": {
      "text/html": [
       "<div>\n",
       "<style scoped>\n",
       "    .dataframe tbody tr th:only-of-type {\n",
       "        vertical-align: middle;\n",
       "    }\n",
       "\n",
       "    .dataframe tbody tr th {\n",
       "        vertical-align: top;\n",
       "    }\n",
       "\n",
       "    .dataframe thead th {\n",
       "        text-align: right;\n",
       "    }\n",
       "</style>\n",
       "<table border=\"1\" class=\"dataframe\">\n",
       "  <thead>\n",
       "    <tr style=\"text-align: right;\">\n",
       "      <th></th>\n",
       "      <th>text</th>\n",
       "      <th>titles</th>\n",
       "    </tr>\n",
       "  </thead>\n",
       "  <tbody>\n",
       "    <tr>\n",
       "      <th>0</th>\n",
       "      <td>why is makeup so important? why cant some girl...</td>\n",
       "      <td>why is makeup so important? why cant some girl...</td>\n",
       "    </tr>\n",
       "    <tr>\n",
       "      <th>1</th>\n",
       "      <td>do you ever find the close male friendshipbrom...</td>\n",
       "      <td>do you ever find the close male friendshipbrom...</td>\n",
       "    </tr>\n",
       "    <tr>\n",
       "      <th>2</th>\n",
       "      <td>why do some women not like being called babe a...</td>\n",
       "      <td>why do some women not like being called babe a...</td>\n",
       "    </tr>\n",
       "    <tr>\n",
       "      <th>3</th>\n",
       "      <td>peeing instead of having an orgasm help!hi eve...</td>\n",
       "      <td>peeing instead of having an orgasm help!</td>\n",
       "    </tr>\n",
       "    <tr>\n",
       "      <th>4</th>\n",
       "      <td>isshould gender be assigned</td>\n",
       "      <td>isshould gender be assigned</td>\n",
       "    </tr>\n",
       "    <tr>\n",
       "      <th>...</th>\n",
       "      <td>...</td>\n",
       "      <td>...</td>\n",
       "    </tr>\n",
       "    <tr>\n",
       "      <th>5895</th>\n",
       "      <td>what is the most chicken you have eaten in one...</td>\n",
       "      <td>what is the most chicken you have eaten in one...</td>\n",
       "    </tr>\n",
       "    <tr>\n",
       "      <th>5896</th>\n",
       "      <td>homecoming drama</td>\n",
       "      <td>homecoming drama</td>\n",
       "    </tr>\n",
       "    <tr>\n",
       "      <th>5897</th>\n",
       "      <td>do guys always say this is the best blowjob iv...</td>\n",
       "      <td>do guys always say this is the best blowjob iv...</td>\n",
       "    </tr>\n",
       "    <tr>\n",
       "      <th>5898</th>\n",
       "      <td>rip kobe bryant how will you remember kobe bry...</td>\n",
       "      <td>rip kobe bryant how will you remember kobe bry...</td>\n",
       "    </tr>\n",
       "    <tr>\n",
       "      <th>5899</th>\n",
       "      <td>men who only post headless pics with no shirt ...</td>\n",
       "      <td>men who only post headless pics with no shirt ...</td>\n",
       "    </tr>\n",
       "  </tbody>\n",
       "</table>\n",
       "<p>5900 rows × 2 columns</p>\n",
       "</div>"
      ],
      "text/plain": [
       "                                                   text  \\\n",
       "0     why is makeup so important? why cant some girl...   \n",
       "1     do you ever find the close male friendshipbrom...   \n",
       "2     why do some women not like being called babe a...   \n",
       "3     peeing instead of having an orgasm help!hi eve...   \n",
       "4                           isshould gender be assigned   \n",
       "...                                                 ...   \n",
       "5895  what is the most chicken you have eaten in one...   \n",
       "5896                                   homecoming drama   \n",
       "5897  do guys always say this is the best blowjob iv...   \n",
       "5898  rip kobe bryant how will you remember kobe bry...   \n",
       "5899  men who only post headless pics with no shirt ...   \n",
       "\n",
       "                                                 titles  \n",
       "0     why is makeup so important? why cant some girl...  \n",
       "1     do you ever find the close male friendshipbrom...  \n",
       "2     why do some women not like being called babe a...  \n",
       "3              peeing instead of having an orgasm help!  \n",
       "4                           isshould gender be assigned  \n",
       "...                                                 ...  \n",
       "5895  what is the most chicken you have eaten in one...  \n",
       "5896                                   homecoming drama  \n",
       "5897  do guys always say this is the best blowjob iv...  \n",
       "5898  rip kobe bryant how will you remember kobe bry...  \n",
       "5899  men who only post headless pics with no shirt ...  \n",
       "\n",
       "[5900 rows x 2 columns]"
      ]
     },
     "execution_count": 95,
     "metadata": {},
     "output_type": "execute_result"
    }
   ],
   "source": [
    "text_clean"
   ]
  },
  {
   "cell_type": "code",
   "execution_count": 96,
   "metadata": {
    "ExecuteTime": {
     "end_time": "2020-01-31T05:51:53.292414Z",
     "start_time": "2020-01-31T05:51:53.288456Z"
    }
   },
   "outputs": [],
   "source": [
    "lemmatizer = WordNetLemmatizer()"
   ]
  },
  {
   "cell_type": "code",
   "execution_count": 97,
   "metadata": {
    "ExecuteTime": {
     "end_time": "2020-01-31T05:51:53.297984Z",
     "start_time": "2020-01-31T05:51:53.294554Z"
    }
   },
   "outputs": [],
   "source": [
    "def lemmatize_text(text):\n",
    "    return [lemmatizer.lemmatize(w) for w in tokenizer.tokenize(text)]"
   ]
  },
  {
   "cell_type": "code",
   "execution_count": 98,
   "metadata": {
    "ExecuteTime": {
     "end_time": "2020-01-31T05:51:54.209350Z",
     "start_time": "2020-01-31T05:51:53.299852Z"
    }
   },
   "outputs": [],
   "source": [
    "text_clean['lemmatized'] = text_clean.text.apply(lemmatize_text)"
   ]
  },
  {
   "cell_type": "code",
   "execution_count": 99,
   "metadata": {
    "ExecuteTime": {
     "end_time": "2020-01-31T05:51:54.227916Z",
     "start_time": "2020-01-31T05:51:54.210707Z"
    }
   },
   "outputs": [],
   "source": [
    "seperator = ' '\n",
    "\n",
    "text_clean['lemmatized'] = text_clean['lemmatized'].apply(lambda x: seperator.join(x))"
   ]
  },
  {
   "cell_type": "code",
   "execution_count": 100,
   "metadata": {
    "ExecuteTime": {
     "end_time": "2020-01-31T05:51:54.583471Z",
     "start_time": "2020-01-31T05:51:54.229667Z"
    }
   },
   "outputs": [],
   "source": [
    "seperator = ' '\n",
    "\n",
    "text_clean['titles_lemmatized'] = text_clean.titles.apply(lemmatize_text)"
   ]
  },
  {
   "cell_type": "code",
   "execution_count": 101,
   "metadata": {
    "ExecuteTime": {
     "end_time": "2020-01-31T05:51:54.595437Z",
     "start_time": "2020-01-31T05:51:54.585309Z"
    }
   },
   "outputs": [],
   "source": [
    "seperator = ' '\n",
    "\n",
    "text_clean['titles_lemmatized'] = text_clean.titles_lemmatized.apply(lambda x: seperator.join(x))"
   ]
  },
  {
   "cell_type": "code",
   "execution_count": 102,
   "metadata": {
    "ExecuteTime": {
     "end_time": "2020-01-31T05:51:54.613231Z",
     "start_time": "2020-01-31T05:51:54.596777Z"
    }
   },
   "outputs": [
    {
     "data": {
      "text/html": [
       "<div>\n",
       "<style scoped>\n",
       "    .dataframe tbody tr th:only-of-type {\n",
       "        vertical-align: middle;\n",
       "    }\n",
       "\n",
       "    .dataframe tbody tr th {\n",
       "        vertical-align: top;\n",
       "    }\n",
       "\n",
       "    .dataframe thead th {\n",
       "        text-align: right;\n",
       "    }\n",
       "</style>\n",
       "<table border=\"1\" class=\"dataframe\">\n",
       "  <thead>\n",
       "    <tr style=\"text-align: right;\">\n",
       "      <th></th>\n",
       "      <th>text</th>\n",
       "      <th>titles</th>\n",
       "      <th>lemmatized</th>\n",
       "      <th>titles_lemmatized</th>\n",
       "    </tr>\n",
       "  </thead>\n",
       "  <tbody>\n",
       "    <tr>\n",
       "      <th>0</th>\n",
       "      <td>why is makeup so important? why cant some girl...</td>\n",
       "      <td>why is makeup so important? why cant some girl...</td>\n",
       "      <td>why is makeup so important? why cant some girl...</td>\n",
       "      <td>why is makeup so important? why cant some girl...</td>\n",
       "    </tr>\n",
       "    <tr>\n",
       "      <th>1</th>\n",
       "      <td>do you ever find the close male friendshipbrom...</td>\n",
       "      <td>do you ever find the close male friendshipbrom...</td>\n",
       "      <td>do you ever find the close male friendshipbrom...</td>\n",
       "      <td>do you ever find the close male friendshipbrom...</td>\n",
       "    </tr>\n",
       "    <tr>\n",
       "      <th>2</th>\n",
       "      <td>why do some women not like being called babe a...</td>\n",
       "      <td>why do some women not like being called babe a...</td>\n",
       "      <td>why do some woman not like being called babe a...</td>\n",
       "      <td>why do some woman not like being called babe a...</td>\n",
       "    </tr>\n",
       "    <tr>\n",
       "      <th>3</th>\n",
       "      <td>peeing instead of having an orgasm help!hi eve...</td>\n",
       "      <td>peeing instead of having an orgasm help!</td>\n",
       "      <td>peeing instead of having an orgasm help!hi eve...</td>\n",
       "      <td>peeing instead of having an orgasm help!</td>\n",
       "    </tr>\n",
       "    <tr>\n",
       "      <th>4</th>\n",
       "      <td>isshould gender be assigned</td>\n",
       "      <td>isshould gender be assigned</td>\n",
       "      <td>isshould gender be assigned</td>\n",
       "      <td>isshould gender be assigned</td>\n",
       "    </tr>\n",
       "    <tr>\n",
       "      <th>...</th>\n",
       "      <td>...</td>\n",
       "      <td>...</td>\n",
       "      <td>...</td>\n",
       "      <td>...</td>\n",
       "    </tr>\n",
       "    <tr>\n",
       "      <th>5895</th>\n",
       "      <td>what is the most chicken you have eaten in one...</td>\n",
       "      <td>what is the most chicken you have eaten in one...</td>\n",
       "      <td>what is the most chicken you have eaten in one...</td>\n",
       "      <td>what is the most chicken you have eaten in one...</td>\n",
       "    </tr>\n",
       "    <tr>\n",
       "      <th>5896</th>\n",
       "      <td>homecoming drama</td>\n",
       "      <td>homecoming drama</td>\n",
       "      <td>homecoming drama</td>\n",
       "      <td>homecoming drama</td>\n",
       "    </tr>\n",
       "    <tr>\n",
       "      <th>5897</th>\n",
       "      <td>do guys always say this is the best blowjob iv...</td>\n",
       "      <td>do guys always say this is the best blowjob iv...</td>\n",
       "      <td>do guy always say this is the best blowjob ive...</td>\n",
       "      <td>do guy always say this is the best blowjob ive...</td>\n",
       "    </tr>\n",
       "    <tr>\n",
       "      <th>5898</th>\n",
       "      <td>rip kobe bryant how will you remember kobe bry...</td>\n",
       "      <td>rip kobe bryant how will you remember kobe bry...</td>\n",
       "      <td>rip kobe bryant how will you remember kobe bry...</td>\n",
       "      <td>rip kobe bryant how will you remember kobe bry...</td>\n",
       "    </tr>\n",
       "    <tr>\n",
       "      <th>5899</th>\n",
       "      <td>men who only post headless pics with no shirt ...</td>\n",
       "      <td>men who only post headless pics with no shirt ...</td>\n",
       "      <td>men who only post headless pic with no shirt o...</td>\n",
       "      <td>men who only post headless pic with no shirt o...</td>\n",
       "    </tr>\n",
       "  </tbody>\n",
       "</table>\n",
       "<p>5900 rows × 4 columns</p>\n",
       "</div>"
      ],
      "text/plain": [
       "                                                   text  \\\n",
       "0     why is makeup so important? why cant some girl...   \n",
       "1     do you ever find the close male friendshipbrom...   \n",
       "2     why do some women not like being called babe a...   \n",
       "3     peeing instead of having an orgasm help!hi eve...   \n",
       "4                           isshould gender be assigned   \n",
       "...                                                 ...   \n",
       "5895  what is the most chicken you have eaten in one...   \n",
       "5896                                   homecoming drama   \n",
       "5897  do guys always say this is the best blowjob iv...   \n",
       "5898  rip kobe bryant how will you remember kobe bry...   \n",
       "5899  men who only post headless pics with no shirt ...   \n",
       "\n",
       "                                                 titles  \\\n",
       "0     why is makeup so important? why cant some girl...   \n",
       "1     do you ever find the close male friendshipbrom...   \n",
       "2     why do some women not like being called babe a...   \n",
       "3              peeing instead of having an orgasm help!   \n",
       "4                           isshould gender be assigned   \n",
       "...                                                 ...   \n",
       "5895  what is the most chicken you have eaten in one...   \n",
       "5896                                   homecoming drama   \n",
       "5897  do guys always say this is the best blowjob iv...   \n",
       "5898  rip kobe bryant how will you remember kobe bry...   \n",
       "5899  men who only post headless pics with no shirt ...   \n",
       "\n",
       "                                             lemmatized  \\\n",
       "0     why is makeup so important? why cant some girl...   \n",
       "1     do you ever find the close male friendshipbrom...   \n",
       "2     why do some woman not like being called babe a...   \n",
       "3     peeing instead of having an orgasm help!hi eve...   \n",
       "4                           isshould gender be assigned   \n",
       "...                                                 ...   \n",
       "5895  what is the most chicken you have eaten in one...   \n",
       "5896                                   homecoming drama   \n",
       "5897  do guy always say this is the best blowjob ive...   \n",
       "5898  rip kobe bryant how will you remember kobe bry...   \n",
       "5899  men who only post headless pic with no shirt o...   \n",
       "\n",
       "                                      titles_lemmatized  \n",
       "0     why is makeup so important? why cant some girl...  \n",
       "1     do you ever find the close male friendshipbrom...  \n",
       "2     why do some woman not like being called babe a...  \n",
       "3              peeing instead of having an orgasm help!  \n",
       "4                           isshould gender be assigned  \n",
       "...                                                 ...  \n",
       "5895  what is the most chicken you have eaten in one...  \n",
       "5896                                   homecoming drama  \n",
       "5897  do guy always say this is the best blowjob ive...  \n",
       "5898  rip kobe bryant how will you remember kobe bry...  \n",
       "5899  men who only post headless pic with no shirt o...  \n",
       "\n",
       "[5900 rows x 4 columns]"
      ]
     },
     "execution_count": 102,
     "metadata": {},
     "output_type": "execute_result"
    }
   ],
   "source": [
    "text_clean"
   ]
  },
  {
   "cell_type": "code",
   "execution_count": 104,
   "metadata": {
    "ExecuteTime": {
     "end_time": "2020-01-31T05:53:24.957848Z",
     "start_time": "2020-01-31T05:53:24.881326Z"
    }
   },
   "outputs": [],
   "source": [
    "text_clean.to_csv('../Data/text_clean.csv', index = False)"
   ]
  },
  {
   "cell_type": "code",
   "execution_count": 105,
   "metadata": {
    "ExecuteTime": {
     "end_time": "2020-01-31T05:53:24.962684Z",
     "start_time": "2020-01-31T05:53:24.959351Z"
    }
   },
   "outputs": [],
   "source": [
    "text_clean['subreddit'] = df['subreddit']"
   ]
  },
  {
   "cell_type": "code",
   "execution_count": 106,
   "metadata": {
    "ExecuteTime": {
     "end_time": "2020-01-31T05:53:24.972260Z",
     "start_time": "2020-01-31T05:53:24.965416Z"
    }
   },
   "outputs": [],
   "source": [
    "x = text_clean['lemmatized']\n",
    "y = text_clean['subreddit']\n",
    "\n",
    "x_train, x_test, y_train, y_test = train_test_split(x, y)"
   ]
  },
  {
   "cell_type": "code",
   "execution_count": 107,
   "metadata": {
    "ExecuteTime": {
     "end_time": "2020-01-31T05:53:24.979614Z",
     "start_time": "2020-01-31T05:53:24.975193Z"
    }
   },
   "outputs": [],
   "source": [
    "cvec = CountVectorizer(min_df=2, stop_words='english', max_df= 1000, ngram_range= (1, 2))"
   ]
  },
  {
   "cell_type": "code",
   "execution_count": 108,
   "metadata": {
    "ExecuteTime": {
     "end_time": "2020-01-31T05:53:25.582358Z",
     "start_time": "2020-01-31T05:53:24.983071Z"
    }
   },
   "outputs": [],
   "source": [
    "cvec.fit(x_train)\n",
    "\n",
    "x_train_cvec = cvec.transform(x_train)\n",
    "x_test_cvec = cvec.transform(x_test)"
   ]
  },
  {
   "cell_type": "code",
   "execution_count": 109,
   "metadata": {
    "ExecuteTime": {
     "end_time": "2020-01-31T05:53:25.587260Z",
     "start_time": "2020-01-31T05:53:25.583551Z"
    }
   },
   "outputs": [
    {
     "data": {
      "text/plain": [
       "<4425x9978 sparse matrix of type '<class 'numpy.int64'>'\n",
       "\twith 71585 stored elements in Compressed Sparse Row format>"
      ]
     },
     "execution_count": 109,
     "metadata": {},
     "output_type": "execute_result"
    }
   ],
   "source": [
    "x_train_cvec "
   ]
  },
  {
   "cell_type": "code",
   "execution_count": 110,
   "metadata": {
    "ExecuteTime": {
     "end_time": "2020-01-31T05:53:25.704460Z",
     "start_time": "2020-01-31T05:53:25.589244Z"
    }
   },
   "outputs": [
    {
     "data": {
      "text/html": [
       "<div>\n",
       "<style scoped>\n",
       "    .dataframe tbody tr th:only-of-type {\n",
       "        vertical-align: middle;\n",
       "    }\n",
       "\n",
       "    .dataframe tbody tr th {\n",
       "        vertical-align: top;\n",
       "    }\n",
       "\n",
       "    .dataframe thead th {\n",
       "        text-align: right;\n",
       "    }\n",
       "</style>\n",
       "<table border=\"1\" class=\"dataframe\">\n",
       "  <thead>\n",
       "    <tr style=\"text-align: right;\">\n",
       "      <th></th>\n",
       "      <th>10</th>\n",
       "      <th>10 day</th>\n",
       "      <th>10 year</th>\n",
       "      <th>100</th>\n",
       "      <th>1000</th>\n",
       "      <th>1015lbs</th>\n",
       "      <th>1015lbs lift</th>\n",
       "      <th>1020</th>\n",
       "      <th>10th</th>\n",
       "      <th>11</th>\n",
       "      <th>...</th>\n",
       "      <th>youve received</th>\n",
       "      <th>youve seen</th>\n",
       "      <th>youve teach</th>\n",
       "      <th>youve used</th>\n",
       "      <th>yr</th>\n",
       "      <th>zero</th>\n",
       "      <th>zero experience</th>\n",
       "      <th>zodiac</th>\n",
       "      <th>zone</th>\n",
       "      <th>zoned</th>\n",
       "    </tr>\n",
       "  </thead>\n",
       "  <tbody>\n",
       "    <tr>\n",
       "      <th>0</th>\n",
       "      <td>0</td>\n",
       "      <td>0</td>\n",
       "      <td>0</td>\n",
       "      <td>0</td>\n",
       "      <td>0</td>\n",
       "      <td>0</td>\n",
       "      <td>0</td>\n",
       "      <td>0</td>\n",
       "      <td>0</td>\n",
       "      <td>0</td>\n",
       "      <td>...</td>\n",
       "      <td>0</td>\n",
       "      <td>0</td>\n",
       "      <td>0</td>\n",
       "      <td>0</td>\n",
       "      <td>0</td>\n",
       "      <td>0</td>\n",
       "      <td>0</td>\n",
       "      <td>0</td>\n",
       "      <td>0</td>\n",
       "      <td>0</td>\n",
       "    </tr>\n",
       "    <tr>\n",
       "      <th>1</th>\n",
       "      <td>0</td>\n",
       "      <td>0</td>\n",
       "      <td>0</td>\n",
       "      <td>0</td>\n",
       "      <td>0</td>\n",
       "      <td>0</td>\n",
       "      <td>0</td>\n",
       "      <td>0</td>\n",
       "      <td>0</td>\n",
       "      <td>0</td>\n",
       "      <td>...</td>\n",
       "      <td>0</td>\n",
       "      <td>0</td>\n",
       "      <td>0</td>\n",
       "      <td>0</td>\n",
       "      <td>0</td>\n",
       "      <td>0</td>\n",
       "      <td>0</td>\n",
       "      <td>0</td>\n",
       "      <td>0</td>\n",
       "      <td>0</td>\n",
       "    </tr>\n",
       "    <tr>\n",
       "      <th>2</th>\n",
       "      <td>0</td>\n",
       "      <td>0</td>\n",
       "      <td>0</td>\n",
       "      <td>0</td>\n",
       "      <td>0</td>\n",
       "      <td>0</td>\n",
       "      <td>0</td>\n",
       "      <td>0</td>\n",
       "      <td>0</td>\n",
       "      <td>0</td>\n",
       "      <td>...</td>\n",
       "      <td>0</td>\n",
       "      <td>0</td>\n",
       "      <td>0</td>\n",
       "      <td>0</td>\n",
       "      <td>0</td>\n",
       "      <td>0</td>\n",
       "      <td>0</td>\n",
       "      <td>0</td>\n",
       "      <td>0</td>\n",
       "      <td>0</td>\n",
       "    </tr>\n",
       "    <tr>\n",
       "      <th>3</th>\n",
       "      <td>0</td>\n",
       "      <td>0</td>\n",
       "      <td>0</td>\n",
       "      <td>0</td>\n",
       "      <td>0</td>\n",
       "      <td>0</td>\n",
       "      <td>0</td>\n",
       "      <td>0</td>\n",
       "      <td>0</td>\n",
       "      <td>0</td>\n",
       "      <td>...</td>\n",
       "      <td>0</td>\n",
       "      <td>0</td>\n",
       "      <td>0</td>\n",
       "      <td>0</td>\n",
       "      <td>0</td>\n",
       "      <td>0</td>\n",
       "      <td>0</td>\n",
       "      <td>0</td>\n",
       "      <td>0</td>\n",
       "      <td>0</td>\n",
       "    </tr>\n",
       "    <tr>\n",
       "      <th>4</th>\n",
       "      <td>0</td>\n",
       "      <td>0</td>\n",
       "      <td>0</td>\n",
       "      <td>0</td>\n",
       "      <td>0</td>\n",
       "      <td>0</td>\n",
       "      <td>0</td>\n",
       "      <td>0</td>\n",
       "      <td>0</td>\n",
       "      <td>0</td>\n",
       "      <td>...</td>\n",
       "      <td>0</td>\n",
       "      <td>0</td>\n",
       "      <td>0</td>\n",
       "      <td>0</td>\n",
       "      <td>0</td>\n",
       "      <td>0</td>\n",
       "      <td>0</td>\n",
       "      <td>0</td>\n",
       "      <td>0</td>\n",
       "      <td>0</td>\n",
       "    </tr>\n",
       "    <tr>\n",
       "      <th>...</th>\n",
       "      <td>...</td>\n",
       "      <td>...</td>\n",
       "      <td>...</td>\n",
       "      <td>...</td>\n",
       "      <td>...</td>\n",
       "      <td>...</td>\n",
       "      <td>...</td>\n",
       "      <td>...</td>\n",
       "      <td>...</td>\n",
       "      <td>...</td>\n",
       "      <td>...</td>\n",
       "      <td>...</td>\n",
       "      <td>...</td>\n",
       "      <td>...</td>\n",
       "      <td>...</td>\n",
       "      <td>...</td>\n",
       "      <td>...</td>\n",
       "      <td>...</td>\n",
       "      <td>...</td>\n",
       "      <td>...</td>\n",
       "      <td>...</td>\n",
       "    </tr>\n",
       "    <tr>\n",
       "      <th>4420</th>\n",
       "      <td>0</td>\n",
       "      <td>0</td>\n",
       "      <td>0</td>\n",
       "      <td>0</td>\n",
       "      <td>0</td>\n",
       "      <td>0</td>\n",
       "      <td>0</td>\n",
       "      <td>0</td>\n",
       "      <td>0</td>\n",
       "      <td>0</td>\n",
       "      <td>...</td>\n",
       "      <td>0</td>\n",
       "      <td>0</td>\n",
       "      <td>0</td>\n",
       "      <td>0</td>\n",
       "      <td>0</td>\n",
       "      <td>0</td>\n",
       "      <td>0</td>\n",
       "      <td>0</td>\n",
       "      <td>0</td>\n",
       "      <td>0</td>\n",
       "    </tr>\n",
       "    <tr>\n",
       "      <th>4421</th>\n",
       "      <td>0</td>\n",
       "      <td>0</td>\n",
       "      <td>0</td>\n",
       "      <td>0</td>\n",
       "      <td>0</td>\n",
       "      <td>0</td>\n",
       "      <td>0</td>\n",
       "      <td>0</td>\n",
       "      <td>0</td>\n",
       "      <td>0</td>\n",
       "      <td>...</td>\n",
       "      <td>0</td>\n",
       "      <td>0</td>\n",
       "      <td>0</td>\n",
       "      <td>0</td>\n",
       "      <td>0</td>\n",
       "      <td>0</td>\n",
       "      <td>0</td>\n",
       "      <td>0</td>\n",
       "      <td>0</td>\n",
       "      <td>0</td>\n",
       "    </tr>\n",
       "    <tr>\n",
       "      <th>4422</th>\n",
       "      <td>0</td>\n",
       "      <td>0</td>\n",
       "      <td>0</td>\n",
       "      <td>0</td>\n",
       "      <td>0</td>\n",
       "      <td>0</td>\n",
       "      <td>0</td>\n",
       "      <td>0</td>\n",
       "      <td>0</td>\n",
       "      <td>0</td>\n",
       "      <td>...</td>\n",
       "      <td>0</td>\n",
       "      <td>0</td>\n",
       "      <td>0</td>\n",
       "      <td>0</td>\n",
       "      <td>0</td>\n",
       "      <td>0</td>\n",
       "      <td>0</td>\n",
       "      <td>0</td>\n",
       "      <td>0</td>\n",
       "      <td>0</td>\n",
       "    </tr>\n",
       "    <tr>\n",
       "      <th>4423</th>\n",
       "      <td>0</td>\n",
       "      <td>0</td>\n",
       "      <td>0</td>\n",
       "      <td>0</td>\n",
       "      <td>0</td>\n",
       "      <td>0</td>\n",
       "      <td>0</td>\n",
       "      <td>0</td>\n",
       "      <td>0</td>\n",
       "      <td>0</td>\n",
       "      <td>...</td>\n",
       "      <td>0</td>\n",
       "      <td>0</td>\n",
       "      <td>0</td>\n",
       "      <td>0</td>\n",
       "      <td>0</td>\n",
       "      <td>0</td>\n",
       "      <td>0</td>\n",
       "      <td>0</td>\n",
       "      <td>0</td>\n",
       "      <td>0</td>\n",
       "    </tr>\n",
       "    <tr>\n",
       "      <th>4424</th>\n",
       "      <td>0</td>\n",
       "      <td>0</td>\n",
       "      <td>0</td>\n",
       "      <td>0</td>\n",
       "      <td>0</td>\n",
       "      <td>0</td>\n",
       "      <td>0</td>\n",
       "      <td>0</td>\n",
       "      <td>0</td>\n",
       "      <td>0</td>\n",
       "      <td>...</td>\n",
       "      <td>0</td>\n",
       "      <td>0</td>\n",
       "      <td>0</td>\n",
       "      <td>0</td>\n",
       "      <td>0</td>\n",
       "      <td>0</td>\n",
       "      <td>0</td>\n",
       "      <td>0</td>\n",
       "      <td>0</td>\n",
       "      <td>0</td>\n",
       "    </tr>\n",
       "  </tbody>\n",
       "</table>\n",
       "<p>4425 rows × 9978 columns</p>\n",
       "</div>"
      ],
      "text/plain": [
       "      10  10 day  10 year  100  1000  1015lbs  1015lbs lift  1020  10th  11  \\\n",
       "0      0       0        0    0     0        0             0     0     0   0   \n",
       "1      0       0        0    0     0        0             0     0     0   0   \n",
       "2      0       0        0    0     0        0             0     0     0   0   \n",
       "3      0       0        0    0     0        0             0     0     0   0   \n",
       "4      0       0        0    0     0        0             0     0     0   0   \n",
       "...   ..     ...      ...  ...   ...      ...           ...   ...   ...  ..   \n",
       "4420   0       0        0    0     0        0             0     0     0   0   \n",
       "4421   0       0        0    0     0        0             0     0     0   0   \n",
       "4422   0       0        0    0     0        0             0     0     0   0   \n",
       "4423   0       0        0    0     0        0             0     0     0   0   \n",
       "4424   0       0        0    0     0        0             0     0     0   0   \n",
       "\n",
       "      ...  youve received  youve seen  youve teach  youve used  yr  zero  \\\n",
       "0     ...               0           0            0           0   0     0   \n",
       "1     ...               0           0            0           0   0     0   \n",
       "2     ...               0           0            0           0   0     0   \n",
       "3     ...               0           0            0           0   0     0   \n",
       "4     ...               0           0            0           0   0     0   \n",
       "...   ...             ...         ...          ...         ...  ..   ...   \n",
       "4420  ...               0           0            0           0   0     0   \n",
       "4421  ...               0           0            0           0   0     0   \n",
       "4422  ...               0           0            0           0   0     0   \n",
       "4423  ...               0           0            0           0   0     0   \n",
       "4424  ...               0           0            0           0   0     0   \n",
       "\n",
       "      zero experience  zodiac  zone  zoned  \n",
       "0                   0       0     0      0  \n",
       "1                   0       0     0      0  \n",
       "2                   0       0     0      0  \n",
       "3                   0       0     0      0  \n",
       "4                   0       0     0      0  \n",
       "...               ...     ...   ...    ...  \n",
       "4420                0       0     0      0  \n",
       "4421                0       0     0      0  \n",
       "4422                0       0     0      0  \n",
       "4423                0       0     0      0  \n",
       "4424                0       0     0      0  \n",
       "\n",
       "[4425 rows x 9978 columns]"
      ]
     },
     "execution_count": 110,
     "metadata": {},
     "output_type": "execute_result"
    }
   ],
   "source": [
    "pd.DataFrame(x_train_cvec.todense(), columns=cvec.get_feature_names())"
   ]
  },
  {
   "cell_type": "code",
   "execution_count": 111,
   "metadata": {
    "ExecuteTime": {
     "end_time": "2020-01-31T05:53:25.766284Z",
     "start_time": "2020-01-31T05:53:25.707520Z"
    }
   },
   "outputs": [
    {
     "name": "stderr",
     "output_type": "stream",
     "text": [
      "/opt/anaconda3/lib/python3.7/site-packages/sklearn/linear_model/logistic.py:432: FutureWarning: Default solver will be changed to 'lbfgs' in 0.22. Specify a solver to silence this warning.\n",
      "  FutureWarning)\n"
     ]
    },
    {
     "data": {
      "text/plain": [
       "LogisticRegression(C=1.0, class_weight=None, dual=False, fit_intercept=True,\n",
       "                   intercept_scaling=1, l1_ratio=None, max_iter=100,\n",
       "                   multi_class='warn', n_jobs=None, penalty='l2',\n",
       "                   random_state=None, solver='warn', tol=0.0001, verbose=0,\n",
       "                   warm_start=False)"
      ]
     },
     "execution_count": 111,
     "metadata": {},
     "output_type": "execute_result"
    }
   ],
   "source": [
    "lr.fit(x_train_cvec, y_train)"
   ]
  },
  {
   "cell_type": "code",
   "execution_count": 112,
   "metadata": {
    "ExecuteTime": {
     "end_time": "2020-01-31T05:53:25.776033Z",
     "start_time": "2020-01-31T05:53:25.768661Z"
    }
   },
   "outputs": [
    {
     "data": {
      "text/plain": [
       "0.9380790960451978"
      ]
     },
     "execution_count": 112,
     "metadata": {},
     "output_type": "execute_result"
    }
   ],
   "source": [
    "lr.score(x_train_cvec, y_train)"
   ]
  },
  {
   "cell_type": "code",
   "execution_count": 113,
   "metadata": {
    "ExecuteTime": {
     "end_time": "2020-01-31T05:53:25.786901Z",
     "start_time": "2020-01-31T05:53:25.778800Z"
    }
   },
   "outputs": [
    {
     "data": {
      "text/plain": [
       "0.6610169491525424"
      ]
     },
     "execution_count": 113,
     "metadata": {},
     "output_type": "execute_result"
    }
   ],
   "source": [
    "lr.score(x_test_cvec, y_test)"
   ]
  },
  {
   "cell_type": "code",
   "execution_count": 114,
   "metadata": {
    "ExecuteTime": {
     "end_time": "2020-01-31T05:53:25.792873Z",
     "start_time": "2020-01-31T05:53:25.789514Z"
    }
   },
   "outputs": [],
   "source": [
    "#is there a difference in average post length"
   ]
  }
 ],
 "metadata": {
  "kernelspec": {
   "display_name": "Python 3",
   "language": "python",
   "name": "python3"
  },
  "language_info": {
   "codemirror_mode": {
    "name": "ipython",
    "version": 3
   },
   "file_extension": ".py",
   "mimetype": "text/x-python",
   "name": "python",
   "nbconvert_exporter": "python",
   "pygments_lexer": "ipython3",
   "version": "3.7.4"
  }
 },
 "nbformat": 4,
 "nbformat_minor": 2
}
