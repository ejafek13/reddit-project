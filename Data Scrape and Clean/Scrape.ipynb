{
 "cells": [
  {
   "cell_type": "code",
   "execution_count": 1,
   "metadata": {
    "ExecuteTime": {
     "end_time": "2020-01-31T05:43:15.620697Z",
     "start_time": "2020-01-31T05:43:14.940652Z"
    }
   },
   "outputs": [],
   "source": [
    "import requests\n",
    "import pandas as pd \n",
    "import matplotlib.pyplot as plt\n",
    "import numpy as np\n",
    "import time"
   ]
  },
  {
   "cell_type": "code",
   "execution_count": 2,
   "metadata": {
    "ExecuteTime": {
     "end_time": "2020-01-31T05:43:15.624556Z",
     "start_time": "2020-01-31T05:43:15.622037Z"
    }
   },
   "outputs": [],
   "source": [
    "url = 'https://api.pushshift.io/reddit/search/submission?subreddit=AskMen&size=500'"
   ]
  },
  {
   "cell_type": "code",
   "execution_count": 3,
   "metadata": {
    "ExecuteTime": {
     "end_time": "2020-01-31T05:43:16.207548Z",
     "start_time": "2020-01-31T05:43:15.627427Z"
    }
   },
   "outputs": [],
   "source": [
    "subs = requests.get(url)"
   ]
  },
  {
   "cell_type": "code",
   "execution_count": 4,
   "metadata": {
    "ExecuteTime": {
     "end_time": "2020-01-31T05:43:16.214709Z",
     "start_time": "2020-01-31T05:43:16.209551Z"
    }
   },
   "outputs": [
    {
     "data": {
      "text/plain": [
       "200"
      ]
     },
     "execution_count": 4,
     "metadata": {},
     "output_type": "execute_result"
    }
   ],
   "source": [
    "subs.status_code"
   ]
  },
  {
   "cell_type": "code",
   "execution_count": 5,
   "metadata": {
    "ExecuteTime": {
     "end_time": "2020-01-31T05:43:16.232878Z",
     "start_time": "2020-01-31T05:43:16.216490Z"
    }
   },
   "outputs": [],
   "source": [
    "subms = subs.json()"
   ]
  },
  {
   "cell_type": "code",
   "execution_count": 6,
   "metadata": {
    "ExecuteTime": {
     "end_time": "2020-01-31T05:43:16.237992Z",
     "start_time": "2020-01-31T05:43:16.234389Z"
    }
   },
   "outputs": [
    {
     "data": {
      "text/plain": [
       "500"
      ]
     },
     "execution_count": 6,
     "metadata": {},
     "output_type": "execute_result"
    }
   ],
   "source": [
    "len(subms['data'])"
   ]
  },
  {
   "cell_type": "code",
   "execution_count": 7,
   "metadata": {
    "ExecuteTime": {
     "end_time": "2020-01-31T05:43:16.251470Z",
     "start_time": "2020-01-31T05:43:16.239247Z"
    }
   },
   "outputs": [],
   "source": [
    "subms_df = pd.DataFrame(subms['data'])"
   ]
  },
  {
   "cell_type": "code",
   "execution_count": 8,
   "metadata": {
    "ExecuteTime": {
     "end_time": "2020-01-31T05:43:16.257974Z",
     "start_time": "2020-01-31T05:43:16.253874Z"
    }
   },
   "outputs": [
    {
     "data": {
      "text/plain": [
       "Index(['all_awardings', 'allow_live_comments', 'author',\n",
       "       'author_flair_css_class', 'author_flair_richtext', 'author_flair_text',\n",
       "       'author_flair_type', 'author_fullname', 'author_patreon_flair',\n",
       "       'author_premium', 'awarders', 'can_mod_post', 'contest_mode',\n",
       "       'created_utc', 'domain', 'full_link', 'gildings', 'id',\n",
       "       'is_crosspostable', 'is_meta', 'is_original_content',\n",
       "       'is_reddit_media_domain', 'is_robot_indexable', 'is_self', 'is_video',\n",
       "       'link_flair_background_color', 'link_flair_richtext',\n",
       "       'link_flair_text_color', 'link_flair_type', 'locked', 'media_only',\n",
       "       'no_follow', 'num_comments', 'num_crossposts', 'over_18',\n",
       "       'parent_whitelist_status', 'permalink', 'pinned', 'pwls',\n",
       "       'removed_by_category', 'retrieved_on', 'score', 'selftext',\n",
       "       'send_replies', 'spoiler', 'stickied', 'subreddit', 'subreddit_id',\n",
       "       'subreddit_subscribers', 'subreddit_type', 'thumbnail', 'title',\n",
       "       'total_awards_received', 'url', 'whitelist_status', 'wls',\n",
       "       'author_flair_background_color', 'author_flair_template_id',\n",
       "       'author_flair_text_color', 'banned_by', 'edited', 'post_hint',\n",
       "       'preview', 'link_flair_template_id', 'link_flair_text'],\n",
       "      dtype='object')"
      ]
     },
     "execution_count": 8,
     "metadata": {},
     "output_type": "execute_result"
    }
   ],
   "source": [
    "subms_df.columns"
   ]
  },
  {
   "cell_type": "code",
   "execution_count": 9,
   "metadata": {
    "ExecuteTime": {
     "end_time": "2020-01-31T05:43:16.279221Z",
     "start_time": "2020-01-31T05:43:16.259660Z"
    }
   },
   "outputs": [
    {
     "data": {
      "text/html": [
       "<div>\n",
       "<style scoped>\n",
       "    .dataframe tbody tr th:only-of-type {\n",
       "        vertical-align: middle;\n",
       "    }\n",
       "\n",
       "    .dataframe tbody tr th {\n",
       "        vertical-align: top;\n",
       "    }\n",
       "\n",
       "    .dataframe thead th {\n",
       "        text-align: right;\n",
       "    }\n",
       "</style>\n",
       "<table border=\"1\" class=\"dataframe\">\n",
       "  <thead>\n",
       "    <tr style=\"text-align: right;\">\n",
       "      <th></th>\n",
       "      <th>created_utc</th>\n",
       "      <th>title</th>\n",
       "      <th>selftext</th>\n",
       "      <th>subreddit</th>\n",
       "    </tr>\n",
       "  </thead>\n",
       "  <tbody>\n",
       "    <tr>\n",
       "      <th>499</th>\n",
       "      <td>1580362058</td>\n",
       "      <td>I not circumcising my kid. If he wants one whe...</td>\n",
       "      <td>Hi, \\n\\nJust as the text says, I am one of the...</td>\n",
       "      <td>AskMen</td>\n",
       "    </tr>\n",
       "    <tr>\n",
       "      <th>498</th>\n",
       "      <td>1580362098</td>\n",
       "      <td>A bit more private question</td>\n",
       "      <td>[removed]</td>\n",
       "      <td>AskMen</td>\n",
       "    </tr>\n",
       "    <tr>\n",
       "      <th>497</th>\n",
       "      <td>1580362249</td>\n",
       "      <td>How to get over/deal with a masturbation addic...</td>\n",
       "      <td>I have way too much free time on my hands and ...</td>\n",
       "      <td>AskMen</td>\n",
       "    </tr>\n",
       "    <tr>\n",
       "      <th>496</th>\n",
       "      <td>1580362416</td>\n",
       "      <td>How do you improve your ''game''?</td>\n",
       "      <td></td>\n",
       "      <td>AskMen</td>\n",
       "    </tr>\n",
       "    <tr>\n",
       "      <th>495</th>\n",
       "      <td>1580363070</td>\n",
       "      <td>How did you benefit from having an abusive fat...</td>\n",
       "      <td>My step father was a totally abusive prick all...</td>\n",
       "      <td>AskMen</td>\n",
       "    </tr>\n",
       "    <tr>\n",
       "      <th>...</th>\n",
       "      <td>...</td>\n",
       "      <td>...</td>\n",
       "      <td>...</td>\n",
       "      <td>...</td>\n",
       "    </tr>\n",
       "    <tr>\n",
       "      <th>4</th>\n",
       "      <td>1580448895</td>\n",
       "      <td>A coworker is trying to set me up with another...</td>\n",
       "      <td>[removed]</td>\n",
       "      <td>AskMen</td>\n",
       "    </tr>\n",
       "    <tr>\n",
       "      <th>3</th>\n",
       "      <td>1580448940</td>\n",
       "      <td>Resistance Band Fitness Advice Please Help</td>\n",
       "      <td>[removed]</td>\n",
       "      <td>AskMen</td>\n",
       "    </tr>\n",
       "    <tr>\n",
       "      <th>2</th>\n",
       "      <td>1580449020</td>\n",
       "      <td>Women of reddit, what are you really getting o...</td>\n",
       "      <td>I just became curious because I saw this porn ...</td>\n",
       "      <td>AskMen</td>\n",
       "    </tr>\n",
       "    <tr>\n",
       "      <th>1</th>\n",
       "      <td>1580449105</td>\n",
       "      <td>Any insight on how to handle a coworker trying...</td>\n",
       "      <td>So over the past month or so, I’ve gotten pret...</td>\n",
       "      <td>AskMen</td>\n",
       "    </tr>\n",
       "    <tr>\n",
       "      <th>0</th>\n",
       "      <td>1580449346</td>\n",
       "      <td>I get rejected a lot for my looks. What advice...</td>\n",
       "      <td>[removed]</td>\n",
       "      <td>AskMen</td>\n",
       "    </tr>\n",
       "  </tbody>\n",
       "</table>\n",
       "<p>500 rows × 4 columns</p>\n",
       "</div>"
      ],
      "text/plain": [
       "     created_utc                                              title  \\\n",
       "499   1580362058  I not circumcising my kid. If he wants one whe...   \n",
       "498   1580362098                        A bit more private question   \n",
       "497   1580362249  How to get over/deal with a masturbation addic...   \n",
       "496   1580362416                  How do you improve your ''game''?   \n",
       "495   1580363070  How did you benefit from having an abusive fat...   \n",
       "..           ...                                                ...   \n",
       "4     1580448895  A coworker is trying to set me up with another...   \n",
       "3     1580448940         Resistance Band Fitness Advice Please Help   \n",
       "2     1580449020  Women of reddit, what are you really getting o...   \n",
       "1     1580449105  Any insight on how to handle a coworker trying...   \n",
       "0     1580449346  I get rejected a lot for my looks. What advice...   \n",
       "\n",
       "                                              selftext subreddit  \n",
       "499  Hi, \\n\\nJust as the text says, I am one of the...    AskMen  \n",
       "498                                          [removed]    AskMen  \n",
       "497  I have way too much free time on my hands and ...    AskMen  \n",
       "496                                                       AskMen  \n",
       "495  My step father was a totally abusive prick all...    AskMen  \n",
       "..                                                 ...       ...  \n",
       "4                                            [removed]    AskMen  \n",
       "3                                            [removed]    AskMen  \n",
       "2    I just became curious because I saw this porn ...    AskMen  \n",
       "1    So over the past month or so, I’ve gotten pret...    AskMen  \n",
       "0                                            [removed]    AskMen  \n",
       "\n",
       "[500 rows x 4 columns]"
      ]
     },
     "execution_count": 9,
     "metadata": {},
     "output_type": "execute_result"
    }
   ],
   "source": [
    "subms_df[['created_utc', 'title', 'selftext', 'subreddit']].sort_values('created_utc')"
   ]
  },
  {
   "cell_type": "code",
   "execution_count": 10,
   "metadata": {
    "ExecuteTime": {
     "end_time": "2020-01-31T05:43:16.283819Z",
     "start_time": "2020-01-31T05:43:16.281250Z"
    }
   },
   "outputs": [],
   "source": [
    "url2 = 'https://api.pushshift.io/reddit/search/submission?subreddit=AskMen&size=500&before=1579709173'"
   ]
  },
  {
   "cell_type": "code",
   "execution_count": 11,
   "metadata": {
    "ExecuteTime": {
     "end_time": "2020-01-31T05:43:16.936974Z",
     "start_time": "2020-01-31T05:43:16.285457Z"
    }
   },
   "outputs": [],
   "source": [
    "subs2 = requests.get(url2)"
   ]
  },
  {
   "cell_type": "code",
   "execution_count": 12,
   "metadata": {
    "ExecuteTime": {
     "end_time": "2020-01-31T05:43:16.942653Z",
     "start_time": "2020-01-31T05:43:16.938810Z"
    }
   },
   "outputs": [],
   "source": [
    "def api_reddit_submissions(subreddit, size, date = ''):\n",
    "    url = f\"https://api.pushshift.io/reddit/search/submission?subreddit={subreddit}&size={size}{date}\"\n",
    "    r = requests.get(url)\n",
    "    s = r.json()\n",
    "    s_df = pd.DataFrame(s['data']) \n",
    "    return s_df  "
   ]
  },
  {
   "cell_type": "code",
   "execution_count": 13,
   "metadata": {
    "ExecuteTime": {
     "end_time": "2020-01-31T05:43:17.104838Z",
     "start_time": "2020-01-31T05:43:16.944267Z"
    }
   },
   "outputs": [],
   "source": [
    "s_df = api_reddit_submissions('AskMen', 500, '&before=1579709173')"
   ]
  },
  {
   "cell_type": "code",
   "execution_count": 14,
   "metadata": {
    "ExecuteTime": {
     "end_time": "2020-01-31T05:43:17.118495Z",
     "start_time": "2020-01-31T05:43:17.106688Z"
    }
   },
   "outputs": [
    {
     "data": {
      "text/html": [
       "<div>\n",
       "<style scoped>\n",
       "    .dataframe tbody tr th:only-of-type {\n",
       "        vertical-align: middle;\n",
       "    }\n",
       "\n",
       "    .dataframe tbody tr th {\n",
       "        vertical-align: top;\n",
       "    }\n",
       "\n",
       "    .dataframe thead th {\n",
       "        text-align: right;\n",
       "    }\n",
       "</style>\n",
       "<table border=\"1\" class=\"dataframe\">\n",
       "  <thead>\n",
       "    <tr style=\"text-align: right;\">\n",
       "      <th></th>\n",
       "      <th>created_utc</th>\n",
       "      <th>title</th>\n",
       "      <th>selftext</th>\n",
       "      <th>subreddit</th>\n",
       "    </tr>\n",
       "  </thead>\n",
       "  <tbody>\n",
       "    <tr>\n",
       "      <th>0</th>\n",
       "      <td>1579709146</td>\n",
       "      <td>I only want him as a F buddy but we both know ...</td>\n",
       "      <td>[removed]</td>\n",
       "      <td>AskMen</td>\n",
       "    </tr>\n",
       "    <tr>\n",
       "      <th>1</th>\n",
       "      <td>1579709005</td>\n",
       "      <td>What can cause permenant multistream?</td>\n",
       "      <td>(coming from a man) My whole life i have had m...</td>\n",
       "      <td>AskMen</td>\n",
       "    </tr>\n",
       "    <tr>\n",
       "      <th>2</th>\n",
       "      <td>1579708986</td>\n",
       "      <td>Do you bring a condom with you on a date even ...</td>\n",
       "      <td>[removed]</td>\n",
       "      <td>AskMen</td>\n",
       "    </tr>\n",
       "    <tr>\n",
       "      <th>3</th>\n",
       "      <td>1579708854</td>\n",
       "      <td>What do you do if some woman is attracted to y...</td>\n",
       "      <td></td>\n",
       "      <td>AskMen</td>\n",
       "    </tr>\n",
       "    <tr>\n",
       "      <th>4</th>\n",
       "      <td>1579708663</td>\n",
       "      <td>How would you feel about a law that criminaliz...</td>\n",
       "      <td></td>\n",
       "      <td>AskMen</td>\n",
       "    </tr>\n",
       "    <tr>\n",
       "      <th>...</th>\n",
       "      <td>...</td>\n",
       "      <td>...</td>\n",
       "      <td>...</td>\n",
       "      <td>...</td>\n",
       "    </tr>\n",
       "    <tr>\n",
       "      <th>495</th>\n",
       "      <td>1579605259</td>\n",
       "      <td>If you could hangout with your 5 year old self...</td>\n",
       "      <td></td>\n",
       "      <td>AskMen</td>\n",
       "    </tr>\n",
       "    <tr>\n",
       "      <th>496</th>\n",
       "      <td>1579604936</td>\n",
       "      <td>What's the best way to win an argument with yo...</td>\n",
       "      <td></td>\n",
       "      <td>AskMen</td>\n",
       "    </tr>\n",
       "    <tr>\n",
       "      <th>497</th>\n",
       "      <td>1579604470</td>\n",
       "      <td>What's something you're ashamed of?</td>\n",
       "      <td></td>\n",
       "      <td>AskMen</td>\n",
       "    </tr>\n",
       "    <tr>\n",
       "      <th>498</th>\n",
       "      <td>1579604208</td>\n",
       "      <td>What are some item that are worthy of bespoke?</td>\n",
       "      <td>Shoes, jacket, etc...</td>\n",
       "      <td>AskMen</td>\n",
       "    </tr>\n",
       "    <tr>\n",
       "      <th>499</th>\n",
       "      <td>1579603748</td>\n",
       "      <td>Does she love me</td>\n",
       "      <td>So I've been freinds with her for a few months...</td>\n",
       "      <td>AskMen</td>\n",
       "    </tr>\n",
       "  </tbody>\n",
       "</table>\n",
       "<p>500 rows × 4 columns</p>\n",
       "</div>"
      ],
      "text/plain": [
       "     created_utc                                              title  \\\n",
       "0     1579709146  I only want him as a F buddy but we both know ...   \n",
       "1     1579709005              What can cause permenant multistream?   \n",
       "2     1579708986  Do you bring a condom with you on a date even ...   \n",
       "3     1579708854  What do you do if some woman is attracted to y...   \n",
       "4     1579708663  How would you feel about a law that criminaliz...   \n",
       "..           ...                                                ...   \n",
       "495   1579605259  If you could hangout with your 5 year old self...   \n",
       "496   1579604936  What's the best way to win an argument with yo...   \n",
       "497   1579604470                What's something you're ashamed of?   \n",
       "498   1579604208     What are some item that are worthy of bespoke?   \n",
       "499   1579603748                                   Does she love me   \n",
       "\n",
       "                                              selftext subreddit  \n",
       "0                                            [removed]    AskMen  \n",
       "1    (coming from a man) My whole life i have had m...    AskMen  \n",
       "2                                            [removed]    AskMen  \n",
       "3                                                         AskMen  \n",
       "4                                                         AskMen  \n",
       "..                                                 ...       ...  \n",
       "495                                                       AskMen  \n",
       "496                                                       AskMen  \n",
       "497                                                       AskMen  \n",
       "498                              Shoes, jacket, etc...    AskMen  \n",
       "499  So I've been freinds with her for a few months...    AskMen  \n",
       "\n",
       "[500 rows x 4 columns]"
      ]
     },
     "execution_count": 14,
     "metadata": {},
     "output_type": "execute_result"
    }
   ],
   "source": [
    "s_df[['created_utc', 'title', 'selftext', 'subreddit']]"
   ]
  },
  {
   "cell_type": "code",
   "execution_count": 15,
   "metadata": {
    "ExecuteTime": {
     "end_time": "2020-01-31T05:43:17.141269Z",
     "start_time": "2020-01-31T05:43:17.120076Z"
    }
   },
   "outputs": [
    {
     "name": "stderr",
     "output_type": "stream",
     "text": [
      "/opt/anaconda3/lib/python3.7/site-packages/pandas/core/frame.py:7138: FutureWarning: Sorting because non-concatenation axis is not aligned. A future version\n",
      "of pandas will change to not sort by default.\n",
      "\n",
      "To accept the future behavior, pass 'sort=False'.\n",
      "\n",
      "To retain the current behavior and silence the warning, pass 'sort=True'.\n",
      "\n",
      "  sort=sort,\n"
     ]
    }
   ],
   "source": [
    "askmen = subms_df.append(s_df, ignore_index= True)"
   ]
  },
  {
   "cell_type": "code",
   "execution_count": 16,
   "metadata": {
    "ExecuteTime": {
     "end_time": "2020-01-31T05:43:17.157789Z",
     "start_time": "2020-01-31T05:43:17.142716Z"
    }
   },
   "outputs": [
    {
     "data": {
      "text/html": [
       "<div>\n",
       "<style scoped>\n",
       "    .dataframe tbody tr th:only-of-type {\n",
       "        vertical-align: middle;\n",
       "    }\n",
       "\n",
       "    .dataframe tbody tr th {\n",
       "        vertical-align: top;\n",
       "    }\n",
       "\n",
       "    .dataframe thead th {\n",
       "        text-align: right;\n",
       "    }\n",
       "</style>\n",
       "<table border=\"1\" class=\"dataframe\">\n",
       "  <thead>\n",
       "    <tr style=\"text-align: right;\">\n",
       "      <th></th>\n",
       "      <th>created_utc</th>\n",
       "      <th>title</th>\n",
       "      <th>selftext</th>\n",
       "      <th>subreddit</th>\n",
       "    </tr>\n",
       "  </thead>\n",
       "  <tbody>\n",
       "    <tr>\n",
       "      <th>0</th>\n",
       "      <td>1580449346</td>\n",
       "      <td>I get rejected a lot for my looks. What advice...</td>\n",
       "      <td>[removed]</td>\n",
       "      <td>AskMen</td>\n",
       "    </tr>\n",
       "    <tr>\n",
       "      <th>1</th>\n",
       "      <td>1580449105</td>\n",
       "      <td>Any insight on how to handle a coworker trying...</td>\n",
       "      <td>So over the past month or so, I’ve gotten pret...</td>\n",
       "      <td>AskMen</td>\n",
       "    </tr>\n",
       "    <tr>\n",
       "      <th>2</th>\n",
       "      <td>1580449020</td>\n",
       "      <td>Women of reddit, what are you really getting o...</td>\n",
       "      <td>I just became curious because I saw this porn ...</td>\n",
       "      <td>AskMen</td>\n",
       "    </tr>\n",
       "    <tr>\n",
       "      <th>3</th>\n",
       "      <td>1580448940</td>\n",
       "      <td>Resistance Band Fitness Advice Please Help</td>\n",
       "      <td>[removed]</td>\n",
       "      <td>AskMen</td>\n",
       "    </tr>\n",
       "    <tr>\n",
       "      <th>4</th>\n",
       "      <td>1580448895</td>\n",
       "      <td>A coworker is trying to set me up with another...</td>\n",
       "      <td>[removed]</td>\n",
       "      <td>AskMen</td>\n",
       "    </tr>\n",
       "    <tr>\n",
       "      <th>...</th>\n",
       "      <td>...</td>\n",
       "      <td>...</td>\n",
       "      <td>...</td>\n",
       "      <td>...</td>\n",
       "    </tr>\n",
       "    <tr>\n",
       "      <th>995</th>\n",
       "      <td>1579605259</td>\n",
       "      <td>If you could hangout with your 5 year old self...</td>\n",
       "      <td></td>\n",
       "      <td>AskMen</td>\n",
       "    </tr>\n",
       "    <tr>\n",
       "      <th>996</th>\n",
       "      <td>1579604936</td>\n",
       "      <td>What's the best way to win an argument with yo...</td>\n",
       "      <td></td>\n",
       "      <td>AskMen</td>\n",
       "    </tr>\n",
       "    <tr>\n",
       "      <th>997</th>\n",
       "      <td>1579604470</td>\n",
       "      <td>What's something you're ashamed of?</td>\n",
       "      <td></td>\n",
       "      <td>AskMen</td>\n",
       "    </tr>\n",
       "    <tr>\n",
       "      <th>998</th>\n",
       "      <td>1579604208</td>\n",
       "      <td>What are some item that are worthy of bespoke?</td>\n",
       "      <td>Shoes, jacket, etc...</td>\n",
       "      <td>AskMen</td>\n",
       "    </tr>\n",
       "    <tr>\n",
       "      <th>999</th>\n",
       "      <td>1579603748</td>\n",
       "      <td>Does she love me</td>\n",
       "      <td>So I've been freinds with her for a few months...</td>\n",
       "      <td>AskMen</td>\n",
       "    </tr>\n",
       "  </tbody>\n",
       "</table>\n",
       "<p>1000 rows × 4 columns</p>\n",
       "</div>"
      ],
      "text/plain": [
       "     created_utc                                              title  \\\n",
       "0     1580449346  I get rejected a lot for my looks. What advice...   \n",
       "1     1580449105  Any insight on how to handle a coworker trying...   \n",
       "2     1580449020  Women of reddit, what are you really getting o...   \n",
       "3     1580448940         Resistance Band Fitness Advice Please Help   \n",
       "4     1580448895  A coworker is trying to set me up with another...   \n",
       "..           ...                                                ...   \n",
       "995   1579605259  If you could hangout with your 5 year old self...   \n",
       "996   1579604936  What's the best way to win an argument with yo...   \n",
       "997   1579604470                What's something you're ashamed of?   \n",
       "998   1579604208     What are some item that are worthy of bespoke?   \n",
       "999   1579603748                                   Does she love me   \n",
       "\n",
       "                                              selftext subreddit  \n",
       "0                                            [removed]    AskMen  \n",
       "1    So over the past month or so, I’ve gotten pret...    AskMen  \n",
       "2    I just became curious because I saw this porn ...    AskMen  \n",
       "3                                            [removed]    AskMen  \n",
       "4                                            [removed]    AskMen  \n",
       "..                                                 ...       ...  \n",
       "995                                                       AskMen  \n",
       "996                                                       AskMen  \n",
       "997                                                       AskMen  \n",
       "998                              Shoes, jacket, etc...    AskMen  \n",
       "999  So I've been freinds with her for a few months...    AskMen  \n",
       "\n",
       "[1000 rows x 4 columns]"
      ]
     },
     "execution_count": 16,
     "metadata": {},
     "output_type": "execute_result"
    }
   ],
   "source": [
    "askmen[['created_utc', 'title', 'selftext', 'subreddit']]"
   ]
  },
  {
   "cell_type": "code",
   "execution_count": 17,
   "metadata": {
    "ExecuteTime": {
     "end_time": "2020-01-31T05:43:17.169156Z",
     "start_time": "2020-01-31T05:43:17.159976Z"
    }
   },
   "outputs": [
    {
     "data": {
      "text/plain": [
       "1579629540    2\n",
       "1579706758    2\n",
       "1580437127    2\n",
       "1579665374    2\n",
       "1579642901    1\n",
       "             ..\n",
       "1579614954    1\n",
       "1580396537    1\n",
       "1579708340    1\n",
       "1580434918    1\n",
       "1580362058    1\n",
       "Name: created_utc, Length: 996, dtype: int64"
      ]
     },
     "execution_count": 17,
     "metadata": {},
     "output_type": "execute_result"
    }
   ],
   "source": [
    "askmen['created_utc'].value_counts().sort_values(ascending = False)"
   ]
  },
  {
   "cell_type": "code",
   "execution_count": 18,
   "metadata": {
    "ExecuteTime": {
     "end_time": "2020-01-31T05:43:17.222259Z",
     "start_time": "2020-01-31T05:43:17.171165Z"
    },
    "scrolled": true
   },
   "outputs": [
    {
     "data": {
      "text/html": [
       "<div>\n",
       "<style scoped>\n",
       "    .dataframe tbody tr th:only-of-type {\n",
       "        vertical-align: middle;\n",
       "    }\n",
       "\n",
       "    .dataframe tbody tr th {\n",
       "        vertical-align: top;\n",
       "    }\n",
       "\n",
       "    .dataframe thead th {\n",
       "        text-align: right;\n",
       "    }\n",
       "</style>\n",
       "<table border=\"1\" class=\"dataframe\">\n",
       "  <thead>\n",
       "    <tr style=\"text-align: right;\">\n",
       "      <th></th>\n",
       "      <th>all_awardings</th>\n",
       "      <th>allow_live_comments</th>\n",
       "      <th>author</th>\n",
       "      <th>author_cakeday</th>\n",
       "      <th>author_flair_background_color</th>\n",
       "      <th>author_flair_css_class</th>\n",
       "      <th>author_flair_richtext</th>\n",
       "      <th>author_flair_template_id</th>\n",
       "      <th>author_flair_text</th>\n",
       "      <th>author_flair_text_color</th>\n",
       "      <th>...</th>\n",
       "      <th>subreddit</th>\n",
       "      <th>subreddit_id</th>\n",
       "      <th>subreddit_subscribers</th>\n",
       "      <th>subreddit_type</th>\n",
       "      <th>thumbnail</th>\n",
       "      <th>title</th>\n",
       "      <th>total_awards_received</th>\n",
       "      <th>url</th>\n",
       "      <th>whitelist_status</th>\n",
       "      <th>wls</th>\n",
       "    </tr>\n",
       "  </thead>\n",
       "  <tbody>\n",
       "    <tr>\n",
       "      <th>0</th>\n",
       "      <td>[]</td>\n",
       "      <td>False</td>\n",
       "      <td>RonReag77</td>\n",
       "      <td>NaN</td>\n",
       "      <td>NaN</td>\n",
       "      <td>None</td>\n",
       "      <td>[]</td>\n",
       "      <td>NaN</td>\n",
       "      <td>None</td>\n",
       "      <td>NaN</td>\n",
       "      <td>...</td>\n",
       "      <td>AskMen</td>\n",
       "      <td>t5_2s30g</td>\n",
       "      <td>1636380</td>\n",
       "      <td>public</td>\n",
       "      <td>self</td>\n",
       "      <td>I get rejected a lot for my looks. What advice...</td>\n",
       "      <td>0</td>\n",
       "      <td>https://www.reddit.com/r/AskMen/comments/ewjoj...</td>\n",
       "      <td>all_ads</td>\n",
       "      <td>6</td>\n",
       "    </tr>\n",
       "    <tr>\n",
       "      <th>1</th>\n",
       "      <td>[]</td>\n",
       "      <td>False</td>\n",
       "      <td>dubfegnezz</td>\n",
       "      <td>NaN</td>\n",
       "      <td>NaN</td>\n",
       "      <td>None</td>\n",
       "      <td>[]</td>\n",
       "      <td>NaN</td>\n",
       "      <td>None</td>\n",
       "      <td>NaN</td>\n",
       "      <td>...</td>\n",
       "      <td>AskMen</td>\n",
       "      <td>t5_2s30g</td>\n",
       "      <td>1636371</td>\n",
       "      <td>public</td>\n",
       "      <td>self</td>\n",
       "      <td>Any insight on how to handle a coworker trying...</td>\n",
       "      <td>0</td>\n",
       "      <td>https://www.reddit.com/r/AskMen/comments/ewjmx...</td>\n",
       "      <td>all_ads</td>\n",
       "      <td>6</td>\n",
       "    </tr>\n",
       "    <tr>\n",
       "      <th>2</th>\n",
       "      <td>[]</td>\n",
       "      <td>False</td>\n",
       "      <td>AdamtheFirstSinner</td>\n",
       "      <td>NaN</td>\n",
       "      <td>#83acfa</td>\n",
       "      <td>male</td>\n",
       "      <td>[{'e': 'text', 't': 'Professional Smartass'}]</td>\n",
       "      <td>ea22c17e-cd16-11e1-845d-12313b0ce1e2</td>\n",
       "      <td>Professional Smartass</td>\n",
       "      <td>light</td>\n",
       "      <td>...</td>\n",
       "      <td>AskMen</td>\n",
       "      <td>t5_2s30g</td>\n",
       "      <td>1636365</td>\n",
       "      <td>public</td>\n",
       "      <td>self</td>\n",
       "      <td>Women of reddit, what are you really getting o...</td>\n",
       "      <td>0</td>\n",
       "      <td>https://www.reddit.com/r/AskMen/comments/ewjmd...</td>\n",
       "      <td>all_ads</td>\n",
       "      <td>6</td>\n",
       "    </tr>\n",
       "    <tr>\n",
       "      <th>3</th>\n",
       "      <td>[]</td>\n",
       "      <td>False</td>\n",
       "      <td>AgentSuperfly17</td>\n",
       "      <td>NaN</td>\n",
       "      <td>NaN</td>\n",
       "      <td>None</td>\n",
       "      <td>[]</td>\n",
       "      <td>NaN</td>\n",
       "      <td>None</td>\n",
       "      <td>NaN</td>\n",
       "      <td>...</td>\n",
       "      <td>AskMen</td>\n",
       "      <td>t5_2s30g</td>\n",
       "      <td>1636363</td>\n",
       "      <td>public</td>\n",
       "      <td>self</td>\n",
       "      <td>Resistance Band Fitness Advice Please Help</td>\n",
       "      <td>0</td>\n",
       "      <td>https://www.reddit.com/r/AskMen/comments/ewjlw...</td>\n",
       "      <td>all_ads</td>\n",
       "      <td>6</td>\n",
       "    </tr>\n",
       "    <tr>\n",
       "      <th>4</th>\n",
       "      <td>[]</td>\n",
       "      <td>False</td>\n",
       "      <td>dubfegnezz</td>\n",
       "      <td>NaN</td>\n",
       "      <td>NaN</td>\n",
       "      <td>None</td>\n",
       "      <td>[]</td>\n",
       "      <td>NaN</td>\n",
       "      <td>None</td>\n",
       "      <td>NaN</td>\n",
       "      <td>...</td>\n",
       "      <td>AskMen</td>\n",
       "      <td>t5_2s30g</td>\n",
       "      <td>1636359</td>\n",
       "      <td>public</td>\n",
       "      <td>self</td>\n",
       "      <td>A coworker is trying to set me up with another...</td>\n",
       "      <td>0</td>\n",
       "      <td>https://www.reddit.com/r/AskMen/comments/ewjlk...</td>\n",
       "      <td>all_ads</td>\n",
       "      <td>6</td>\n",
       "    </tr>\n",
       "    <tr>\n",
       "      <th>...</th>\n",
       "      <td>...</td>\n",
       "      <td>...</td>\n",
       "      <td>...</td>\n",
       "      <td>...</td>\n",
       "      <td>...</td>\n",
       "      <td>...</td>\n",
       "      <td>...</td>\n",
       "      <td>...</td>\n",
       "      <td>...</td>\n",
       "      <td>...</td>\n",
       "      <td>...</td>\n",
       "      <td>...</td>\n",
       "      <td>...</td>\n",
       "      <td>...</td>\n",
       "      <td>...</td>\n",
       "      <td>...</td>\n",
       "      <td>...</td>\n",
       "      <td>...</td>\n",
       "      <td>...</td>\n",
       "      <td>...</td>\n",
       "      <td>...</td>\n",
       "    </tr>\n",
       "    <tr>\n",
       "      <th>995</th>\n",
       "      <td>[]</td>\n",
       "      <td>False</td>\n",
       "      <td>TheEpicRock3099</td>\n",
       "      <td>NaN</td>\n",
       "      <td>NaN</td>\n",
       "      <td>None</td>\n",
       "      <td>[]</td>\n",
       "      <td>NaN</td>\n",
       "      <td>None</td>\n",
       "      <td>NaN</td>\n",
       "      <td>...</td>\n",
       "      <td>AskMen</td>\n",
       "      <td>t5_2s30g</td>\n",
       "      <td>1612157</td>\n",
       "      <td>public</td>\n",
       "      <td>self</td>\n",
       "      <td>If you could hangout with your 5 year old self...</td>\n",
       "      <td>0</td>\n",
       "      <td>https://www.reddit.com/r/AskMen/comments/ert7z...</td>\n",
       "      <td>all_ads</td>\n",
       "      <td>6</td>\n",
       "    </tr>\n",
       "    <tr>\n",
       "      <th>996</th>\n",
       "      <td>[]</td>\n",
       "      <td>False</td>\n",
       "      <td>deco0151</td>\n",
       "      <td>NaN</td>\n",
       "      <td>NaN</td>\n",
       "      <td>None</td>\n",
       "      <td>[]</td>\n",
       "      <td>NaN</td>\n",
       "      <td>None</td>\n",
       "      <td>NaN</td>\n",
       "      <td>...</td>\n",
       "      <td>AskMen</td>\n",
       "      <td>t5_2s30g</td>\n",
       "      <td>1612148</td>\n",
       "      <td>public</td>\n",
       "      <td>self</td>\n",
       "      <td>What's the best way to win an argument with yo...</td>\n",
       "      <td>0</td>\n",
       "      <td>https://www.reddit.com/r/AskMen/comments/ert5v...</td>\n",
       "      <td>all_ads</td>\n",
       "      <td>6</td>\n",
       "    </tr>\n",
       "    <tr>\n",
       "      <th>997</th>\n",
       "      <td>[]</td>\n",
       "      <td>False</td>\n",
       "      <td>Luna_Kairo</td>\n",
       "      <td>NaN</td>\n",
       "      <td>NaN</td>\n",
       "      <td>None</td>\n",
       "      <td>[]</td>\n",
       "      <td>NaN</td>\n",
       "      <td>None</td>\n",
       "      <td>NaN</td>\n",
       "      <td>...</td>\n",
       "      <td>AskMen</td>\n",
       "      <td>t5_2s30g</td>\n",
       "      <td>1612139</td>\n",
       "      <td>public</td>\n",
       "      <td>self</td>\n",
       "      <td>What's something you're ashamed of?</td>\n",
       "      <td>0</td>\n",
       "      <td>https://www.reddit.com/r/AskMen/comments/ert2j...</td>\n",
       "      <td>all_ads</td>\n",
       "      <td>6</td>\n",
       "    </tr>\n",
       "    <tr>\n",
       "      <th>998</th>\n",
       "      <td>[]</td>\n",
       "      <td>False</td>\n",
       "      <td>hayloiuy</td>\n",
       "      <td>NaN</td>\n",
       "      <td>NaN</td>\n",
       "      <td>None</td>\n",
       "      <td>[]</td>\n",
       "      <td>NaN</td>\n",
       "      <td>None</td>\n",
       "      <td>NaN</td>\n",
       "      <td>...</td>\n",
       "      <td>AskMen</td>\n",
       "      <td>t5_2s30g</td>\n",
       "      <td>1612130</td>\n",
       "      <td>public</td>\n",
       "      <td>self</td>\n",
       "      <td>What are some item that are worthy of bespoke?</td>\n",
       "      <td>0</td>\n",
       "      <td>https://www.reddit.com/r/AskMen/comments/ert0p...</td>\n",
       "      <td>all_ads</td>\n",
       "      <td>6</td>\n",
       "    </tr>\n",
       "    <tr>\n",
       "      <th>999</th>\n",
       "      <td>[]</td>\n",
       "      <td>False</td>\n",
       "      <td>teamer2345</td>\n",
       "      <td>NaN</td>\n",
       "      <td>NaN</td>\n",
       "      <td>None</td>\n",
       "      <td>[]</td>\n",
       "      <td>NaN</td>\n",
       "      <td>None</td>\n",
       "      <td>NaN</td>\n",
       "      <td>...</td>\n",
       "      <td>AskMen</td>\n",
       "      <td>t5_2s30g</td>\n",
       "      <td>1612107</td>\n",
       "      <td>public</td>\n",
       "      <td>self</td>\n",
       "      <td>Does she love me</td>\n",
       "      <td>0</td>\n",
       "      <td>https://www.reddit.com/r/AskMen/comments/ersxz...</td>\n",
       "      <td>all_ads</td>\n",
       "      <td>6</td>\n",
       "    </tr>\n",
       "  </tbody>\n",
       "</table>\n",
       "<p>975 rows × 67 columns</p>\n",
       "</div>"
      ],
      "text/plain": [
       "    all_awardings  allow_live_comments              author author_cakeday  \\\n",
       "0              []                False           RonReag77            NaN   \n",
       "1              []                False          dubfegnezz            NaN   \n",
       "2              []                False  AdamtheFirstSinner            NaN   \n",
       "3              []                False     AgentSuperfly17            NaN   \n",
       "4              []                False          dubfegnezz            NaN   \n",
       "..            ...                  ...                 ...            ...   \n",
       "995            []                False     TheEpicRock3099            NaN   \n",
       "996            []                False            deco0151            NaN   \n",
       "997            []                False          Luna_Kairo            NaN   \n",
       "998            []                False            hayloiuy            NaN   \n",
       "999            []                False          teamer2345            NaN   \n",
       "\n",
       "    author_flair_background_color author_flair_css_class  \\\n",
       "0                             NaN                   None   \n",
       "1                             NaN                   None   \n",
       "2                         #83acfa                   male   \n",
       "3                             NaN                   None   \n",
       "4                             NaN                   None   \n",
       "..                            ...                    ...   \n",
       "995                           NaN                   None   \n",
       "996                           NaN                   None   \n",
       "997                           NaN                   None   \n",
       "998                           NaN                   None   \n",
       "999                           NaN                   None   \n",
       "\n",
       "                             author_flair_richtext  \\\n",
       "0                                               []   \n",
       "1                                               []   \n",
       "2    [{'e': 'text', 't': 'Professional Smartass'}]   \n",
       "3                                               []   \n",
       "4                                               []   \n",
       "..                                             ...   \n",
       "995                                             []   \n",
       "996                                             []   \n",
       "997                                             []   \n",
       "998                                             []   \n",
       "999                                             []   \n",
       "\n",
       "                 author_flair_template_id      author_flair_text  \\\n",
       "0                                     NaN                   None   \n",
       "1                                     NaN                   None   \n",
       "2    ea22c17e-cd16-11e1-845d-12313b0ce1e2  Professional Smartass   \n",
       "3                                     NaN                   None   \n",
       "4                                     NaN                   None   \n",
       "..                                    ...                    ...   \n",
       "995                                   NaN                   None   \n",
       "996                                   NaN                   None   \n",
       "997                                   NaN                   None   \n",
       "998                                   NaN                   None   \n",
       "999                                   NaN                   None   \n",
       "\n",
       "    author_flair_text_color  ... subreddit subreddit_id subreddit_subscribers  \\\n",
       "0                       NaN  ...    AskMen     t5_2s30g               1636380   \n",
       "1                       NaN  ...    AskMen     t5_2s30g               1636371   \n",
       "2                     light  ...    AskMen     t5_2s30g               1636365   \n",
       "3                       NaN  ...    AskMen     t5_2s30g               1636363   \n",
       "4                       NaN  ...    AskMen     t5_2s30g               1636359   \n",
       "..                      ...  ...       ...          ...                   ...   \n",
       "995                     NaN  ...    AskMen     t5_2s30g               1612157   \n",
       "996                     NaN  ...    AskMen     t5_2s30g               1612148   \n",
       "997                     NaN  ...    AskMen     t5_2s30g               1612139   \n",
       "998                     NaN  ...    AskMen     t5_2s30g               1612130   \n",
       "999                     NaN  ...    AskMen     t5_2s30g               1612107   \n",
       "\n",
       "    subreddit_type thumbnail  \\\n",
       "0           public      self   \n",
       "1           public      self   \n",
       "2           public      self   \n",
       "3           public      self   \n",
       "4           public      self   \n",
       "..             ...       ...   \n",
       "995         public      self   \n",
       "996         public      self   \n",
       "997         public      self   \n",
       "998         public      self   \n",
       "999         public      self   \n",
       "\n",
       "                                                 title  total_awards_received  \\\n",
       "0    I get rejected a lot for my looks. What advice...                      0   \n",
       "1    Any insight on how to handle a coworker trying...                      0   \n",
       "2    Women of reddit, what are you really getting o...                      0   \n",
       "3           Resistance Band Fitness Advice Please Help                      0   \n",
       "4    A coworker is trying to set me up with another...                      0   \n",
       "..                                                 ...                    ...   \n",
       "995  If you could hangout with your 5 year old self...                      0   \n",
       "996  What's the best way to win an argument with yo...                      0   \n",
       "997                What's something you're ashamed of?                      0   \n",
       "998     What are some item that are worthy of bespoke?                      0   \n",
       "999                                   Does she love me                      0   \n",
       "\n",
       "                                                   url  whitelist_status wls  \n",
       "0    https://www.reddit.com/r/AskMen/comments/ewjoj...           all_ads   6  \n",
       "1    https://www.reddit.com/r/AskMen/comments/ewjmx...           all_ads   6  \n",
       "2    https://www.reddit.com/r/AskMen/comments/ewjmd...           all_ads   6  \n",
       "3    https://www.reddit.com/r/AskMen/comments/ewjlw...           all_ads   6  \n",
       "4    https://www.reddit.com/r/AskMen/comments/ewjlk...           all_ads   6  \n",
       "..                                                 ...               ...  ..  \n",
       "995  https://www.reddit.com/r/AskMen/comments/ert7z...           all_ads   6  \n",
       "996  https://www.reddit.com/r/AskMen/comments/ert5v...           all_ads   6  \n",
       "997  https://www.reddit.com/r/AskMen/comments/ert2j...           all_ads   6  \n",
       "998  https://www.reddit.com/r/AskMen/comments/ert0p...           all_ads   6  \n",
       "999  https://www.reddit.com/r/AskMen/comments/ersxz...           all_ads   6  \n",
       "\n",
       "[975 rows x 67 columns]"
      ]
     },
     "execution_count": 18,
     "metadata": {},
     "output_type": "execute_result"
    }
   ],
   "source": [
    "askmen.drop_duplicates(subset = 'title')"
   ]
  },
  {
   "cell_type": "code",
   "execution_count": 19,
   "metadata": {
    "ExecuteTime": {
     "end_time": "2020-01-31T05:43:17.233342Z",
     "start_time": "2020-01-31T05:43:17.224467Z"
    },
    "scrolled": true
   },
   "outputs": [
    {
     "data": {
      "text/plain": [
       "999    1579603748\n",
       "998    1579604208\n",
       "997    1579604470\n",
       "996    1579604936\n",
       "995    1579605259\n",
       "          ...    \n",
       "4      1580448895\n",
       "3      1580448940\n",
       "2      1580449020\n",
       "1      1580449105\n",
       "0      1580449346\n",
       "Name: created_utc, Length: 1000, dtype: int64"
      ]
     },
     "execution_count": 19,
     "metadata": {},
     "output_type": "execute_result"
    }
   ],
   "source": [
    "askmen.sort_values(by='created_utc')['created_utc']"
   ]
  },
  {
   "cell_type": "code",
   "execution_count": 20,
   "metadata": {
    "ExecuteTime": {
     "end_time": "2020-01-31T05:43:17.865216Z",
     "start_time": "2020-01-31T05:43:17.234842Z"
    }
   },
   "outputs": [],
   "source": [
    "s_df2 = api_reddit_submissions('AskMen', 500, '&before=1579603748')"
   ]
  },
  {
   "cell_type": "code",
   "execution_count": 21,
   "metadata": {
    "ExecuteTime": {
     "end_time": "2020-01-31T05:43:17.883380Z",
     "start_time": "2020-01-31T05:43:17.866730Z"
    }
   },
   "outputs": [],
   "source": [
    "askmen = askmen.append(s_df2, ignore_index= True)"
   ]
  },
  {
   "cell_type": "code",
   "execution_count": 22,
   "metadata": {
    "ExecuteTime": {
     "end_time": "2020-01-31T05:43:17.893943Z",
     "start_time": "2020-01-31T05:43:17.884787Z"
    },
    "scrolled": true
   },
   "outputs": [
    {
     "data": {
      "text/plain": [
       "1499    1579503176\n",
       "1498    1579503415\n",
       "1497    1579503614\n",
       "1496    1579503663\n",
       "1495    1579503954\n",
       "           ...    \n",
       "4       1580448895\n",
       "3       1580448940\n",
       "2       1580449020\n",
       "1       1580449105\n",
       "0       1580449346\n",
       "Name: created_utc, Length: 1500, dtype: int64"
      ]
     },
     "execution_count": 22,
     "metadata": {},
     "output_type": "execute_result"
    }
   ],
   "source": [
    "askmen.sort_values(by='created_utc')['created_utc']"
   ]
  },
  {
   "cell_type": "code",
   "execution_count": 23,
   "metadata": {
    "ExecuteTime": {
     "end_time": "2020-01-31T05:43:17.903590Z",
     "start_time": "2020-01-31T05:43:17.898891Z"
    }
   },
   "outputs": [
    {
     "data": {
      "text/plain": [
       "660"
      ]
     },
     "execution_count": 23,
     "metadata": {},
     "output_type": "execute_result"
    }
   ],
   "source": [
    "(askmen['selftext'] == '[removed]').sum()"
   ]
  },
  {
   "cell_type": "code",
   "execution_count": 24,
   "metadata": {
    "ExecuteTime": {
     "end_time": "2020-01-31T05:43:18.480023Z",
     "start_time": "2020-01-31T05:43:17.905553Z"
    }
   },
   "outputs": [],
   "source": [
    "s_df3 = api_reddit_submissions('AskMen', 500, '&before=1579503176')"
   ]
  },
  {
   "cell_type": "code",
   "execution_count": 25,
   "metadata": {
    "ExecuteTime": {
     "end_time": "2020-01-31T05:43:19.929187Z",
     "start_time": "2020-01-31T05:43:18.481444Z"
    }
   },
   "outputs": [],
   "source": [
    "s_df4 = api_reddit_submissions('AskMen', 500, '&before=1579393459')"
   ]
  },
  {
   "cell_type": "code",
   "execution_count": 26,
   "metadata": {
    "ExecuteTime": {
     "end_time": "2020-01-31T05:43:19.948090Z",
     "start_time": "2020-01-31T05:43:19.930558Z"
    }
   },
   "outputs": [],
   "source": [
    "askmen = askmen.append(s_df3, ignore_index= True)"
   ]
  },
  {
   "cell_type": "code",
   "execution_count": 27,
   "metadata": {
    "ExecuteTime": {
     "end_time": "2020-01-31T05:43:19.972506Z",
     "start_time": "2020-01-31T05:43:19.949543Z"
    }
   },
   "outputs": [],
   "source": [
    "askmen = askmen.append(s_df4, ignore_index= True)"
   ]
  },
  {
   "cell_type": "code",
   "execution_count": 28,
   "metadata": {
    "ExecuteTime": {
     "end_time": "2020-01-31T05:43:20.020874Z",
     "start_time": "2020-01-31T05:43:19.974189Z"
    },
    "scrolled": true
   },
   "outputs": [
    {
     "data": {
      "text/html": [
       "<div>\n",
       "<style scoped>\n",
       "    .dataframe tbody tr th:only-of-type {\n",
       "        vertical-align: middle;\n",
       "    }\n",
       "\n",
       "    .dataframe tbody tr th {\n",
       "        vertical-align: top;\n",
       "    }\n",
       "\n",
       "    .dataframe thead th {\n",
       "        text-align: right;\n",
       "    }\n",
       "</style>\n",
       "<table border=\"1\" class=\"dataframe\">\n",
       "  <thead>\n",
       "    <tr style=\"text-align: right;\">\n",
       "      <th></th>\n",
       "      <th>all_awardings</th>\n",
       "      <th>allow_live_comments</th>\n",
       "      <th>author</th>\n",
       "      <th>author_cakeday</th>\n",
       "      <th>author_flair_background_color</th>\n",
       "      <th>author_flair_css_class</th>\n",
       "      <th>author_flair_richtext</th>\n",
       "      <th>author_flair_template_id</th>\n",
       "      <th>author_flair_text</th>\n",
       "      <th>author_flair_text_color</th>\n",
       "      <th>...</th>\n",
       "      <th>subreddit</th>\n",
       "      <th>subreddit_id</th>\n",
       "      <th>subreddit_subscribers</th>\n",
       "      <th>subreddit_type</th>\n",
       "      <th>thumbnail</th>\n",
       "      <th>title</th>\n",
       "      <th>total_awards_received</th>\n",
       "      <th>url</th>\n",
       "      <th>whitelist_status</th>\n",
       "      <th>wls</th>\n",
       "    </tr>\n",
       "  </thead>\n",
       "  <tbody>\n",
       "    <tr>\n",
       "      <th>0</th>\n",
       "      <td>[]</td>\n",
       "      <td>False</td>\n",
       "      <td>RonReag77</td>\n",
       "      <td>NaN</td>\n",
       "      <td>NaN</td>\n",
       "      <td>None</td>\n",
       "      <td>[]</td>\n",
       "      <td>NaN</td>\n",
       "      <td>None</td>\n",
       "      <td>NaN</td>\n",
       "      <td>...</td>\n",
       "      <td>AskMen</td>\n",
       "      <td>t5_2s30g</td>\n",
       "      <td>1636380</td>\n",
       "      <td>public</td>\n",
       "      <td>self</td>\n",
       "      <td>I get rejected a lot for my looks. What advice...</td>\n",
       "      <td>0</td>\n",
       "      <td>https://www.reddit.com/r/AskMen/comments/ewjoj...</td>\n",
       "      <td>all_ads</td>\n",
       "      <td>6</td>\n",
       "    </tr>\n",
       "    <tr>\n",
       "      <th>1</th>\n",
       "      <td>[]</td>\n",
       "      <td>False</td>\n",
       "      <td>dubfegnezz</td>\n",
       "      <td>NaN</td>\n",
       "      <td>NaN</td>\n",
       "      <td>None</td>\n",
       "      <td>[]</td>\n",
       "      <td>NaN</td>\n",
       "      <td>None</td>\n",
       "      <td>NaN</td>\n",
       "      <td>...</td>\n",
       "      <td>AskMen</td>\n",
       "      <td>t5_2s30g</td>\n",
       "      <td>1636371</td>\n",
       "      <td>public</td>\n",
       "      <td>self</td>\n",
       "      <td>Any insight on how to handle a coworker trying...</td>\n",
       "      <td>0</td>\n",
       "      <td>https://www.reddit.com/r/AskMen/comments/ewjmx...</td>\n",
       "      <td>all_ads</td>\n",
       "      <td>6</td>\n",
       "    </tr>\n",
       "    <tr>\n",
       "      <th>2</th>\n",
       "      <td>[]</td>\n",
       "      <td>False</td>\n",
       "      <td>AdamtheFirstSinner</td>\n",
       "      <td>NaN</td>\n",
       "      <td>#83acfa</td>\n",
       "      <td>male</td>\n",
       "      <td>[{'e': 'text', 't': 'Professional Smartass'}]</td>\n",
       "      <td>ea22c17e-cd16-11e1-845d-12313b0ce1e2</td>\n",
       "      <td>Professional Smartass</td>\n",
       "      <td>light</td>\n",
       "      <td>...</td>\n",
       "      <td>AskMen</td>\n",
       "      <td>t5_2s30g</td>\n",
       "      <td>1636365</td>\n",
       "      <td>public</td>\n",
       "      <td>self</td>\n",
       "      <td>Women of reddit, what are you really getting o...</td>\n",
       "      <td>0</td>\n",
       "      <td>https://www.reddit.com/r/AskMen/comments/ewjmd...</td>\n",
       "      <td>all_ads</td>\n",
       "      <td>6</td>\n",
       "    </tr>\n",
       "    <tr>\n",
       "      <th>3</th>\n",
       "      <td>[]</td>\n",
       "      <td>False</td>\n",
       "      <td>AgentSuperfly17</td>\n",
       "      <td>NaN</td>\n",
       "      <td>NaN</td>\n",
       "      <td>None</td>\n",
       "      <td>[]</td>\n",
       "      <td>NaN</td>\n",
       "      <td>None</td>\n",
       "      <td>NaN</td>\n",
       "      <td>...</td>\n",
       "      <td>AskMen</td>\n",
       "      <td>t5_2s30g</td>\n",
       "      <td>1636363</td>\n",
       "      <td>public</td>\n",
       "      <td>self</td>\n",
       "      <td>Resistance Band Fitness Advice Please Help</td>\n",
       "      <td>0</td>\n",
       "      <td>https://www.reddit.com/r/AskMen/comments/ewjlw...</td>\n",
       "      <td>all_ads</td>\n",
       "      <td>6</td>\n",
       "    </tr>\n",
       "    <tr>\n",
       "      <th>4</th>\n",
       "      <td>[]</td>\n",
       "      <td>False</td>\n",
       "      <td>dubfegnezz</td>\n",
       "      <td>NaN</td>\n",
       "      <td>NaN</td>\n",
       "      <td>None</td>\n",
       "      <td>[]</td>\n",
       "      <td>NaN</td>\n",
       "      <td>None</td>\n",
       "      <td>NaN</td>\n",
       "      <td>...</td>\n",
       "      <td>AskMen</td>\n",
       "      <td>t5_2s30g</td>\n",
       "      <td>1636359</td>\n",
       "      <td>public</td>\n",
       "      <td>self</td>\n",
       "      <td>A coworker is trying to set me up with another...</td>\n",
       "      <td>0</td>\n",
       "      <td>https://www.reddit.com/r/AskMen/comments/ewjlk...</td>\n",
       "      <td>all_ads</td>\n",
       "      <td>6</td>\n",
       "    </tr>\n",
       "    <tr>\n",
       "      <th>...</th>\n",
       "      <td>...</td>\n",
       "      <td>...</td>\n",
       "      <td>...</td>\n",
       "      <td>...</td>\n",
       "      <td>...</td>\n",
       "      <td>...</td>\n",
       "      <td>...</td>\n",
       "      <td>...</td>\n",
       "      <td>...</td>\n",
       "      <td>...</td>\n",
       "      <td>...</td>\n",
       "      <td>...</td>\n",
       "      <td>...</td>\n",
       "      <td>...</td>\n",
       "      <td>...</td>\n",
       "      <td>...</td>\n",
       "      <td>...</td>\n",
       "      <td>...</td>\n",
       "      <td>...</td>\n",
       "      <td>...</td>\n",
       "      <td>...</td>\n",
       "    </tr>\n",
       "    <tr>\n",
       "      <th>2495</th>\n",
       "      <td>[]</td>\n",
       "      <td>False</td>\n",
       "      <td>anonymmm01</td>\n",
       "      <td>NaN</td>\n",
       "      <td>NaN</td>\n",
       "      <td>None</td>\n",
       "      <td>[]</td>\n",
       "      <td>NaN</td>\n",
       "      <td>None</td>\n",
       "      <td>NaN</td>\n",
       "      <td>...</td>\n",
       "      <td>AskMen</td>\n",
       "      <td>t5_2s30g</td>\n",
       "      <td>1603742</td>\n",
       "      <td>public</td>\n",
       "      <td>self</td>\n",
       "      <td>Why would he leave a \"printed\" love letter?</td>\n",
       "      <td>0</td>\n",
       "      <td>https://www.reddit.com/r/AskMen/comments/eq7ri...</td>\n",
       "      <td>all_ads</td>\n",
       "      <td>6</td>\n",
       "    </tr>\n",
       "    <tr>\n",
       "      <th>2496</th>\n",
       "      <td>[]</td>\n",
       "      <td>False</td>\n",
       "      <td>DiscountVoodoo</td>\n",
       "      <td>NaN</td>\n",
       "      <td>NaN</td>\n",
       "      <td>None</td>\n",
       "      <td>[]</td>\n",
       "      <td>NaN</td>\n",
       "      <td>None</td>\n",
       "      <td>NaN</td>\n",
       "      <td>...</td>\n",
       "      <td>AskMen</td>\n",
       "      <td>t5_2s30g</td>\n",
       "      <td>1603724</td>\n",
       "      <td>public</td>\n",
       "      <td>nsfw</td>\n",
       "      <td>If Pornhub was approved to run its own ad duri...</td>\n",
       "      <td>0</td>\n",
       "      <td>https://www.reddit.com/r/AskMen/comments/eq7m4...</td>\n",
       "      <td>promo_adult_nsfw</td>\n",
       "      <td>3</td>\n",
       "    </tr>\n",
       "    <tr>\n",
       "      <th>2497</th>\n",
       "      <td>[]</td>\n",
       "      <td>False</td>\n",
       "      <td>FryingSaucers</td>\n",
       "      <td>NaN</td>\n",
       "      <td>NaN</td>\n",
       "      <td>None</td>\n",
       "      <td>[]</td>\n",
       "      <td>NaN</td>\n",
       "      <td>None</td>\n",
       "      <td>NaN</td>\n",
       "      <td>...</td>\n",
       "      <td>AskMen</td>\n",
       "      <td>t5_2s30g</td>\n",
       "      <td>1603723</td>\n",
       "      <td>public</td>\n",
       "      <td>self</td>\n",
       "      <td>What’s the most endearing thing a girl can do?</td>\n",
       "      <td>0</td>\n",
       "      <td>https://www.reddit.com/r/AskMen/comments/eq7jv...</td>\n",
       "      <td>all_ads</td>\n",
       "      <td>6</td>\n",
       "    </tr>\n",
       "    <tr>\n",
       "      <th>2498</th>\n",
       "      <td>[]</td>\n",
       "      <td>False</td>\n",
       "      <td>dubsrb</td>\n",
       "      <td>NaN</td>\n",
       "      <td>NaN</td>\n",
       "      <td>None</td>\n",
       "      <td>[]</td>\n",
       "      <td>NaN</td>\n",
       "      <td>None</td>\n",
       "      <td>NaN</td>\n",
       "      <td>...</td>\n",
       "      <td>AskMen</td>\n",
       "      <td>t5_2s30g</td>\n",
       "      <td>1603719</td>\n",
       "      <td>public</td>\n",
       "      <td>self</td>\n",
       "      <td>LTR breakup success stories.</td>\n",
       "      <td>0</td>\n",
       "      <td>https://www.reddit.com/r/AskMen/comments/eq7ir...</td>\n",
       "      <td>all_ads</td>\n",
       "      <td>6</td>\n",
       "    </tr>\n",
       "    <tr>\n",
       "      <th>2499</th>\n",
       "      <td>[]</td>\n",
       "      <td>False</td>\n",
       "      <td>Quietter</td>\n",
       "      <td>NaN</td>\n",
       "      <td>NaN</td>\n",
       "      <td>None</td>\n",
       "      <td>[]</td>\n",
       "      <td>NaN</td>\n",
       "      <td>None</td>\n",
       "      <td>NaN</td>\n",
       "      <td>...</td>\n",
       "      <td>AskMen</td>\n",
       "      <td>t5_2s30g</td>\n",
       "      <td>1603715</td>\n",
       "      <td>public</td>\n",
       "      <td>self</td>\n",
       "      <td>How many pairs of shoes do you own?</td>\n",
       "      <td>0</td>\n",
       "      <td>https://www.reddit.com/r/AskMen/comments/eq7fs...</td>\n",
       "      <td>all_ads</td>\n",
       "      <td>6</td>\n",
       "    </tr>\n",
       "  </tbody>\n",
       "</table>\n",
       "<p>2443 rows × 67 columns</p>\n",
       "</div>"
      ],
      "text/plain": [
       "     all_awardings  allow_live_comments              author author_cakeday  \\\n",
       "0               []                False           RonReag77            NaN   \n",
       "1               []                False          dubfegnezz            NaN   \n",
       "2               []                False  AdamtheFirstSinner            NaN   \n",
       "3               []                False     AgentSuperfly17            NaN   \n",
       "4               []                False          dubfegnezz            NaN   \n",
       "...            ...                  ...                 ...            ...   \n",
       "2495            []                False          anonymmm01            NaN   \n",
       "2496            []                False      DiscountVoodoo            NaN   \n",
       "2497            []                False       FryingSaucers            NaN   \n",
       "2498            []                False              dubsrb            NaN   \n",
       "2499            []                False            Quietter            NaN   \n",
       "\n",
       "     author_flair_background_color author_flair_css_class  \\\n",
       "0                              NaN                   None   \n",
       "1                              NaN                   None   \n",
       "2                          #83acfa                   male   \n",
       "3                              NaN                   None   \n",
       "4                              NaN                   None   \n",
       "...                            ...                    ...   \n",
       "2495                           NaN                   None   \n",
       "2496                           NaN                   None   \n",
       "2497                           NaN                   None   \n",
       "2498                           NaN                   None   \n",
       "2499                           NaN                   None   \n",
       "\n",
       "                              author_flair_richtext  \\\n",
       "0                                                []   \n",
       "1                                                []   \n",
       "2     [{'e': 'text', 't': 'Professional Smartass'}]   \n",
       "3                                                []   \n",
       "4                                                []   \n",
       "...                                             ...   \n",
       "2495                                             []   \n",
       "2496                                             []   \n",
       "2497                                             []   \n",
       "2498                                             []   \n",
       "2499                                             []   \n",
       "\n",
       "                  author_flair_template_id      author_flair_text  \\\n",
       "0                                      NaN                   None   \n",
       "1                                      NaN                   None   \n",
       "2     ea22c17e-cd16-11e1-845d-12313b0ce1e2  Professional Smartass   \n",
       "3                                      NaN                   None   \n",
       "4                                      NaN                   None   \n",
       "...                                    ...                    ...   \n",
       "2495                                   NaN                   None   \n",
       "2496                                   NaN                   None   \n",
       "2497                                   NaN                   None   \n",
       "2498                                   NaN                   None   \n",
       "2499                                   NaN                   None   \n",
       "\n",
       "     author_flair_text_color  ... subreddit subreddit_id  \\\n",
       "0                        NaN  ...    AskMen     t5_2s30g   \n",
       "1                        NaN  ...    AskMen     t5_2s30g   \n",
       "2                      light  ...    AskMen     t5_2s30g   \n",
       "3                        NaN  ...    AskMen     t5_2s30g   \n",
       "4                        NaN  ...    AskMen     t5_2s30g   \n",
       "...                      ...  ...       ...          ...   \n",
       "2495                     NaN  ...    AskMen     t5_2s30g   \n",
       "2496                     NaN  ...    AskMen     t5_2s30g   \n",
       "2497                     NaN  ...    AskMen     t5_2s30g   \n",
       "2498                     NaN  ...    AskMen     t5_2s30g   \n",
       "2499                     NaN  ...    AskMen     t5_2s30g   \n",
       "\n",
       "     subreddit_subscribers subreddit_type thumbnail  \\\n",
       "0                  1636380         public      self   \n",
       "1                  1636371         public      self   \n",
       "2                  1636365         public      self   \n",
       "3                  1636363         public      self   \n",
       "4                  1636359         public      self   \n",
       "...                    ...            ...       ...   \n",
       "2495               1603742         public      self   \n",
       "2496               1603724         public      nsfw   \n",
       "2497               1603723         public      self   \n",
       "2498               1603719         public      self   \n",
       "2499               1603715         public      self   \n",
       "\n",
       "                                                  title  \\\n",
       "0     I get rejected a lot for my looks. What advice...   \n",
       "1     Any insight on how to handle a coworker trying...   \n",
       "2     Women of reddit, what are you really getting o...   \n",
       "3            Resistance Band Fitness Advice Please Help   \n",
       "4     A coworker is trying to set me up with another...   \n",
       "...                                                 ...   \n",
       "2495        Why would he leave a \"printed\" love letter?   \n",
       "2496  If Pornhub was approved to run its own ad duri...   \n",
       "2497     What’s the most endearing thing a girl can do?   \n",
       "2498                       LTR breakup success stories.   \n",
       "2499                How many pairs of shoes do you own?   \n",
       "\n",
       "      total_awards_received  \\\n",
       "0                         0   \n",
       "1                         0   \n",
       "2                         0   \n",
       "3                         0   \n",
       "4                         0   \n",
       "...                     ...   \n",
       "2495                      0   \n",
       "2496                      0   \n",
       "2497                      0   \n",
       "2498                      0   \n",
       "2499                      0   \n",
       "\n",
       "                                                    url  whitelist_status wls  \n",
       "0     https://www.reddit.com/r/AskMen/comments/ewjoj...           all_ads   6  \n",
       "1     https://www.reddit.com/r/AskMen/comments/ewjmx...           all_ads   6  \n",
       "2     https://www.reddit.com/r/AskMen/comments/ewjmd...           all_ads   6  \n",
       "3     https://www.reddit.com/r/AskMen/comments/ewjlw...           all_ads   6  \n",
       "4     https://www.reddit.com/r/AskMen/comments/ewjlk...           all_ads   6  \n",
       "...                                                 ...               ...  ..  \n",
       "2495  https://www.reddit.com/r/AskMen/comments/eq7ri...           all_ads   6  \n",
       "2496  https://www.reddit.com/r/AskMen/comments/eq7m4...  promo_adult_nsfw   3  \n",
       "2497  https://www.reddit.com/r/AskMen/comments/eq7jv...           all_ads   6  \n",
       "2498  https://www.reddit.com/r/AskMen/comments/eq7ir...           all_ads   6  \n",
       "2499  https://www.reddit.com/r/AskMen/comments/eq7fs...           all_ads   6  \n",
       "\n",
       "[2443 rows x 67 columns]"
      ]
     },
     "execution_count": 28,
     "metadata": {},
     "output_type": "execute_result"
    }
   ],
   "source": [
    "askmen.drop_duplicates(subset = 'title')"
   ]
  },
  {
   "cell_type": "code",
   "execution_count": 29,
   "metadata": {
    "ExecuteTime": {
     "end_time": "2020-01-31T05:43:20.420334Z",
     "start_time": "2020-01-31T05:43:20.022177Z"
    }
   },
   "outputs": [],
   "source": [
    "s_df5 = api_reddit_submissions('AskMen', 500, '&before=1580172028')"
   ]
  },
  {
   "cell_type": "code",
   "execution_count": 30,
   "metadata": {
    "ExecuteTime": {
     "end_time": "2020-01-31T05:43:20.443319Z",
     "start_time": "2020-01-31T05:43:20.421952Z"
    }
   },
   "outputs": [],
   "source": [
    "askmen = askmen.append(s_df5, ignore_index= True)"
   ]
  },
  {
   "cell_type": "code",
   "execution_count": 31,
   "metadata": {
    "ExecuteTime": {
     "end_time": "2020-01-31T05:43:20.447720Z",
     "start_time": "2020-01-31T05:43:20.444993Z"
    }
   },
   "outputs": [],
   "source": [
    "#s_df6 = api_reddit_submissions('AskMen', 500, '&before=1569710115')"
   ]
  },
  {
   "cell_type": "code",
   "execution_count": 32,
   "metadata": {
    "ExecuteTime": {
     "end_time": "2020-01-31T05:43:20.451456Z",
     "start_time": "2020-01-31T05:43:20.449157Z"
    }
   },
   "outputs": [],
   "source": [
    "#askmen = askmen.append(s_df6, ignore_index= True)"
   ]
  },
  {
   "cell_type": "code",
   "execution_count": 33,
   "metadata": {
    "ExecuteTime": {
     "end_time": "2020-01-31T05:43:20.456593Z",
     "start_time": "2020-01-31T05:43:20.452908Z"
    }
   },
   "outputs": [
    {
     "data": {
      "text/plain": [
       "(3000, 67)"
      ]
     },
     "execution_count": 33,
     "metadata": {},
     "output_type": "execute_result"
    }
   ],
   "source": [
    "askmen.shape"
   ]
  },
  {
   "cell_type": "code",
   "execution_count": 34,
   "metadata": {
    "ExecuteTime": {
     "end_time": "2020-01-31T05:43:20.473133Z",
     "start_time": "2020-01-31T05:43:20.458241Z"
    }
   },
   "outputs": [],
   "source": [
    "askmen = askmen.drop_duplicates(subset = ['title'])"
   ]
  },
  {
   "cell_type": "code",
   "execution_count": 35,
   "metadata": {
    "ExecuteTime": {
     "end_time": "2020-01-31T05:43:20.479447Z",
     "start_time": "2020-01-31T05:43:20.475346Z"
    }
   },
   "outputs": [
    {
     "data": {
      "text/plain": [
       "(2936, 67)"
      ]
     },
     "execution_count": 35,
     "metadata": {},
     "output_type": "execute_result"
    }
   ],
   "source": [
    "askmen.shape"
   ]
  },
  {
   "cell_type": "code",
   "execution_count": 36,
   "metadata": {
    "ExecuteTime": {
     "end_time": "2020-01-31T05:43:20.487927Z",
     "start_time": "2020-01-31T05:43:20.481023Z"
    }
   },
   "outputs": [
    {
     "data": {
      "text/plain": [
       "1579665374    2\n",
       "1580437127    2\n",
       "1579393799    2\n",
       "1580101530    2\n",
       "1579465469    2\n",
       "Name: created_utc, dtype: int64"
      ]
     },
     "execution_count": 36,
     "metadata": {},
     "output_type": "execute_result"
    }
   ],
   "source": [
    "askmen['created_utc'].value_counts().sort_values(ascending = False).head()"
   ]
  },
  {
   "cell_type": "code",
   "execution_count": 37,
   "metadata": {
    "ExecuteTime": {
     "end_time": "2020-01-31T05:43:20.493555Z",
     "start_time": "2020-01-31T05:43:20.489673Z"
    }
   },
   "outputs": [],
   "source": [
    "def append_new(dataframe, subreddit, number = 500, date = ''):\n",
    "    new = api_reddit_submissions({subreddit}, {number}, {date})\n",
    "    df = dataframe.append(new, ignore_index = True)\n",
    "    df = dataframe.drop_duplicates(subset = 'title')\n",
    "    return df"
   ]
  },
  {
   "cell_type": "code",
   "execution_count": 38,
   "metadata": {
    "ExecuteTime": {
     "end_time": "2020-01-31T05:43:20.969757Z",
     "start_time": "2020-01-31T05:43:20.495143Z"
    }
   },
   "outputs": [],
   "source": [
    "w_df = api_reddit_submissions('AskWomen', 500)"
   ]
  },
  {
   "cell_type": "code",
   "execution_count": 39,
   "metadata": {
    "ExecuteTime": {
     "end_time": "2020-01-31T05:43:20.977189Z",
     "start_time": "2020-01-31T05:43:20.971223Z"
    },
    "scrolled": true
   },
   "outputs": [
    {
     "data": {
      "text/plain": [
       "499    1580324676\n",
       "498    1580324960\n",
       "497    1580325414\n",
       "496    1580325434\n",
       "495    1580325525\n",
       "          ...    \n",
       "4      1580447677\n",
       "3      1580447735\n",
       "2      1580447758\n",
       "1      1580448711\n",
       "0      1580448872\n",
       "Name: created_utc, Length: 500, dtype: int64"
      ]
     },
     "execution_count": 39,
     "metadata": {},
     "output_type": "execute_result"
    }
   ],
   "source": [
    "w_df.sort_values(by='created_utc')['created_utc']"
   ]
  },
  {
   "cell_type": "code",
   "execution_count": 40,
   "metadata": {
    "ExecuteTime": {
     "end_time": "2020-01-31T05:43:20.984735Z",
     "start_time": "2020-01-31T05:43:20.978715Z"
    }
   },
   "outputs": [
    {
     "data": {
      "text/plain": [
       "['link_flair_template_id', 'link_flair_text', 'steward_reports']"
      ]
     },
     "execution_count": 40,
     "metadata": {},
     "output_type": "execute_result"
    }
   ],
   "source": [
    "[column for column in askmen if column not in w_df]"
   ]
  },
  {
   "cell_type": "code",
   "execution_count": 41,
   "metadata": {
    "ExecuteTime": {
     "end_time": "2020-01-31T05:43:20.988030Z",
     "start_time": "2020-01-31T05:43:20.986068Z"
    }
   },
   "outputs": [],
   "source": [
    "#check out subreddit stats .com\n",
    "#show graph of predict proba for different models used, high confidence, examine residuals\n",
    "#focus on model evaluation in terms of business need"
   ]
  },
  {
   "cell_type": "code",
   "execution_count": 42,
   "metadata": {
    "ExecuteTime": {
     "end_time": "2020-01-31T05:43:20.993645Z",
     "start_time": "2020-01-31T05:43:20.989586Z"
    },
    "scrolled": true
   },
   "outputs": [
    {
     "data": {
      "text/plain": [
       "Index(['all_awardings', 'allow_live_comments', 'author', 'author_cakeday',\n",
       "       'author_flair_background_color', 'author_flair_css_class',\n",
       "       'author_flair_richtext', 'author_flair_template_id',\n",
       "       'author_flair_text', 'author_flair_text_color', 'author_flair_type',\n",
       "       'author_fullname', 'author_patreon_flair', 'author_premium', 'awarders',\n",
       "       'banned_by', 'can_mod_post', 'contest_mode', 'created_utc', 'domain',\n",
       "       'edited', 'full_link', 'gildings', 'id', 'is_crosspostable', 'is_meta',\n",
       "       'is_original_content', 'is_reddit_media_domain', 'is_robot_indexable',\n",
       "       'is_self', 'is_video', 'link_flair_background_color',\n",
       "       'link_flair_richtext', 'link_flair_template_id', 'link_flair_text',\n",
       "       'link_flair_text_color', 'link_flair_type', 'locked', 'media_only',\n",
       "       'no_follow', 'num_comments', 'num_crossposts', 'over_18',\n",
       "       'parent_whitelist_status', 'permalink', 'pinned', 'post_hint',\n",
       "       'preview', 'pwls', 'removed_by_category', 'retrieved_on', 'score',\n",
       "       'selftext', 'send_replies', 'spoiler', 'steward_reports', 'stickied',\n",
       "       'subreddit', 'subreddit_id', 'subreddit_subscribers', 'subreddit_type',\n",
       "       'thumbnail', 'title', 'total_awards_received', 'url',\n",
       "       'whitelist_status', 'wls'],\n",
       "      dtype='object')"
      ]
     },
     "execution_count": 42,
     "metadata": {},
     "output_type": "execute_result"
    }
   ],
   "source": [
    "askmen.columns"
   ]
  },
  {
   "cell_type": "code",
   "execution_count": 43,
   "metadata": {
    "ExecuteTime": {
     "end_time": "2020-01-31T05:43:21.118486Z",
     "start_time": "2020-01-31T05:43:20.995208Z"
    }
   },
   "outputs": [],
   "source": [
    "askmen.to_csv('../Data/askmen_df.csv', index = False)"
   ]
  },
  {
   "cell_type": "code",
   "execution_count": 44,
   "metadata": {
    "ExecuteTime": {
     "end_time": "2020-01-31T05:43:21.551414Z",
     "start_time": "2020-01-31T05:43:21.119837Z"
    }
   },
   "outputs": [],
   "source": [
    "w_df2 = api_reddit_submissions('AskWomen', 500, '&before=1580316993')"
   ]
  },
  {
   "cell_type": "code",
   "execution_count": 45,
   "metadata": {
    "ExecuteTime": {
     "end_time": "2020-01-31T05:43:21.572187Z",
     "start_time": "2020-01-31T05:43:21.553036Z"
    }
   },
   "outputs": [],
   "source": [
    "askwomen = w_df.append(w_df2, ignore_index=True)"
   ]
  },
  {
   "cell_type": "code",
   "execution_count": 46,
   "metadata": {
    "ExecuteTime": {
     "end_time": "2020-01-31T05:43:21.583069Z",
     "start_time": "2020-01-31T05:43:21.573817Z"
    }
   },
   "outputs": [
    {
     "data": {
      "text/plain": [
       "999    1580183155\n",
       "998    1580183301\n",
       "997    1580183532\n",
       "996    1580183929\n",
       "995    1580183956\n",
       "          ...    \n",
       "4      1580447677\n",
       "3      1580447735\n",
       "2      1580447758\n",
       "1      1580448711\n",
       "0      1580448872\n",
       "Name: created_utc, Length: 1000, dtype: int64"
      ]
     },
     "execution_count": 46,
     "metadata": {},
     "output_type": "execute_result"
    }
   ],
   "source": [
    "askwomen.sort_values(by='created_utc')['created_utc']"
   ]
  },
  {
   "cell_type": "code",
   "execution_count": 47,
   "metadata": {
    "ExecuteTime": {
     "end_time": "2020-01-31T05:43:22.173902Z",
     "start_time": "2020-01-31T05:43:21.584931Z"
    }
   },
   "outputs": [],
   "source": [
    "w_df3 = api_reddit_submissions('AskWomen', 500, '&before=1578973104')"
   ]
  },
  {
   "cell_type": "code",
   "execution_count": 48,
   "metadata": {
    "ExecuteTime": {
     "end_time": "2020-01-31T05:43:22.197731Z",
     "start_time": "2020-01-31T05:43:22.175518Z"
    }
   },
   "outputs": [],
   "source": [
    "askwomen = w_df.append(w_df3, ignore_index=True)"
   ]
  },
  {
   "cell_type": "code",
   "execution_count": 49,
   "metadata": {
    "ExecuteTime": {
     "end_time": "2020-01-31T05:43:22.683059Z",
     "start_time": "2020-01-31T05:43:22.199905Z"
    }
   },
   "outputs": [],
   "source": [
    "w_df4 = api_reddit_submissions('AskWomen', 500, '&before=1578846242')"
   ]
  },
  {
   "cell_type": "code",
   "execution_count": 50,
   "metadata": {
    "ExecuteTime": {
     "end_time": "2020-01-31T05:43:22.700816Z",
     "start_time": "2020-01-31T05:43:22.684359Z"
    }
   },
   "outputs": [],
   "source": [
    "askwomen = w_df.append(w_df4, ignore_index=True)"
   ]
  },
  {
   "cell_type": "code",
   "execution_count": 51,
   "metadata": {
    "ExecuteTime": {
     "end_time": "2020-01-31T05:43:23.284329Z",
     "start_time": "2020-01-31T05:43:22.702675Z"
    }
   },
   "outputs": [],
   "source": [
    "w_df5 = api_reddit_submissions('AskWomen', 500, '&before=1578702848')"
   ]
  },
  {
   "cell_type": "code",
   "execution_count": 52,
   "metadata": {
    "ExecuteTime": {
     "end_time": "2020-01-31T05:43:23.309421Z",
     "start_time": "2020-01-31T05:43:23.285771Z"
    }
   },
   "outputs": [],
   "source": [
    "askwomen = askwomen.append(w_df5, ignore_index=True)"
   ]
  },
  {
   "cell_type": "code",
   "execution_count": 60,
   "metadata": {
    "ExecuteTime": {
     "end_time": "2020-01-31T05:43:51.583757Z",
     "start_time": "2020-01-31T05:43:50.995141Z"
    }
   },
   "outputs": [],
   "source": [
    "w_df6 = api_reddit_submissions('AskWomen', 500, '&before=1532838140')"
   ]
  },
  {
   "cell_type": "code",
   "execution_count": 61,
   "metadata": {
    "ExecuteTime": {
     "end_time": "2020-01-31T05:43:51.603910Z",
     "start_time": "2020-01-31T05:43:51.585675Z"
    }
   },
   "outputs": [],
   "source": [
    "askwomen = askwomen.append(w_df6, ignore_index=True)"
   ]
  },
  {
   "cell_type": "code",
   "execution_count": 62,
   "metadata": {
    "ExecuteTime": {
     "end_time": "2020-01-31T05:43:52.224271Z",
     "start_time": "2020-01-31T05:43:52.219133Z"
    }
   },
   "outputs": [
    {
     "data": {
      "text/plain": [
       "997"
      ]
     },
     "execution_count": 62,
     "metadata": {},
     "output_type": "execute_result"
    }
   ],
   "source": [
    "(askwomen['selftext'] == '[removed]').sum()"
   ]
  },
  {
   "cell_type": "code",
   "execution_count": 63,
   "metadata": {
    "ExecuteTime": {
     "end_time": "2020-01-31T05:43:52.953608Z",
     "start_time": "2020-01-31T05:43:52.949893Z"
    }
   },
   "outputs": [
    {
     "data": {
      "text/plain": [
       "(1985, 67)"
      ]
     },
     "execution_count": 63,
     "metadata": {},
     "output_type": "execute_result"
    }
   ],
   "source": [
    "askwomen.shape"
   ]
  },
  {
   "cell_type": "code",
   "execution_count": 70,
   "metadata": {
    "ExecuteTime": {
     "end_time": "2020-01-31T05:48:51.300048Z",
     "start_time": "2020-01-31T05:48:50.785366Z"
    }
   },
   "outputs": [],
   "source": [
    "w_df6 = api_reddit_submissions('AskWomen', 500, '&before=1532415820')\n",
    "\n",
    "askwomen = askwomen.append(w_df6, ignore_index=True)"
   ]
  },
  {
   "cell_type": "code",
   "execution_count": 72,
   "metadata": {
    "ExecuteTime": {
     "end_time": "2020-01-31T05:48:53.838042Z",
     "start_time": "2020-01-31T05:48:53.828774Z"
    }
   },
   "outputs": [],
   "source": [
    "askwomen = askwomen.drop_duplicates(subset = ['title'])"
   ]
  },
  {
   "cell_type": "code",
   "execution_count": 73,
   "metadata": {
    "ExecuteTime": {
     "end_time": "2020-01-31T05:48:53.849278Z",
     "start_time": "2020-01-31T05:48:53.839758Z"
    }
   },
   "outputs": [
    {
     "data": {
      "text/plain": [
       "2969    1532223476\n",
       "2968    1532223840\n",
       "2967    1532224280\n",
       "2966    1532224304\n",
       "2965    1532225166\n",
       "           ...    \n",
       "4       1580447677\n",
       "3       1580447735\n",
       "2       1580447758\n",
       "1       1580448711\n",
       "0       1580448872\n",
       "Name: created_utc, Length: 2964, dtype: int64"
      ]
     },
     "execution_count": 73,
     "metadata": {},
     "output_type": "execute_result"
    }
   ],
   "source": [
    "askwomen.sort_values(by='created_utc')['created_utc']"
   ]
  },
  {
   "cell_type": "code",
   "execution_count": 74,
   "metadata": {
    "ExecuteTime": {
     "end_time": "2020-01-31T05:48:55.595106Z",
     "start_time": "2020-01-31T05:48:55.484154Z"
    }
   },
   "outputs": [],
   "source": [
    "askwomen.to_csv('../Data/askwomen_df.csv', index = False)"
   ]
  },
  {
   "cell_type": "code",
   "execution_count": null,
   "metadata": {},
   "outputs": [],
   "source": []
  }
 ],
 "metadata": {
  "kernelspec": {
   "display_name": "Python 3",
   "language": "python",
   "name": "python3"
  },
  "language_info": {
   "codemirror_mode": {
    "name": "ipython",
    "version": 3
   },
   "file_extension": ".py",
   "mimetype": "text/x-python",
   "name": "python",
   "nbconvert_exporter": "python",
   "pygments_lexer": "ipython3",
   "version": "3.7.4"
  }
 },
 "nbformat": 4,
 "nbformat_minor": 2
}
